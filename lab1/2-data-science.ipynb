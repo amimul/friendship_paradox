{
 "cells": [
  {
   "cell_type": "markdown",
   "metadata": {
    "deletable": true,
    "editable": true
   },
   "source": [
    "# Data Science\n",
    "\n",
    "Python is the [language of choice](https://www.quora.com/Why-is-Python-a-language-of-choice-for-data-scientists) for [Data Science](https://en.wikipedia.org/wiki/Data_science). In fact, there exists tons of powerful and well-maintained libraries to support you. We will introduce the most useful ones in this notebook."
   ]
  },
  {
   "cell_type": "markdown",
   "metadata": {
    "deletable": true,
    "editable": true
   },
   "source": [
    "## Numpy\n",
    "\n",
    "If you know Matlab, [Numpy](http://www.numpy.org) provides similar ease of use for $N$-dimensional array operations (slicing, dicing, mapping, ...). Moreover, it provides tons of tools for linear algebra, probability and statistics. You really cannot do scientific computing without `numpy`!"
   ]
  },
  {
   "cell_type": "code",
   "execution_count": 1,
   "metadata": {
    "collapsed": true,
    "deletable": true,
    "editable": true
   },
   "outputs": [],
   "source": [
    "import numpy as np"
   ]
  },
  {
   "cell_type": "markdown",
   "metadata": {
    "deletable": true,
    "editable": true
   },
   "source": [
    "### Arrays\n",
    "\n",
    "Numpy `array`s are upgraded versions of Python `list`s. They are the foundations of the library and come with a bunch of methods that allow various operations."
   ]
  },
  {
   "cell_type": "code",
   "execution_count": 2,
   "metadata": {
    "collapsed": false,
    "deletable": true,
    "editable": true
   },
   "outputs": [
    {
     "name": "stdout",
     "output_type": "stream",
     "text": [
      "[[1 3 5]\n",
      " [2 4 6]]\n",
      "The shape of this array is: (2, 3)\n",
      "The first element is 1\n",
      "The first column is [1 2]\n",
      "The second row is [2 4 6]\n"
     ]
    }
   ],
   "source": [
    "numpy_array = np.array([[1, 3, 5], [2, 4, 6]])\n",
    "print(numpy_array)\n",
    "print(\"The shape of this array is:\", numpy_array.shape)\n",
    "first_element = numpy_array[0, 0]\n",
    "first_column = numpy_array[:, 0]\n",
    "second_row = numpy_array[1, :]\n",
    "print(\"The first element is\", first_element)\n",
    "print(\"The first column is\", first_column)\n",
    "print(\"The second row is\", second_row)"
   ]
  },
  {
   "cell_type": "markdown",
   "metadata": {
    "deletable": true,
    "editable": true
   },
   "source": [
    "Numpy arrays behave like \"normal\" numbers, meaning that operations are performed **element-wise**."
   ]
  },
  {
   "cell_type": "code",
   "execution_count": 3,
   "metadata": {
    "collapsed": false,
    "deletable": true,
    "editable": true
   },
   "outputs": [
    {
     "name": "stdout",
     "output_type": "stream",
     "text": [
      "[ 1.  1.  1.  1.  1.  1.  1.  1.  1.  1.]\n",
      "[ 2.  2.  2.  2.  2.  2.  2.  2.  2.  2.]\n"
     ]
    }
   ],
   "source": [
    "zeros = np.zeros(10)\n",
    "ones = np.ones(10)\n",
    "print(zeros + ones)\n",
    "print(np.exp(zeros) + ones)"
   ]
  },
  {
   "cell_type": "markdown",
   "metadata": {
    "deletable": true,
    "editable": true
   },
   "source": [
    "It is then easy to create random vectors and perform linear algebra operations, such as $A\\mathbf{b}$ or $\\mathbf{x} = A^{-1}\\mathbf{b}$. "
   ]
  },
  {
   "cell_type": "code",
   "execution_count": 4,
   "metadata": {
    "collapsed": false,
    "deletable": true,
    "editable": true
   },
   "outputs": [
    {
     "name": "stdout",
     "output_type": "stream",
     "text": [
      "A =\n",
      " [[6 9 6 9 6]\n",
      " [3 1 3 0 0]\n",
      " [1 9 4 5 8]\n",
      " [7 0 1 3 5]\n",
      " [3 0 9 3 8]]\n",
      "b =\n",
      " [[5]\n",
      " [7]\n",
      " [0]\n",
      " [5]\n",
      " [6]]\n",
      "The vectorial product Ab is\n",
      " [[174]\n",
      " [ 22]\n",
      " [141]\n",
      " [ 80]\n",
      " [ 78]]\n",
      "The solution to Ax = b is x =\n",
      " [[ 1.2962963 ]\n",
      " [ 0.35825545]\n",
      " [ 0.91761855]\n",
      " [-1.02180685]\n",
      " [-0.38525441]]\n"
     ]
    }
   ],
   "source": [
    "A = np.random.randint(low=0, high=10, size=(5, 5))\n",
    "b = np.random.randint(low=0, high=10, size=(5, 1))\n",
    "print(\"A =\\n\", A)\n",
    "print(\"b =\\n\", b)\n",
    "print(\"The vectorial product Ab is\\n\", A.dot(b))\n",
    "print(\"The solution to Ax = b is x =\\n\", np.linalg.solve(A, b))"
   ]
  },
  {
   "cell_type": "markdown",
   "metadata": {
    "deletable": true,
    "editable": true
   },
   "source": [
    "Try to compute the mean and the variance of the vector $\\mathbf{b}$.\n",
    "\n",
    "*Hint:* have a look at the [documentation](https://docs.scipy.org/doc/numpy/reference/generated/numpy.mean.html)."
   ]
  },
  {
   "cell_type": "code",
   "execution_count": 5,
   "metadata": {
    "collapsed": false,
    "deletable": true,
    "editable": true
   },
   "outputs": [
    {
     "name": "stdout",
     "output_type": "stream",
     "text": [
      "Mean: 4.6\n",
      "Variance: 2.41660919472\n"
     ]
    }
   ],
   "source": [
    "print(\"Mean:\", np.mean(b))\n",
    "print(\"Variance:\", np.std(b))"
   ]
  },
  {
   "cell_type": "markdown",
   "metadata": {
    "deletable": true,
    "editable": true
   },
   "source": [
    "Something that you will probably need at some point is to control the [random state](https://docs.scipy.org/doc/numpy/reference/generated/numpy.random.RandomState.html#numpy.random.RandomState) of numpy. For instance if you are randomly initializing some parameters, but you would like to compare different runs of the same piece of code, you can fix the *seed* for the random generator. This will still produce random numbers, but each time the same! We say it is some *predictable randomness*."
   ]
  },
  {
   "cell_type": "code",
   "execution_count": 6,
   "metadata": {
    "collapsed": false,
    "deletable": true,
    "editable": true
   },
   "outputs": [
    {
     "name": "stdout",
     "output_type": "stream",
     "text": [
      "[2 8 4 9 1 6 7 3 0 5]\n",
      "[2 8 4 9 1 6 7 3 0 5]\n",
      "[3 5 1 2 9 8 0 6 7 4]\n"
     ]
    }
   ],
   "source": [
    "# Fix the seed\n",
    "np.random.seed(0)\n",
    "print(np.random.permutation(10))\n",
    "# Reset the seed\n",
    "np.random.seed(0)\n",
    "print(np.random.permutation(10))\n",
    "# The two above permutations are the same\n",
    "# The sequence of the random generator is now initialized\n",
    "print(np.random.permutation(10))"
   ]
  },
  {
   "cell_type": "markdown",
   "metadata": {
    "deletable": true,
    "editable": true
   },
   "source": [
    "## Matplotlib\n",
    "\n",
    "[Matpotlib](http://matplotlib.org/) is the most famous library to plot data. It is sometimes tedious to use, yet very powerful. It becomes however very interesting when combined with notebooks like this as you have the possibility to display your plot *inline*. "
   ]
  },
  {
   "cell_type": "code",
   "execution_count": 7,
   "metadata": {
    "collapsed": false,
    "deletable": true,
    "editable": true
   },
   "outputs": [],
   "source": [
    "%matplotlib inline\n",
    "import matplotlib.pyplot as plt"
   ]
  },
  {
   "cell_type": "markdown",
   "metadata": {
    "deletable": true,
    "editable": true
   },
   "source": [
    "We show here an example of three basic functions plotted on the same graph. As you see, it is quite verbose to obtain a simple plot like this. Try to play with the different options of the `plot` function: change the color of the lines, their width, the markers, ...\n",
    "\n",
    "*Hint:* http://matplotlib.org/api/pyplot_api.html?highlight=plot#matplotlib.pyplot.plot"
   ]
  },
  {
   "cell_type": "code",
   "execution_count": 8,
   "metadata": {
    "collapsed": false,
    "deletable": true,
    "editable": true
   },
   "outputs": [
    {
     "data": {
      "image/png": "[encoded data removed]",
      "text/plain": [
       "<matplotlib.figure.Figure at 0x7fdfe7099c88>"
      ]
     },
     "metadata": {},
     "output_type": "display_data"
    }
   ],
   "source": [
    "x = np.linspace(start=0.01, stop=10, num=1000)\n",
    "# Generate some data\n",
    "sin = np.sin(x)\n",
    "lin = -4 + x\n",
    "log = np.log(x)\n",
    "# Create a new figure\n",
    "plt.figure(figsize=(8, 6))\n",
    "# Plot the data\n",
    "plt.plot(x, sin)\n",
    "plt.plot(x, lin)\n",
    "plt.plot(x, log)\n",
    "# Customize the plot\n",
    "plt.title(\"Some functions across time\", fontsize=16)\n",
    "plt.xlabel(\"x\", fontsize=20)\n",
    "plt.ylabel(\"f(x)\", fontsize=20)\n",
    "plt.legend([\"sinusoid\", \"linear\", \"logarithm\"], loc='lower right', fontsize=14)\n",
    "plt.grid()\n",
    "# Display the result\n",
    "plt.show()"
   ]
  },
  {
   "cell_type": "markdown",
   "metadata": {
    "deletable": true,
    "editable": true
   },
   "source": [
    "*Note*: in your reports and papers (at university and later during your engineering carreer), whenever displaying a plot, **always** set the\n",
    "\n",
    "* title\n",
    "* x and y labels\n",
    "* legend\n",
    "* caption\n",
    "\n",
    "Be also sure that the font is big enough to be easily read by anyone with normal vision, and that each line has a different color (and ideally, markers). This a some very good habit to aquire, and one that will put you ahead of most of your fellow students, colleagues and competitors."
   ]
  },
  {
   "cell_type": "markdown",
   "metadata": {
    "deletable": true,
    "editable": true
   },
   "source": [
    "## NetworkX\n",
    "\n",
    "[NetworkX](https://networkx.github.io) is a Python library for the creation, manipulation, and study of the structure, dynamics, and functions of networks. It provides a lot of functions to compute metrics from networks and to visualze them."
   ]
  },
  {
   "cell_type": "code",
   "execution_count": 9,
   "metadata": {
    "collapsed": false,
    "deletable": true,
    "editable": true
   },
   "outputs": [],
   "source": [
    "import networkx as nx"
   ]
  },
  {
   "cell_type": "markdown",
   "metadata": {
    "deletable": true,
    "editable": true
   },
   "source": [
    "You can easily load networks from different sources, for instance using an [adjacency list](https://en.wikipedia.org/wiki/Adjacency_list)."
   ]
  },
  {
   "cell_type": "code",
   "execution_count": 10,
   "metadata": {
    "collapsed": false,
    "deletable": true,
    "editable": true
   },
   "outputs": [],
   "source": [
    "G = nx.read_adjlist('data/adjacency_list.nx')"
   ]
  },
  {
   "cell_type": "markdown",
   "metadata": {
    "deletable": true,
    "editable": true
   },
   "source": [
    "Visualize it by `draw`ing it."
   ]
  },
  {
   "cell_type": "code",
   "execution_count": 11,
   "metadata": {
    "collapsed": false,
    "deletable": true,
    "editable": true
   },
   "outputs": [
    {
     "data": {
      "image/png": "[encoded data removed]",
      "text/plain": [
       "<matplotlib.figure.Figure at 0x7fdfe404df60>"
      ]
     },
     "metadata": {},
     "output_type": "display_data"
    }
   ],
   "source": [
    "nx.draw_networkx(G)\n",
    "plt.axis('off'); # Makes the plot slightly nicer"
   ]
  },
  {
   "cell_type": "markdown",
   "metadata": {
    "deletable": true,
    "editable": true
   },
   "source": [
    "You can add nodes."
   ]
  },
  {
   "cell_type": "code",
   "execution_count": 12,
   "metadata": {
    "collapsed": false,
    "deletable": true,
    "editable": true
   },
   "outputs": [
    {
     "data": {
      "image/png": "[encoded data removed]",
      "text/plain": [
       "<matplotlib.figure.Figure at 0x7fdfdc7251d0>"
      ]
     },
     "metadata": {},
     "output_type": "display_data"
    }
   ],
   "source": [
    "G.add_node('g')\n",
    "\n",
    "nx.draw_networkx(G)\n",
    "plt.axis('off');"
   ]
  },
  {
   "cell_type": "markdown",
   "metadata": {
    "deletable": true,
    "editable": true
   },
   "source": [
    "And edges."
   ]
  },
  {
   "cell_type": "code",
   "execution_count": 13,
   "metadata": {
    "collapsed": false,
    "deletable": true,
    "editable": true
   },
   "outputs": [
    {
     "data": {
      "image/png": "[encoded data removed]",
      "text/plain": [
       "<matplotlib.figure.Figure at 0x7fdfd29ef080>"
      ]
     },
     "metadata": {},
     "output_type": "display_data"
    }
   ],
   "source": [
    "G.add_edge('g', 'a')\n",
    "G.add_edge('g', 'f')\n",
    "\n",
    "nx.draw_networkx(G)\n",
    "plt.axis('off');"
   ]
  },
  {
   "cell_type": "markdown",
   "metadata": {
    "deletable": true,
    "editable": true
   },
   "source": [
    "A lot of different [algorithms](https://networkx.github.io/documentation/networkx-1.10/reference/algorithms.html) on graphs are already implemented and ready to use."
   ]
  },
  {
   "cell_type": "code",
   "execution_count": 14,
   "metadata": {
    "collapsed": false,
    "deletable": true,
    "editable": true
   },
   "outputs": [
    {
     "name": "stdout",
     "output_type": "stream",
     "text": [
      "Diameter = 3\n",
      "Shortest path between node g and node d: ['g', 'a', 'b', 'd']\n",
      "Cliques of three nodes and more:\n",
      "['g', 'f', 'a']\n",
      "['e', 'c', 'f']\n"
     ]
    }
   ],
   "source": [
    "print(\"Diameter =\", nx.diameter(G))\n",
    "print(\"Shortest path between node g and node d:\", nx.shortest_path(G, 'g', 'd'))\n",
    "print(\"Cliques of three nodes and more:\")\n",
    "for clique in nx.enumerate_all_cliques(G):\n",
    "    if len(clique) > 2:  # Only clique of at least 3 nodes\n",
    "        print(clique)"
   ]
  },
  {
   "cell_type": "markdown",
   "metadata": {
    "deletable": true,
    "editable": true
   },
   "source": [
    "You can find more examples of NetworkX here: https://networkx.readthedocs.io/en/stable/examples/index.html."
   ]
  },
  {
   "cell_type": "markdown",
   "metadata": {
    "deletable": true,
    "editable": true
   },
   "source": [
    "## More Libraries\n",
    "\n",
    "You have seen now the required libraries to follow this class. We present here some optional ones, but ones that you will most likely make use of if you follow the path of data science, machine learning, statistics and/or data mining.\n",
    "\n",
    "* [Pandas](http://pandas.pydata.org): consolidate data from various sources, move them around and analyze them easily\n",
    "* [SciPy](http://www.scipy.org): extends numpy with more scientific computing tools (such as probability distributions, sparse matrices, optimization routines, ...)\n",
    "* [scikit-learn](http://scikit-learn.org/stable/): state-of-the-art machine learning algorithms\n",
    "* [TensorFlow](https://www.tensorflow.org): Google's machine learning library, focusing of deep learning, and based on computational graphs \n",
    "* [Bokeh](http://bokeh.pydata.org/en/latest/): more advanced, interactive visualization"
   ]
  },
  {
   "cell_type": "markdown",
   "metadata": {
    "deletable": true,
    "editable": true
   },
   "source": [
    "## Exercises\n",
    "\n",
    "Now, your turn to put your hands in the code!"
   ]
  },
  {
   "cell_type": "markdown",
   "metadata": {
    "deletable": true,
    "editable": true
   },
   "source": [
    "### Linear Algebra: Matrix Standardization\n",
    "\n",
    "The process of *standardization* is a very useful preprocessing operation that is even mandatory for some techniques (you will see that later). Formally, a matrix $X$ of size $N \\times M$ is said to be *standardized* if its columns have $0$ mean and unitary standard deviation. Note that, when dealing with data, the number of data samples is commonly denoted by $N$ and the number of features of each sample is denoted by $M$. \n",
    "\n",
    "In this exercise, you have scraped data from the Swiss Confederation website and created a matrix of vote results. More precisely, every row in the matrix corresponds to a federal vote (popular initiative or referendum) and the columns are some features related to the municipalities. There are $N=307$ votes and $M=2289$ features. You heard that Switzerland has distinct voting patterns according to the different languages and would like to verify this hypothesis with a data-driven approach. A common procedure is to perform [principal component analysis](https://en.wikipedia.org/wiki/Principal_component_analysis) (more on that in a few weeks) for which the data must be standardized. \n",
    "\n",
    "1. Try to understand why we standardize **column-wise** and what it would mean to standardize row-wise. \n",
    "2. Standardize the matrix X.\n",
    "3. Verify your code by interpreting the result.\n",
    "\n"
   ]
  },
  {
   "cell_type": "code",
   "execution_count": 15,
   "metadata": {
    "collapsed": false,
    "deletable": true,
    "editable": true
   },
   "outputs": [],
   "source": [
    "X = np.load('data/votes-data.npy')\n",
    "\n",
    "import pandas as pd\n",
    "\n",
    "X_df = pd.DataFrame(X)"
   ]
  },
  {
   "cell_type": "code",
   "execution_count": 16,
   "metadata": {
    "collapsed": false
   },
   "outputs": [
    {
     "data": {
      "text/html": [
       "<div>\n",
       "<table border=\"1\" class=\"dataframe\">\n",
       "  <thead>\n",
       "    <tr style=\"text-align: right;\">\n",
       "      <th></th>\n",
       "      <th>0</th>\n",
       "      <th>1</th>\n",
       "      <th>2</th>\n",
       "      <th>3</th>\n",
       "      <th>4</th>\n",
       "      <th>5</th>\n",
       "      <th>6</th>\n",
       "      <th>7</th>\n",
       "      <th>8</th>\n",
       "      <th>9</th>\n",
       "      <th>...</th>\n",
       "      <th>2279</th>\n",
       "      <th>2280</th>\n",
       "      <th>2281</th>\n",
       "      <th>2282</th>\n",
       "      <th>2283</th>\n",
       "      <th>2284</th>\n",
       "      <th>2285</th>\n",
       "      <th>2286</th>\n",
       "      <th>2287</th>\n",
       "      <th>2288</th>\n",
       "    </tr>\n",
       "  </thead>\n",
       "  <tbody>\n",
       "    <tr>\n",
       "      <th>count</th>\n",
       "      <td>307.000000</td>\n",
       "      <td>307.000000</td>\n",
       "      <td>307.000000</td>\n",
       "      <td>307.000000</td>\n",
       "      <td>307.000000</td>\n",
       "      <td>307.000000</td>\n",
       "      <td>307.000000</td>\n",
       "      <td>307.000000</td>\n",
       "      <td>307.000000</td>\n",
       "      <td>307.000000</td>\n",
       "      <td>...</td>\n",
       "      <td>307.000000</td>\n",
       "      <td>307.000000</td>\n",
       "      <td>307.000000</td>\n",
       "      <td>307.000000</td>\n",
       "      <td>307.000000</td>\n",
       "      <td>307.000000</td>\n",
       "      <td>307.000000</td>\n",
       "      <td>307.000000</td>\n",
       "      <td>307.000000</td>\n",
       "      <td>307.000000</td>\n",
       "    </tr>\n",
       "    <tr>\n",
       "      <th>mean</th>\n",
       "      <td>103.855900</td>\n",
       "      <td>138.439246</td>\n",
       "      <td>132.146720</td>\n",
       "      <td>133.460453</td>\n",
       "      <td>130.697410</td>\n",
       "      <td>119.596312</td>\n",
       "      <td>111.008812</td>\n",
       "      <td>107.775893</td>\n",
       "      <td>137.347206</td>\n",
       "      <td>110.771284</td>\n",
       "      <td>...</td>\n",
       "      <td>100.643761</td>\n",
       "      <td>122.406590</td>\n",
       "      <td>139.031897</td>\n",
       "      <td>109.436055</td>\n",
       "      <td>104.205646</td>\n",
       "      <td>107.372561</td>\n",
       "      <td>141.252492</td>\n",
       "      <td>107.681003</td>\n",
       "      <td>121.259724</td>\n",
       "      <td>100.750723</td>\n",
       "    </tr>\n",
       "    <tr>\n",
       "      <th>std</th>\n",
       "      <td>86.372106</td>\n",
       "      <td>56.661023</td>\n",
       "      <td>87.464066</td>\n",
       "      <td>39.289022</td>\n",
       "      <td>71.130408</td>\n",
       "      <td>88.325351</td>\n",
       "      <td>97.857489</td>\n",
       "      <td>49.851852</td>\n",
       "      <td>43.421843</td>\n",
       "      <td>92.087709</td>\n",
       "      <td>...</td>\n",
       "      <td>9.187339</td>\n",
       "      <td>36.369801</td>\n",
       "      <td>82.646981</td>\n",
       "      <td>77.596385</td>\n",
       "      <td>97.550796</td>\n",
       "      <td>52.169526</td>\n",
       "      <td>64.311833</td>\n",
       "      <td>90.148663</td>\n",
       "      <td>4.537476</td>\n",
       "      <td>76.396725</td>\n",
       "    </tr>\n",
       "    <tr>\n",
       "      <th>min</th>\n",
       "      <td>-72.750703</td>\n",
       "      <td>18.324830</td>\n",
       "      <td>-56.513845</td>\n",
       "      <td>48.221227</td>\n",
       "      <td>-17.029657</td>\n",
       "      <td>-75.753939</td>\n",
       "      <td>-112.006232</td>\n",
       "      <td>8.507001</td>\n",
       "      <td>42.904569</td>\n",
       "      <td>-100.879783</td>\n",
       "      <td>...</td>\n",
       "      <td>81.297444</td>\n",
       "      <td>49.672226</td>\n",
       "      <td>-22.215108</td>\n",
       "      <td>-45.141889</td>\n",
       "      <td>-98.383347</td>\n",
       "      <td>-4.012120</td>\n",
       "      <td>18.199006</td>\n",
       "      <td>-77.800294</td>\n",
       "      <td>112.307762</td>\n",
       "      <td>-70.142233</td>\n",
       "    </tr>\n",
       "    <tr>\n",
       "      <th>25%</th>\n",
       "      <td>32.971892</td>\n",
       "      <td>93.091362</td>\n",
       "      <td>62.196764</td>\n",
       "      <td>101.439932</td>\n",
       "      <td>75.086149</td>\n",
       "      <td>47.656191</td>\n",
       "      <td>31.850532</td>\n",
       "      <td>67.031288</td>\n",
       "      <td>102.129041</td>\n",
       "      <td>37.561599</td>\n",
       "      <td>...</td>\n",
       "      <td>93.572739</td>\n",
       "      <td>92.994215</td>\n",
       "      <td>73.238710</td>\n",
       "      <td>49.262913</td>\n",
       "      <td>32.235081</td>\n",
       "      <td>64.835888</td>\n",
       "      <td>90.095777</td>\n",
       "      <td>37.660244</td>\n",
       "      <td>117.799201</td>\n",
       "      <td>40.262741</td>\n",
       "    </tr>\n",
       "    <tr>\n",
       "      <th>50%</th>\n",
       "      <td>97.009769</td>\n",
       "      <td>136.378311</td>\n",
       "      <td>130.767498</td>\n",
       "      <td>131.346186</td>\n",
       "      <td>125.856836</td>\n",
       "      <td>110.583666</td>\n",
       "      <td>105.698264</td>\n",
       "      <td>101.783077</td>\n",
       "      <td>134.895679</td>\n",
       "      <td>104.432511</td>\n",
       "      <td>...</td>\n",
       "      <td>100.952199</td>\n",
       "      <td>121.086406</td>\n",
       "      <td>138.384150</td>\n",
       "      <td>113.384812</td>\n",
       "      <td>97.403091</td>\n",
       "      <td>108.085191</td>\n",
       "      <td>139.380883</td>\n",
       "      <td>112.175880</td>\n",
       "      <td>121.179308</td>\n",
       "      <td>104.687834</td>\n",
       "    </tr>\n",
       "    <tr>\n",
       "      <th>75%</th>\n",
       "      <td>164.633113</td>\n",
       "      <td>182.013046</td>\n",
       "      <td>198.425355</td>\n",
       "      <td>161.838643</td>\n",
       "      <td>189.237868</td>\n",
       "      <td>178.888234</td>\n",
       "      <td>181.534579</td>\n",
       "      <td>144.087737</td>\n",
       "      <td>168.062253</td>\n",
       "      <td>176.819004</td>\n",
       "      <td>...</td>\n",
       "      <td>107.973159</td>\n",
       "      <td>149.650726</td>\n",
       "      <td>205.448245</td>\n",
       "      <td>171.350379</td>\n",
       "      <td>178.191759</td>\n",
       "      <td>146.170087</td>\n",
       "      <td>192.716252</td>\n",
       "      <td>175.724256</td>\n",
       "      <td>124.702997</td>\n",
       "      <td>157.388041</td>\n",
       "    </tr>\n",
       "    <tr>\n",
       "      <th>max</th>\n",
       "      <td>298.343808</td>\n",
       "      <td>276.196735</td>\n",
       "      <td>326.814388</td>\n",
       "      <td>229.167510</td>\n",
       "      <td>293.553263</td>\n",
       "      <td>332.946665</td>\n",
       "      <td>350.199271</td>\n",
       "      <td>240.827644</td>\n",
       "      <td>240.917584</td>\n",
       "      <td>334.244192</td>\n",
       "      <td>...</td>\n",
       "      <td>118.938052</td>\n",
       "      <td>206.821442</td>\n",
       "      <td>337.928729</td>\n",
       "      <td>270.861385</td>\n",
       "      <td>344.712271</td>\n",
       "      <td>242.282533</td>\n",
       "      <td>282.309186</td>\n",
       "      <td>315.727961</td>\n",
       "      <td>130.950604</td>\n",
       "      <td>279.751069</td>\n",
       "    </tr>\n",
       "  </tbody>\n",
       "</table>\n",
       "<p>8 rows × 2289 columns</p>\n",
       "</div>"
      ],
      "text/plain": [
       "             0           1           2           3           4           5     \\\n",
       "count  307.000000  307.000000  307.000000  307.000000  307.000000  307.000000   \n",
       "mean   103.855900  138.439246  132.146720  133.460453  130.697410  119.596312   \n",
       "std     86.372106   56.661023   87.464066   39.289022   71.130408   88.325351   \n",
       "min    -72.750703   18.324830  -56.513845   48.221227  -17.029657  -75.753939   \n",
       "25%     32.971892   93.091362   62.196764  101.439932   75.086149   47.656191   \n",
       "50%     97.009769  136.378311  130.767498  131.346186  125.856836  110.583666   \n",
       "75%    164.633113  182.013046  198.425355  161.838643  189.237868  178.888234   \n",
       "max    298.343808  276.196735  326.814388  229.167510  293.553263  332.946665   \n",
       "\n",
       "             6           7           8           9        ...            2279  \\\n",
       "count  307.000000  307.000000  307.000000  307.000000     ...      307.000000   \n",
       "mean   111.008812  107.775893  137.347206  110.771284     ...      100.643761   \n",
       "std     97.857489   49.851852   43.421843   92.087709     ...        9.187339   \n",
       "min   -112.006232    8.507001   42.904569 -100.879783     ...       81.297444   \n",
       "25%     31.850532   67.031288  102.129041   37.561599     ...       93.572739   \n",
       "50%    105.698264  101.783077  134.895679  104.432511     ...      100.952199   \n",
       "75%    181.534579  144.087737  168.062253  176.819004     ...      107.973159   \n",
       "max    350.199271  240.827644  240.917584  334.244192     ...      118.938052   \n",
       "\n",
       "             2280        2281        2282        2283        2284        2285  \\\n",
       "count  307.000000  307.000000  307.000000  307.000000  307.000000  307.000000   \n",
       "mean   122.406590  139.031897  109.436055  104.205646  107.372561  141.252492   \n",
       "std     36.369801   82.646981   77.596385   97.550796   52.169526   64.311833   \n",
       "min     49.672226  -22.215108  -45.141889  -98.383347   -4.012120   18.199006   \n",
       "25%     92.994215   73.238710   49.262913   32.235081   64.835888   90.095777   \n",
       "50%    121.086406  138.384150  113.384812   97.403091  108.085191  139.380883   \n",
       "75%    149.650726  205.448245  171.350379  178.191759  146.170087  192.716252   \n",
       "max    206.821442  337.928729  270.861385  344.712271  242.282533  282.309186   \n",
       "\n",
       "             2286        2287        2288  \n",
       "count  307.000000  307.000000  307.000000  \n",
       "mean   107.681003  121.259724  100.750723  \n",
       "std     90.148663    4.537476   76.396725  \n",
       "min    -77.800294  112.307762  -70.142233  \n",
       "25%     37.660244  117.799201   40.262741  \n",
       "50%    112.175880  121.179308  104.687834  \n",
       "75%    175.724256  124.702997  157.388041  \n",
       "max    315.727961  130.950604  279.751069  \n",
       "\n",
       "[8 rows x 2289 columns]"
      ]
     },
     "execution_count": 16,
     "metadata": {},
     "output_type": "execute_result"
    }
   ],
   "source": [
    "X_df.describe()"
   ]
  },
  {
   "cell_type": "code",
   "execution_count": 17,
   "metadata": {
    "collapsed": false
   },
   "outputs": [],
   "source": [
    "X_df = (X_df - X_df.mean(axis=0))/X_df.std(axis=0)\n"
   ]
  },
  {
   "cell_type": "code",
   "execution_count": 18,
   "metadata": {
    "collapsed": false
   },
   "outputs": [
    {
     "data": {
      "text/html": [
       "<div>\n",
       "<table border=\"1\" class=\"dataframe\">\n",
       "  <thead>\n",
       "    <tr style=\"text-align: right;\">\n",
       "      <th></th>\n",
       "      <th>0</th>\n",
       "      <th>1</th>\n",
       "      <th>2</th>\n",
       "      <th>3</th>\n",
       "      <th>4</th>\n",
       "      <th>5</th>\n",
       "      <th>6</th>\n",
       "      <th>7</th>\n",
       "      <th>8</th>\n",
       "      <th>9</th>\n",
       "      <th>...</th>\n",
       "      <th>2279</th>\n",
       "      <th>2280</th>\n",
       "      <th>2281</th>\n",
       "      <th>2282</th>\n",
       "      <th>2283</th>\n",
       "      <th>2284</th>\n",
       "      <th>2285</th>\n",
       "      <th>2286</th>\n",
       "      <th>2287</th>\n",
       "      <th>2288</th>\n",
       "    </tr>\n",
       "  </thead>\n",
       "  <tbody>\n",
       "    <tr>\n",
       "      <th>count</th>\n",
       "      <td>3.070000e+02</td>\n",
       "      <td>3.070000e+02</td>\n",
       "      <td>3.070000e+02</td>\n",
       "      <td>3.070000e+02</td>\n",
       "      <td>3.070000e+02</td>\n",
       "      <td>3.070000e+02</td>\n",
       "      <td>3.070000e+02</td>\n",
       "      <td>3.070000e+02</td>\n",
       "      <td>3.070000e+02</td>\n",
       "      <td>3.070000e+02</td>\n",
       "      <td>...</td>\n",
       "      <td>3.070000e+02</td>\n",
       "      <td>3.070000e+02</td>\n",
       "      <td>3.070000e+02</td>\n",
       "      <td>3.070000e+02</td>\n",
       "      <td>3.070000e+02</td>\n",
       "      <td>3.070000e+02</td>\n",
       "      <td>3.070000e+02</td>\n",
       "      <td>3.070000e+02</td>\n",
       "      <td>3.070000e+02</td>\n",
       "      <td>3.070000e+02</td>\n",
       "    </tr>\n",
       "    <tr>\n",
       "      <th>mean</th>\n",
       "      <td>1.981766e-16</td>\n",
       "      <td>3.622148e-15</td>\n",
       "      <td>1.200994e-15</td>\n",
       "      <td>3.844192e-16</td>\n",
       "      <td>-4.994195e-16</td>\n",
       "      <td>-1.772017e-17</td>\n",
       "      <td>-1.084908e-17</td>\n",
       "      <td>-3.580198e-17</td>\n",
       "      <td>-1.627363e-17</td>\n",
       "      <td>7.391843e-16</td>\n",
       "      <td>...</td>\n",
       "      <td>-5.325689e-15</td>\n",
       "      <td>-2.835589e-15</td>\n",
       "      <td>-4.950799e-16</td>\n",
       "      <td>3.750167e-16</td>\n",
       "      <td>-9.908831e-17</td>\n",
       "      <td>1.077676e-16</td>\n",
       "      <td>3.923752e-16</td>\n",
       "      <td>-4.572889e-16</td>\n",
       "      <td>-1.241244e-14</td>\n",
       "      <td>3.607321e-16</td>\n",
       "    </tr>\n",
       "    <tr>\n",
       "      <th>std</th>\n",
       "      <td>1.000000e+00</td>\n",
       "      <td>1.000000e+00</td>\n",
       "      <td>1.000000e+00</td>\n",
       "      <td>1.000000e+00</td>\n",
       "      <td>1.000000e+00</td>\n",
       "      <td>1.000000e+00</td>\n",
       "      <td>1.000000e+00</td>\n",
       "      <td>1.000000e+00</td>\n",
       "      <td>1.000000e+00</td>\n",
       "      <td>1.000000e+00</td>\n",
       "      <td>...</td>\n",
       "      <td>1.000000e+00</td>\n",
       "      <td>1.000000e+00</td>\n",
       "      <td>1.000000e+00</td>\n",
       "      <td>1.000000e+00</td>\n",
       "      <td>1.000000e+00</td>\n",
       "      <td>1.000000e+00</td>\n",
       "      <td>1.000000e+00</td>\n",
       "      <td>1.000000e+00</td>\n",
       "      <td>1.000000e+00</td>\n",
       "      <td>1.000000e+00</td>\n",
       "    </tr>\n",
       "    <tr>\n",
       "      <th>min</th>\n",
       "      <td>-2.044718e+00</td>\n",
       "      <td>-2.119877e+00</td>\n",
       "      <td>-2.157007e+00</td>\n",
       "      <td>-2.169543e+00</td>\n",
       "      <td>-2.076848e+00</td>\n",
       "      <td>-2.211712e+00</td>\n",
       "      <td>-2.278978e+00</td>\n",
       "      <td>-1.991278e+00</td>\n",
       "      <td>-2.175003e+00</td>\n",
       "      <td>-2.298364e+00</td>\n",
       "      <td>...</td>\n",
       "      <td>-2.105759e+00</td>\n",
       "      <td>-1.999856e+00</td>\n",
       "      <td>-1.951033e+00</td>\n",
       "      <td>-1.992077e+00</td>\n",
       "      <td>-2.076754e+00</td>\n",
       "      <td>-2.135053e+00</td>\n",
       "      <td>-1.913388e+00</td>\n",
       "      <td>-2.057505e+00</td>\n",
       "      <td>-1.972895e+00</td>\n",
       "      <td>-2.236915e+00</td>\n",
       "    </tr>\n",
       "    <tr>\n",
       "      <th>25%</th>\n",
       "      <td>-8.206817e-01</td>\n",
       "      <td>-8.003365e-01</td>\n",
       "      <td>-7.997565e-01</td>\n",
       "      <td>-8.149992e-01</td>\n",
       "      <td>-7.818212e-01</td>\n",
       "      <td>-8.144901e-01</td>\n",
       "      <td>-8.089139e-01</td>\n",
       "      <td>-8.173138e-01</td>\n",
       "      <td>-8.110703e-01</td>\n",
       "      <td>-7.949995e-01</td>\n",
       "      <td>...</td>\n",
       "      <td>-7.696485e-01</td>\n",
       "      <td>-8.087032e-01</td>\n",
       "      <td>-7.960749e-01</td>\n",
       "      <td>-7.754632e-01</td>\n",
       "      <td>-7.377753e-01</td>\n",
       "      <td>-8.153548e-01</td>\n",
       "      <td>-7.954479e-01</td>\n",
       "      <td>-7.767254e-01</td>\n",
       "      <td>-7.626536e-01</td>\n",
       "      <td>-7.917614e-01</td>\n",
       "    </tr>\n",
       "    <tr>\n",
       "      <th>50%</th>\n",
       "      <td>-7.926321e-02</td>\n",
       "      <td>-3.637306e-02</td>\n",
       "      <td>-1.576902e-02</td>\n",
       "      <td>-5.381318e-02</td>\n",
       "      <td>-6.805211e-02</td>\n",
       "      <td>-1.020392e-01</td>\n",
       "      <td>-5.426817e-02</td>\n",
       "      <td>-1.202125e-01</td>\n",
       "      <td>-5.645839e-02</td>\n",
       "      <td>-6.883409e-02</td>\n",
       "      <td>...</td>\n",
       "      <td>3.357208e-02</td>\n",
       "      <td>-3.629893e-02</td>\n",
       "      <td>-7.837514e-03</td>\n",
       "      <td>5.088842e-02</td>\n",
       "      <td>-6.973347e-02</td>\n",
       "      <td>1.365988e-02</td>\n",
       "      <td>-2.910209e-02</td>\n",
       "      <td>4.986071e-02</td>\n",
       "      <td>-1.772254e-02</td>\n",
       "      <td>5.153508e-02</td>\n",
       "    </tr>\n",
       "    <tr>\n",
       "      <th>75%</th>\n",
       "      <td>7.036671e-01</td>\n",
       "      <td>7.690260e-01</td>\n",
       "      <td>7.577813e-01</td>\n",
       "      <td>7.222931e-01</td>\n",
       "      <td>8.230019e-01</td>\n",
       "      <td>6.712900e-01</td>\n",
       "      <td>7.206987e-01</td>\n",
       "      <td>7.283951e-01</td>\n",
       "      <td>7.073640e-01</td>\n",
       "      <td>7.172262e-01</td>\n",
       "      <td>...</td>\n",
       "      <td>7.977717e-01</td>\n",
       "      <td>7.490867e-01</td>\n",
       "      <td>8.036149e-01</td>\n",
       "      <td>7.979022e-01</td>\n",
       "      <td>7.584368e-01</td>\n",
       "      <td>7.436818e-01</td>\n",
       "      <td>8.002222e-01</td>\n",
       "      <td>7.547894e-01</td>\n",
       "      <td>7.588521e-01</td>\n",
       "      <td>7.413579e-01</td>\n",
       "    </tr>\n",
       "    <tr>\n",
       "      <th>max</th>\n",
       "      <td>2.251744e+00</td>\n",
       "      <td>2.431257e+00</td>\n",
       "      <td>2.225687e+00</td>\n",
       "      <td>2.435975e+00</td>\n",
       "      <td>2.289539e+00</td>\n",
       "      <td>2.415505e+00</td>\n",
       "      <td>2.444273e+00</td>\n",
       "      <td>2.668943e+00</td>\n",
       "      <td>2.385214e+00</td>\n",
       "      <td>2.426740e+00</td>\n",
       "      <td>...</td>\n",
       "      <td>1.991250e+00</td>\n",
       "      <td>2.321015e+00</td>\n",
       "      <td>2.406583e+00</td>\n",
       "      <td>2.080320e+00</td>\n",
       "      <td>2.465450e+00</td>\n",
       "      <td>2.585992e+00</td>\n",
       "      <td>2.193324e+00</td>\n",
       "      <td>2.307821e+00</td>\n",
       "      <td>2.135742e+00</td>\n",
       "      <td>2.343037e+00</td>\n",
       "    </tr>\n",
       "  </tbody>\n",
       "</table>\n",
       "<p>8 rows × 2289 columns</p>\n",
       "</div>"
      ],
      "text/plain": [
       "               0             1             2             3             4     \\\n",
       "count  3.070000e+02  3.070000e+02  3.070000e+02  3.070000e+02  3.070000e+02   \n",
       "mean   1.981766e-16  3.622148e-15  1.200994e-15  3.844192e-16 -4.994195e-16   \n",
       "std    1.000000e+00  1.000000e+00  1.000000e+00  1.000000e+00  1.000000e+00   \n",
       "min   -2.044718e+00 -2.119877e+00 -2.157007e+00 -2.169543e+00 -2.076848e+00   \n",
       "25%   -8.206817e-01 -8.003365e-01 -7.997565e-01 -8.149992e-01 -7.818212e-01   \n",
       "50%   -7.926321e-02 -3.637306e-02 -1.576902e-02 -5.381318e-02 -6.805211e-02   \n",
       "75%    7.036671e-01  7.690260e-01  7.577813e-01  7.222931e-01  8.230019e-01   \n",
       "max    2.251744e+00  2.431257e+00  2.225687e+00  2.435975e+00  2.289539e+00   \n",
       "\n",
       "               5             6             7             8             9     \\\n",
       "count  3.070000e+02  3.070000e+02  3.070000e+02  3.070000e+02  3.070000e+02   \n",
       "mean  -1.772017e-17 -1.084908e-17 -3.580198e-17 -1.627363e-17  7.391843e-16   \n",
       "std    1.000000e+00  1.000000e+00  1.000000e+00  1.000000e+00  1.000000e+00   \n",
       "min   -2.211712e+00 -2.278978e+00 -1.991278e+00 -2.175003e+00 -2.298364e+00   \n",
       "25%   -8.144901e-01 -8.089139e-01 -8.173138e-01 -8.110703e-01 -7.949995e-01   \n",
       "50%   -1.020392e-01 -5.426817e-02 -1.202125e-01 -5.645839e-02 -6.883409e-02   \n",
       "75%    6.712900e-01  7.206987e-01  7.283951e-01  7.073640e-01  7.172262e-01   \n",
       "max    2.415505e+00  2.444273e+00  2.668943e+00  2.385214e+00  2.426740e+00   \n",
       "\n",
       "           ...               2279          2280          2281          2282  \\\n",
       "count      ...       3.070000e+02  3.070000e+02  3.070000e+02  3.070000e+02   \n",
       "mean       ...      -5.325689e-15 -2.835589e-15 -4.950799e-16  3.750167e-16   \n",
       "std        ...       1.000000e+00  1.000000e+00  1.000000e+00  1.000000e+00   \n",
       "min        ...      -2.105759e+00 -1.999856e+00 -1.951033e+00 -1.992077e+00   \n",
       "25%        ...      -7.696485e-01 -8.087032e-01 -7.960749e-01 -7.754632e-01   \n",
       "50%        ...       3.357208e-02 -3.629893e-02 -7.837514e-03  5.088842e-02   \n",
       "75%        ...       7.977717e-01  7.490867e-01  8.036149e-01  7.979022e-01   \n",
       "max        ...       1.991250e+00  2.321015e+00  2.406583e+00  2.080320e+00   \n",
       "\n",
       "               2283          2284          2285          2286          2287  \\\n",
       "count  3.070000e+02  3.070000e+02  3.070000e+02  3.070000e+02  3.070000e+02   \n",
       "mean  -9.908831e-17  1.077676e-16  3.923752e-16 -4.572889e-16 -1.241244e-14   \n",
       "std    1.000000e+00  1.000000e+00  1.000000e+00  1.000000e+00  1.000000e+00   \n",
       "min   -2.076754e+00 -2.135053e+00 -1.913388e+00 -2.057505e+00 -1.972895e+00   \n",
       "25%   -7.377753e-01 -8.153548e-01 -7.954479e-01 -7.767254e-01 -7.626536e-01   \n",
       "50%   -6.973347e-02  1.365988e-02 -2.910209e-02  4.986071e-02 -1.772254e-02   \n",
       "75%    7.584368e-01  7.436818e-01  8.002222e-01  7.547894e-01  7.588521e-01   \n",
       "max    2.465450e+00  2.585992e+00  2.193324e+00  2.307821e+00  2.135742e+00   \n",
       "\n",
       "               2288  \n",
       "count  3.070000e+02  \n",
       "mean   3.607321e-16  \n",
       "std    1.000000e+00  \n",
       "min   -2.236915e+00  \n",
       "25%   -7.917614e-01  \n",
       "50%    5.153508e-02  \n",
       "75%    7.413579e-01  \n",
       "max    2.343037e+00  \n",
       "\n",
       "[8 rows x 2289 columns]"
      ]
     },
     "execution_count": 18,
     "metadata": {},
     "output_type": "execute_result"
    }
   ],
   "source": [
    "X_df.describe()"
   ]
  },
  {
   "cell_type": "code",
   "execution_count": 19,
   "metadata": {
    "collapsed": false
   },
   "outputs": [
    {
     "data": {
      "text/plain": [
       "<pyspark.context.SparkContext at 0x7fe0087fe320>"
      ]
     },
     "execution_count": 19,
     "metadata": {},
     "output_type": "execute_result"
    }
   ],
   "source": [
    "sc"
   ]
  },
  {
   "cell_type": "code",
   "execution_count": 20,
   "metadata": {
    "collapsed": true
   },
   "outputs": [],
   "source": [
    "from pyspark.sql import SQLContext\n",
    "\n",
    "sqlContext = SQLContext(sc)"
   ]
  },
  {
   "cell_type": "code",
   "execution_count": 21,
   "metadata": {
    "collapsed": false
   },
   "outputs": [],
   "source": [
    "X_df_spark = sqlContext.createDataFrame(X_df)"
   ]
  },
  {
   "cell_type": "markdown",
   "metadata": {
    "deletable": true,
    "editable": true
   },
   "source": [
    "The following method takes your preprocesed matrix `X` as argument and displays a projection of the the data on the two first eigen vectors. \n",
    "\n",
    "- Do you see any interesting pattern?\n",
    "\n",
    "*Hint:* You should be able to obtain the same image as below:\n",
    "\n",
    "![Roestigraben pattern](images/roestigraben.png \"Plot to obtain\")\n",
    "\n",
    "Add color to your plot by setting `with_color=True` in `extract_voting_pattern`.\n",
    "\n",
    "- Does it confirm your intuition?"
   ]
  },
  {
   "cell_type": "code",
   "execution_count": 28,
   "metadata": {
    "collapsed": false,
    "deletable": true,
    "editable": true
   },
   "outputs": [
    {
     "data": {
      "image/png": "[encoded data removed]",
      "text/plain": [
       "<matplotlib.figure.Figure at 0x7fdfa4b0cbe0>"
      ]
     },
     "metadata": {},
     "output_type": "display_data"
    }
   ],
   "source": [
    "from modules.politics import extract_voting_pattern\n",
    "\n",
    "extract_voting_pattern(X_std)\n",
    "plt.show()"
   ]
  },
  {
   "cell_type": "markdown",
   "metadata": {
    "deletable": true,
    "editable": true
   },
   "source": [
    "### Probabilities: Histogram of a distribution\n",
    "\n",
    "We created three vectors of random samples.\n",
    "\n",
    "- Can you guess from which distributions they have been generated?\n",
    "\n",
    "*Hint*: recall that a [histogram](https://en.wikipedia.org/wiki/Histogram) represents a distribution."
   ]
  },
  {
   "cell_type": "code",
   "execution_count": 29,
   "metadata": {
    "collapsed": true,
    "deletable": true,
    "editable": true,
    "scrolled": true
   },
   "outputs": [],
   "source": [
    "distribution1 = np.load('data/distribution1.npy')\n",
    "distribution2 = np.load('data/distribution2.npy')\n",
    "distribution3 = np.load('data/distribution3.npy')"
   ]
  },
  {
   "cell_type": "markdown",
   "metadata": {
    "deletable": true,
    "editable": true
   },
   "source": [
    "Use the following cell:"
   ]
  },
  {
   "cell_type": "code",
   "execution_count": 37,
   "metadata": {
    "collapsed": false,
    "deletable": true,
    "editable": true
   },
   "outputs": [
    {
     "data": {
      "text/plain": [
       "(array([   19.,   124.,   566.,  1550.,  2513.,  2618.,  1659.,   733.,\n",
       "          185.,    33.]),\n",
       " array([-3.57712231, -2.87209893, -2.16707555, -1.46205217, -0.75702879,\n",
       "        -0.05200541,  0.65301797,  1.35804135,  2.06306473,  2.76808811,\n",
       "         3.47311149]),\n",
       " <a list of 10 Patch objects>)"
      ]
     },
     "execution_count": 37,
     "metadata": {},
     "output_type": "execute_result"
    },
    {
     "data": {
      "image/png": "[encoded data removed]",
      "text/plain": [
       "<matplotlib.figure.Figure at 0x7fdfb0169ac8>"
      ]
     },
     "metadata": {},
     "output_type": "display_data"
    }
   ],
   "source": [
    "plt.hist(distribution1)"
   ]
  },
  {
   "cell_type": "code",
   "execution_count": 38,
   "metadata": {
    "collapsed": false
   },
   "outputs": [
    {
     "data": {
      "text/plain": [
       "(array([ 1042.,   971.,  1067.,   998.,  1021.,   947.,   979.,   992.,\n",
       "          974.,  1009.]),\n",
       " array([  8.15142655e-05,   1.00047011e-01,   2.00012507e-01,\n",
       "          2.99978003e-01,   3.99943499e-01,   4.99908995e-01,\n",
       "          5.99874492e-01,   6.99839988e-01,   7.99805484e-01,\n",
       "          8.99770980e-01,   9.99736477e-01]),\n",
       " <a list of 10 Patch objects>)"
      ]
     },
     "execution_count": 38,
     "metadata": {},
     "output_type": "execute_result"
    },
    {
     "data": {
      "image/png": "[encoded data removed]",
      "text/plain": [
       "<matplotlib.figure.Figure at 0x7fdfd299d5f8>"
      ]
     },
     "metadata": {},
     "output_type": "display_data"
    }
   ],
   "source": [
    "plt.hist((distribution2))"
   ]
  },
  {
   "cell_type": "code",
   "execution_count": 39,
   "metadata": {
    "collapsed": false
   },
   "outputs": [
    {
     "data": {
      "text/plain": [
       "(array([  421.,  2297.,  1730.,  3210.,   993.,  1026.,   270.,    31.,\n",
       "           18.,     4.]),\n",
       " array([  0. ,   1.6,   3.2,   4.8,   6.4,   8. ,   9.6,  11.2,  12.8,\n",
       "         14.4,  16. ]),\n",
       " <a list of 10 Patch objects>)"
      ]
     },
     "execution_count": 39,
     "metadata": {},
     "output_type": "execute_result"
    },
    {
     "data": {
      "image/png": "[encoded data removed]",
      "text/plain": [
       "<matplotlib.figure.Figure at 0x7fdfb011f470>"
      ]
     },
     "metadata": {},
     "output_type": "display_data"
    }
   ],
   "source": [
    "plt.hist((distribution3))"
   ]
  },
  {
   "cell_type": "markdown",
   "metadata": {},
   "source": [
    "## Going further\n",
    "\n",
    "If you want to learn more about Python for Data Science, the full O'Reilly's [Python Data Science Handbook](https://github.com/jakevdp/PythonDataScienceHandbook) book is available for free in the form of...notebooks on GitHub. A great ressource if you want to continue in this field!"
   ]
  }
 ],
 "metadata": {
  "anaconda-cloud": {},
  "kernelspec": {
   "display_name": "Python 3",
   "language": "python",
   "name": "python3"
  },
  "language_info": {
   "codemirror_mode": {
    "name": "ipython",
    "version": 3
   },
   "file_extension": ".py",
   "mimetype": "text/x-python",
   "name": "python",
   "nbconvert_exporter": "python",
   "pygments_lexer": "ipython3",
   "version": "3.5.2"
  }
 },
 "nbformat": 4,
 "nbformat_minor": 2
}
