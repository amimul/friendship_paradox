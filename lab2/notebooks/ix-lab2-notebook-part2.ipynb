{
 "cells": [
  {
   "cell_type": "code",
   "execution_count": 1,
   "metadata": {
    "collapsed": false
   },
   "outputs": [],
   "source": [
    "import pandas as pd\n",
    "import numpy as np\n",
    "import matplotlib.pyplot as plt\n",
    "import seaborn as sb\n",
    "import requests\n",
    "import random\n",
    "\n",
    "%matplotlib inline"
   ]
  },
  {
   "cell_type": "markdown",
   "metadata": {},
   "source": [
    "# Networks: structure, evolution & processes\n",
    "**Internet Analytics - Lab 2**\n",
    "\n",
    "---\n",
    "\n",
    "**Group:** *Y*\n",
    "\n",
    "**Names:**\n",
    "\n",
    "* *Kristian Aurlien*\n",
    "* *Mateusz Paluchowski*\n",
    "\n",
    "---\n",
    "\n",
    "#### Instructions\n",
    "\n",
    "*This is a template for part 2 of the lab. Clearly write your answers, comments and interpretations in Markodown cells. Don't forget that you can add $\\LaTeX$ equations in these cells. Feel free to add or remove any cell.*\n",
    "\n",
    "*Please properly comment your code. Code readability will be considered for grading. To avoid long cells of codes in the notebook, you can also embed long python functions and classes in a separate module. Don’t forget to hand in your module if that is the case. In multiple exercises, you are required to come up with your own method to solve various problems. Be creative and clearly motivate and explain your methods. Creativity and clarity will be considered for grading.*"
   ]
  },
  {
   "cell_type": "markdown",
   "metadata": {},
   "source": [
    "---\n",
    "\n",
    "## 2.2 Network sampling\n",
    "\n",
    "#### Exercise 2.7: Random walk on the Facebook network"
   ]
  },
  {
   "cell_type": "code",
   "execution_count": 2,
   "metadata": {
    "collapsed": true
   },
   "outputs": [],
   "source": [
    "def crawl_API(user_id):\n",
    "    # Base url of the API\n",
    "    URL_TEMPLATE = 'http://iccluster118.iccluster.epfl.ch:5050/v1.0/facebook?user={user_id}'\n",
    "    # The actual url to call \n",
    "    url = URL_TEMPLATE.format(user_id=user_id)\n",
    "    # Execute the HTTP Get request\n",
    "    response = requests.get(url)\n",
    "    # Format the json response as a Python dict\n",
    "    data = response.json()\n",
    "    \n",
    "    return data"
   ]
  },
  {
   "cell_type": "code",
   "execution_count": 3,
   "metadata": {
    "collapsed": false
   },
   "outputs": [
    {
     "data": {
      "text/plain": [
       "{u'error': u'Not found'}"
      ]
     },
     "execution_count": 3,
     "metadata": {},
     "output_type": "execute_result"
    }
   ],
   "source": [
    "crawl_API('123')"
   ]
  },
  {
   "cell_type": "code",
   "execution_count": 4,
   "metadata": {
    "collapsed": true
   },
   "outputs": [],
   "source": [
    "def random_walker(source_node, No_of_nodes):\n",
    "    ages = []\n",
    "    degrees = []\n",
    "    current_node = source_node\n",
    "    i=0\n",
    "    while i < No_of_nodes:\n",
    "        ages.append(current_node['age'])\n",
    "        friends = current_node['friends']\n",
    "        degrees.append(len(friends))\n",
    "        \n",
    "        while True:\n",
    "            neighbor = crawl_API( str(random.choice(friends)) )\n",
    "            if 'error' not in neighbor:\n",
    "                break\n",
    "        \n",
    "        current_node = neighbor\n",
    "        i += 1\n",
    "    return ages, degrees"
   ]
  },
  {
   "cell_type": "code",
   "execution_count": 5,
   "metadata": {
    "collapsed": false
   },
   "outputs": [],
   "source": [
    "source_node = crawl_API('f30ff3966f16ed62f5165a229a19b319')"
   ]
  },
  {
   "cell_type": "code",
   "execution_count": 6,
   "metadata": {
    "collapsed": false
   },
   "outputs": [],
   "source": [
    "facebook_ages, facebook_degrees = random_walker(source_node, 1000)"
   ]
  },
  {
   "cell_type": "code",
   "execution_count": 8,
   "metadata": {
    "collapsed": false
   },
   "outputs": [
    {
     "name": "stdout",
     "output_type": "stream",
     "text": [
      "The mean age of nodes visited in the random walk is 23.10\n"
     ]
    }
   ],
   "source": [
    "print(\"The mean age of nodes visited in the random walk is {:.2f}\".format(np.mean(facebook_ages)))"
   ]
  },
  {
   "cell_type": "code",
   "execution_count": 9,
   "metadata": {
    "collapsed": false
   },
   "outputs": [
    {
     "data": {
      "image/png": "[encoded data removed]",
      "text/plain": [
       "<matplotlib.figure.Figure at 0x11bda4bd0>"
      ]
     },
     "metadata": {},
     "output_type": "display_data"
    }
   ],
   "source": [
    "mean_distro = []\n",
    "ages= []\n",
    "\n",
    "for i, age in enumerate(facebook_ages):\n",
    "    ages.append(age)\n",
    "    \n",
    "    mean_distro.append(np.mean(ages))\n",
    "\n",
    "plt.plot(mean_distro)\n",
    "plt.title(\"Mean age distribution\")\n",
    "plt.ylabel(\"Age\")\n",
    "plt.xlabel(\"Nodes visited\")\n",
    "plt.show()"
   ]
  },
  {
   "cell_type": "markdown",
   "metadata": {},
   "source": [
    "We observe that our estimate is far off the true average of 43.3 years. One explanation of this is that our random walk is more likely to visit nodes which many friends, which seemingly gives a bias towards younger people. We try to get a more accurate estimate by getting an 'unbiased estimate', where the node statistic (age) is normalized by the node degree."
   ]
  },
  {
   "cell_type": "markdown",
   "metadata": {},
   "source": [
    "#### Exercise 2.8"
   ]
  },
  {
   "cell_type": "code",
   "execution_count": 10,
   "metadata": {
    "collapsed": true
   },
   "outputs": [],
   "source": [
    "def unbiased_estimate(ages, degrees):\n",
    "    \n",
    "    num = sum(ages / degrees)\n",
    "    denum = sum(np.ones(len(degrees)) / degrees)\n",
    "    \n",
    "    return num / denum"
   ]
  },
  {
   "cell_type": "code",
   "execution_count": 11,
   "metadata": {
    "collapsed": false
   },
   "outputs": [
    {
     "data": {
      "image/png": "[encoded data removed]",
      "text/plain": [
       "<matplotlib.figure.Figure at 0x11bda4190>"
      ]
     },
     "metadata": {},
     "output_type": "display_data"
    }
   ],
   "source": [
    "mean_unbiased_distro = []\n",
    "ages = np.array([])\n",
    "degrees = np.array([])\n",
    "\n",
    "for i, age in enumerate(facebook_ages):\n",
    "    ages = np.append(ages, age)\n",
    "    degrees = np.append(degrees, facebook_degrees[i])\n",
    "    \n",
    "    mean_unbiased_distro.append( unbiased_estimate(ages, degrees) )\n",
    "\n",
    "\n",
    "plt.plot(mean_unbiased_distro)\n",
    "plt.title(\"Mean unbiased age distribution\")\n",
    "plt.ylabel(\"Age\")\n",
    "plt.xlabel(\"Nodes visited\")\n",
    "plt.show()"
   ]
  },
  {
   "cell_type": "code",
   "execution_count": 12,
   "metadata": {
    "collapsed": false
   },
   "outputs": [
    {
     "name": "stdout",
     "output_type": "stream",
     "text": [
      "Using the unbiased estimate, we end up with an estimate of 44.08.\n"
     ]
    }
   ],
   "source": [
    "print(\"Using the unbiased estimate, we end up with an estimate of {:.2f}.\".format(mean_unbiased_distro[-1]))"
   ]
  },
  {
   "cell_type": "markdown",
   "metadata": {},
   "source": [
    "Using the unbiased estimate, we end up with an estimate of 44.08.\n",
    "\n",
    "We observe that we are now only 0.7 years away from the esitmated true average age, which is much closer than the original biased estimate. We could probably decrease this difference by crawling more than just 1000 nodes."
   ]
  }
 ],
 "metadata": {
  "kernelspec": {
   "display_name": "Python 2",
   "language": "python",
   "name": "python2"
  },
  "language_info": {
   "codemirror_mode": {
    "name": "ipython",
    "version": 3
   },
   "file_extension": ".py",
   "mimetype": "text/x-python",
   "name": "python",
   "nbconvert_exporter": "python",
   "pygments_lexer": "ipython3",
   "version": "3.6.0"
  }
 },
 "nbformat": 4,
 "nbformat_minor": 2
}
