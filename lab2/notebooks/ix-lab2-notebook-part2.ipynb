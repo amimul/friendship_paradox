{
 "cells": [
  {
   "cell_type": "code",
   "execution_count": 1,
   "metadata": {
    "collapsed": true
   },
   "outputs": [],
   "source": [
    "import requests\n",
    "from random import choice\n",
    "import numpy as np\n",
    "\n",
    "import matplotlib.pyplot as plt\n",
    "import seaborn as sb\n",
    "%matplotlib inline"
   ]
  },
  {
   "cell_type": "markdown",
   "metadata": {},
   "source": [
    "# Networks: structure, evolution & processes\n",
    "**Internet Analytics - Lab 2**\n",
    "\n",
    "---\n",
    "\n",
    "**Group:** *Your group letter.*\n",
    "\n",
    "**Names:**\n",
    "\n",
    "* *Name 1*\n",
    "* *Name 2*\n",
    "* *Name 3*\n",
    "\n",
    "---\n",
    "\n",
    "#### Instructions\n",
    "\n",
    "*This is a template for part 2 of the lab. Clearly write your answers, comments and interpretations in Markodown cells. Don't forget that you can add $\\LaTeX$ equations in these cells. Feel free to add or remove any cell.*\n",
    "\n",
    "*Please properly comment your code. Code readability will be considered for grading. To avoid long cells of codes in the notebook, you can also embed long python functions and classes in a separate module. Don’t forget to hand in your module if that is the case. In multiple exercises, you are required to come up with your own method to solve various problems. Be creative and clearly motivate and explain your methods. Creativity and clarity will be considered for grading.*"
   ]
  },
  {
   "cell_type": "markdown",
   "metadata": {},
   "source": [
    "---\n",
    "\n",
    "## 2.2 Network sampling\n",
    "\n",
    "#### Exercise 2.7: Random walk on the Facebook network"
   ]
  },
  {
   "cell_type": "code",
   "execution_count": 2,
   "metadata": {
    "collapsed": true
   },
   "outputs": [],
   "source": [
    "URL_TEMPLATE = 'http://iccluster118.iccluster.epfl.ch:5050/v1.0/facebook?user={user_id}'\n",
    "\n",
    "def get_user(user_id):\n",
    "    url = URL_TEMPLATE.format(user_id=user_id)\n",
    "    response = requests.get(url)\n",
    "    return response.json()"
   ]
  },
  {
   "cell_type": "code",
   "execution_count": 15,
   "metadata": {
    "collapsed": true
   },
   "outputs": [],
   "source": [
    "start_node = \"f30ff3966f16ed62f5165a229a19b319\"\n",
    "n_nodees = 1000"
   ]
  },
  {
   "cell_type": "code",
   "execution_count": 16,
   "metadata": {
    "collapsed": false
   },
   "outputs": [],
   "source": [
    "user = get_user(start_node)\n",
    "\n",
    "ages = []\n",
    "estimates = []\n",
    "\n",
    "for i in range(n_nodees):\n",
    "    age = user['age']\n",
    "    ages.append(age)\n",
    "    \n",
    "    estimates.append(np.mean(ages))\n",
    "    \n",
    "    next_user_id = choice(user['friends'])\n",
    "    user = get_user(next_user_id)"
   ]
  },
  {
   "cell_type": "code",
   "execution_count": 22,
   "metadata": {
    "collapsed": false
   },
   "outputs": [
    {
     "name": "stdout",
     "output_type": "stream",
     "text": [
      "The mean age of nodes visited in the random walk is 22.38\n"
     ]
    }
   ],
   "source": [
    "print(\"The mean age of nodes visited in the random walk is {:.2f}\".format(np.mean(ages)))"
   ]
  },
  {
   "cell_type": "code",
   "execution_count": 23,
   "metadata": {
    "collapsed": false
   },
   "outputs": [
    {
     "data": {
      "image/png": "[encoded data removed]",
      "text/plain": [
       "<matplotlib.figure.Figure at 0x11959be10>"
      ]
     },
     "metadata": {},
     "output_type": "display_data"
    }
   ],
   "source": [
    "plt.plot(estimates)\n",
    "plt.show()"
   ]
  },
  {
   "cell_type": "markdown",
   "metadata": {},
   "source": [
    "#### Exercise 2.8"
   ]
  },
  {
   "cell_type": "markdown",
   "metadata": {},
   "source": [
    "We observe that our estimate is far off the true average of 43.3 years. One explanation of this is that our random walk is more likely to visit nodes which many friends, which seemingly gives a bias towards younger people. We try to get a more accurate estimate by getting an 'unbiased estimate', where the node statistic (age) is normalized by the node degree."
   ]
  },
  {
   "cell_type": "code",
   "execution_count": 19,
   "metadata": {
    "collapsed": false
   },
   "outputs": [],
   "source": [
    "n_nodes = 1000\n",
    "\n",
    "def unbiased_estimate(ages, degrees):\n",
    "    \n",
    "    num = sum(ages / degrees)\n",
    "    denum = sum(np.ones(len(degrees)) / degrees)\n",
    "    \n",
    "    return num / denum\n",
    "\n",
    "user = get_user(start_node)\n",
    "ages, degrees = np.array([]), np.array([])\n",
    "estimates = []\n",
    "\n",
    "for i in range(n_nodes):\n",
    "    age = user['age']\n",
    "    friends = user['friends']\n",
    "    degree = len(friends)\n",
    "    \n",
    "    ages = np.append(age, ages)\n",
    "    degrees = np.append(degree, degrees)\n",
    "    \n",
    "    estimate = unbiased_estimate(ages, degrees)\n",
    "    estimates.append(estimate)\n",
    "    \n",
    "    next_user_id = choice(user['friends'])\n",
    "    user = get_user(next_user_id)\n",
    "    "
   ]
  },
  {
   "cell_type": "code",
   "execution_count": 20,
   "metadata": {
    "collapsed": false
   },
   "outputs": [
    {
     "data": {
      "image/png": "[encoded data removed]",
      "text/plain": [
       "<matplotlib.figure.Figure at 0x119544b00>"
      ]
     },
     "metadata": {},
     "output_type": "display_data"
    }
   ],
   "source": [
    "plt.plot(estimates)\n",
    "plt.show()"
   ]
  },
  {
   "cell_type": "code",
   "execution_count": 25,
   "metadata": {
    "collapsed": false
   },
   "outputs": [
    {
     "name": "stdout",
     "output_type": "stream",
     "text": [
      "Using the unbiased estimate, we end up with an estimate of 41.97.\n"
     ]
    }
   ],
   "source": [
    "print(\"Using the unbiased estimate, we end up with an estimate of {:.2f}.\".format(unbiased_estimate(ages, degrees)))"
   ]
  },
  {
   "cell_type": "markdown",
   "metadata": {},
   "source": [
    "We observe that we are now only 1.3 years away from the true average age, which is much closer than the original estimate."
   ]
  }
 ],
 "metadata": {
  "kernelspec": {
   "display_name": "Python 3",
   "language": "python",
   "name": "python3"
  },
  "language_info": {
   "codemirror_mode": {
    "name": "ipython",
    "version": 3
   },
   "file_extension": ".py",
   "mimetype": "text/x-python",
   "name": "python",
   "nbconvert_exporter": "python",
   "pygments_lexer": "ipython3",
   "version": "3.6.0"
  }
 },
 "nbformat": 4,
 "nbformat_minor": 2
}
