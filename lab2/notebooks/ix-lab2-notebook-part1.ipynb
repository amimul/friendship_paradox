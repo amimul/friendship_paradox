{
 "cells": [
  {
   "cell_type": "code",
   "execution_count": 1,
   "metadata": {
    "collapsed": true
   },
   "outputs": [],
   "source": [
    "import pandas as pd\n",
    "import numpy as np\n",
    "import networkx as nx\n",
    "import matplotlib.pyplot as plt\n",
    "import seaborn as sb\n",
    "import csv\n",
    "import os\n",
    "\n",
    "\n",
    "%matplotlib inline"
   ]
  },
  {
   "cell_type": "markdown",
   "metadata": {},
   "source": [
    "# Networks: structure, evolution & processes\n",
    "**Internet Analytics - Lab 2**\n",
    "\n",
    "---\n",
    "\n",
    "**Group:** *Y*\n",
    "\n",
    "**Names:**\n",
    "\n",
    "* *Maateusz Paaluchowski*\n",
    "* *Kristian Aurlien*\n",
    "\n",
    "---\n",
    "\n",
    "#### Instructions\n",
    "\n",
    "*This is a template for part 1 of the lab. Clearly write your answers, comments and interpretations in Markodown cells. Don't forget that you can add $\\LaTeX$ equations in these cells. Feel free to add or remove any cell.*\n",
    "\n",
    "*Please properly comment your code. Code readability will be considered for grading. To avoid long cells of codes in the notebook, you can also embed long python functions and classes in a separate module. Don’t forget to hand in your module if that is the case. In multiple exercises, you are required to come up with your own method to solve various problems. Be creative and clearly motivate and explain your methods. Creativity and clarity will be considered for grading.*"
   ]
  },
  {
   "cell_type": "markdown",
   "metadata": {},
   "source": [
    "---\n",
    "\n",
    "## 2.1 Exploration of real networks\n",
    "\n",
    "#### Exercise 2.1"
   ]
  },
  {
   "cell_type": "code",
   "execution_count": 2,
   "metadata": {
    "collapsed": false
   },
   "outputs": [],
   "source": [
    "DATA_PATH = '../data/'\n",
    "\n",
    "def load_graph(network_name):\n",
    "    file_path = os.path.join(DATA_PATH, network_name)\n",
    "    with open(file_path) as f:\n",
    "        data=[tuple(line) for line in csv.reader(f)]\n",
    "        \n",
    "    # Drop the two first rows, containing headers \n",
    "    edge_list = data[2:]\n",
    "    \n",
    "    graph = nx.Graph(edge_list)\n",
    "    \n",
    "    return graph\n",
    "\n",
    "\n",
    "G1 = load_graph('network1.csv')"
   ]
  },
  {
   "cell_type": "code",
   "execution_count": 3,
   "metadata": {
    "collapsed": false
   },
   "outputs": [
    {
     "name": "stdout",
     "output_type": "stream",
     "text": [
      "Number of nodes: 13033\n",
      "Number of edges: 18584\n"
     ]
    }
   ],
   "source": [
    "def describe_graph(graph):\n",
    "    print(\"Number of nodes:\", graph.number_of_nodes())\n",
    "    print(\"Number of edges:\", graph.number_of_edges())\n",
    "    \n",
    "describe_graph(G1)"
   ]
  },
  {
   "cell_type": "markdown",
   "metadata": {},
   "source": [
    "#### Exercise 2.2:  Node degree distribution"
   ]
  },
  {
   "cell_type": "code",
   "execution_count": 4,
   "metadata": {
    "collapsed": false
   },
   "outputs": [],
   "source": [
    "def node_degree_distribution(graph):\n",
    "    degrees = sorted(graph.degree().values(), reverse=True)\n",
    "    cumulative_sum = np.cumsum(degrees)\n",
    "    \n",
    "    # TODO: Explain what this is\n",
    "    # TODO: Fix axis?\n",
    "    \n",
    "    print(\"The maximum degree is\", max(degrees))\n",
    "    print(\"The average degree is {:.2f}\".format(np.mean(degrees)))\n",
    "\n",
    "    \n",
    "    plt.figure(figsize=(10,5))\n",
    "    plt.subplot(1, 2, 1)\n",
    "    plt.loglog(degrees)\n",
    "    plt.title(\"Degree rank plot\")\n",
    "    plt.ylabel(\"degree\")\n",
    "    plt.xlabel(\"rank\")\n",
    "\n",
    "    plt.subplot(1, 2, 2)\n",
    "    plt.title(\"Cumulative frequency\")\n",
    "    plt.ylabel(\"sum\")\n",
    "    plt.xlabel(\"rank\")\n",
    "    plt.plot(cumulative_sum)\n",
    "    plt.show()"
   ]
  },
  {
   "cell_type": "code",
   "execution_count": 5,
   "metadata": {
    "collapsed": false
   },
   "outputs": [
    {
     "name": "stdout",
     "output_type": "stream",
     "text": [
      "The maximum degree is 1482\n",
      "The average degree is 2.85\n"
     ]
    },
    {
     "data": {
      "image/png": "[encoded data removed]",
      "text/plain": [
       "<matplotlib.figure.Figure at 0x116384ef0>"
      ]
     },
     "metadata": {},
     "output_type": "display_data"
    }
   ],
   "source": [
    "node_degree_distribution(G1)"
   ]
  },
  {
   "cell_type": "markdown",
   "metadata": {},
   "source": [
    "We can see from the linear log-log plot that the node degree distribution follows a power law."
   ]
  },
  {
   "cell_type": "code",
   "execution_count": 6,
   "metadata": {
    "collapsed": true
   },
   "outputs": [],
   "source": [
    "# TODO: Provide estimate for parameters of known distribution"
   ]
  },
  {
   "cell_type": "markdown",
   "metadata": {},
   "source": [
    "#### Exercise 2.3: Giant component"
   ]
  },
  {
   "cell_type": "code",
   "execution_count": 7,
   "metadata": {
    "collapsed": true
   },
   "outputs": [],
   "source": [
    "def describe_connected_components(graph):\n",
    "    # get the connected components\n",
    "    ccomps = sorted(nx.connected_components(graph), \\\n",
    "                                  key = len, reverse=True)\n",
    "    n_ccomps = len(ccomps)\n",
    "    print(\"There are {} connected components in the graph\\n\".format(n_ccomps))\n",
    "    \n",
    "    # Calculate the sizes of the connected components\n",
    "    ccomp_sizes = list(map(lambda x: len(x), ccomps))\n",
    "    \n",
    "    above_limit = len(ccomp_sizes) > 15\n",
    "    \n",
    "    if len(ccomp_sizes) > 15:\n",
    "        print(\"The sizes of the 15 biggest connected components are:\")\n",
    "    else:\n",
    "        print(\"The sizes of the connected components are:\")\n",
    "    print(ccomp_sizes[:15])"
   ]
  },
  {
   "cell_type": "code",
   "execution_count": 8,
   "metadata": {
    "collapsed": false
   },
   "outputs": [
    {
     "name": "stdout",
     "output_type": "stream",
     "text": [
      "There are 192 connected components in the graph\n",
      "\n",
      "The sizes of the 15 biggest connected components are:\n",
      "[12576, 16, 7, 6, 5, 5, 5, 4, 4, 4, 4, 4, 4, 4, 3]\n"
     ]
    }
   ],
   "source": [
    "describe_connected_components(G1)"
   ]
  },
  {
   "cell_type": "markdown",
   "metadata": {},
   "source": [
    "We observe one giant component in the graph, which is of size 12576"
   ]
  },
  {
   "cell_type": "markdown",
   "metadata": {},
   "source": [
    "#### Exercise 2.4: Short paths & Small-worlds"
   ]
  },
  {
   "cell_type": "code",
   "execution_count": 14,
   "metadata": {
    "collapsed": true
   },
   "outputs": [],
   "source": [
    "def small_world(graph):\n",
    "    ccomps = sorted(nx.connected_components(graph), \\\n",
    "                                  key = len, reverse=True)\n",
    "    \n",
    "    giant_component = graph.subgraph(ccomps[0])\n",
    "#     avg_shortest_paths = nx.average_shortest_path_length(giant_component)\n",
    "    \n",
    "#     print(\"The average shortest path is\", avg_shortest_paths)"
   ]
  },
  {
   "cell_type": "code",
   "execution_count": 15,
   "metadata": {
    "collapsed": false
   },
   "outputs": [],
   "source": [
    "small_world(G1)"
   ]
  },
  {
   "cell_type": "code",
   "execution_count": 18,
   "metadata": {
    "collapsed": false
   },
   "outputs": [],
   "source": [
    "ccomps = sorted(nx.connected_components(G1), \\\n",
    "                                  key = len, reverse=True)\n",
    "giant = list(ccomps[0])\n",
    "\n",
    "np.random.seed(1)\n",
    "random_node = np.random.choice(giant)"
   ]
  },
  {
   "cell_type": "code",
   "execution_count": 29,
   "metadata": {
    "collapsed": true
   },
   "outputs": [],
   "source": [
    "def network_growth(G, random_node, cutoff = 6):\n",
    "    neighbors_count = [1] #root\n",
    "    root = [random_node]\n",
    "    neighbors = []\n",
    "    while True:\n",
    "        if len(neighbors_count) > cutoff:\n",
    "            break\n",
    "        for node in root:\n",
    "            neighbors += G.neighbors(node)\n",
    "        if not neighbors:\n",
    "            break\n",
    "        neighbors_count += [len(neighbors)]\n",
    "        root = neighbors\n",
    "        neighbors = []\n",
    "        \n",
    "        \n",
    "    plt.figure()\n",
    "    plt.semilogy(neighbors_count)\n",
    "    plt.title(\"Network growth\")\n",
    "    plt.ylabel(\"No of neighbors\")\n",
    "    plt.xlabel(\"depth\")\n",
    "\n",
    "    \n",
    "    return neighbors_count"
   ]
  },
  {
   "cell_type": "code",
   "execution_count": 30,
   "metadata": {
    "collapsed": false
   },
   "outputs": [
    {
     "data": {
      "text/plain": [
       "[1, 2, 1702, 13128, 2356171, 34864609]"
      ]
     },
     "execution_count": 30,
     "metadata": {},
     "output_type": "execute_result"
    },
    {
     "data": {
      "image/png": "[encoded data removed]",
      "text/plain": [
       "<matplotlib.figure.Figure at 0x11ac8ccf8>"
      ]
     },
     "metadata": {},
     "output_type": "display_data"
    }
   ],
   "source": [
    "network_grw = network_growth(G1, random_node, 5)\n",
    "network_grw"
   ]
  },
  {
   "cell_type": "markdown",
   "metadata": {},
   "source": [
    "#### Exercise 2.5: Network comparison"
   ]
  },
  {
   "cell_type": "code",
   "execution_count": 24,
   "metadata": {
    "collapsed": false
   },
   "outputs": [],
   "source": [
    "G2 = load_graph('network2.csv')"
   ]
  },
  {
   "cell_type": "code",
   "execution_count": 26,
   "metadata": {
    "collapsed": false
   },
   "outputs": [
    {
     "name": "stdout",
     "output_type": "stream",
     "text": [
      "Number of nodes: 26542\n",
      "Number of edges: 43516\n"
     ]
    }
   ],
   "source": [
    "describe_graph(G2)"
   ]
  },
  {
   "cell_type": "code",
   "execution_count": 27,
   "metadata": {
    "collapsed": false
   },
   "outputs": [
    {
     "name": "stdout",
     "output_type": "stream",
     "text": [
      "The maximum degree is 8\n",
      "The average degree is 3.28\n"
     ]
    },
    {
     "data": {
      "image/png": "[encoded data removed]",
      "text/plain": [
       "<matplotlib.figure.Figure at 0x11655d0b8>"
      ]
     },
     "metadata": {},
     "output_type": "display_data"
    }
   ],
   "source": [
    "node_degree_distribution(G2)"
   ]
  },
  {
   "cell_type": "code",
   "execution_count": 28,
   "metadata": {
    "collapsed": false
   },
   "outputs": [
    {
     "name": "stdout",
     "output_type": "stream",
     "text": [
      "There are 5 connected components in the graph\n",
      "\n",
      "The sizes of the connected components are:\n",
      "[26481, 30, 24, 5, 2]\n"
     ]
    }
   ],
   "source": [
    "describe_connected_components(G2)"
   ]
  },
  {
   "cell_type": "code",
   "execution_count": null,
   "metadata": {
    "collapsed": false
   },
   "outputs": [],
   "source": [
    "small_world(G2)"
   ]
  },
  {
   "cell_type": "code",
   "execution_count": 31,
   "metadata": {
    "collapsed": false
   },
   "outputs": [
    {
     "data": {
      "text/plain": [
       "[1, 2, 7, 19, 63, 192]"
      ]
     },
     "execution_count": 31,
     "metadata": {},
     "output_type": "execute_result"
    },
    {
     "data": {
      "image/png": "[encoded data removed]",
      "text/plain": [
       "<matplotlib.figure.Figure at 0x10b7d9278>"
      ]
     },
     "metadata": {},
     "output_type": "display_data"
    }
   ],
   "source": [
    "ccomps = sorted(nx.connected_components(G2),key = len, reverse=True)\n",
    "giant = list(ccomps[0])\n",
    "np.random.seed(1)\n",
    "random_node = np.random.choice(giant)\n",
    "\n",
    "network_grw = network_growth(G2, random_node, 5)\n",
    "network_grw"
   ]
  },
  {
   "cell_type": "markdown",
   "metadata": {},
   "source": [
    "#### Exercise 2.6: Network identification"
   ]
  },
  {
   "cell_type": "markdown",
   "metadata": {
    "collapsed": true
   },
   "source": [
    "In the first network, the highest degree of a node is 1482, while in the second network the highest degree is 8. It is therefore reasonable to expect the second one to be the New York road network, and that the first network is the internet routers."
   ]
  },
  {
   "cell_type": "code",
   "execution_count": null,
   "metadata": {
    "collapsed": true
   },
   "outputs": [],
   "source": []
  }
 ],
 "metadata": {
  "kernelspec": {
   "display_name": "Python 2",
   "language": "python",
   "name": "python2"
  },
  "language_info": {
   "codemirror_mode": {
    "name": "ipython",
    "version": 2
   },
   "file_extension": ".py",
   "mimetype": "text/x-python",
   "name": "python",
   "nbconvert_exporter": "python",
   "pygments_lexer": "ipython2",
   "version": "2.7.13"
  }
 },
 "nbformat": 4,
 "nbformat_minor": 2
}
