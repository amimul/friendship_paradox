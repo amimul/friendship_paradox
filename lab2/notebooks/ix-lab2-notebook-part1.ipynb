{
 "cells": [
  {
   "cell_type": "code",
   "execution_count": 1,
   "metadata": {
    "collapsed": true
   },
   "outputs": [],
   "source": [
    "import pandas as pd\n",
    "import numpy as np\n",
    "from collections import Counter\n",
    "import networkx as nx\n",
    "import matplotlib.pyplot as plt\n",
    "import seaborn as sb\n",
    "import csv\n",
    "import os\n",
    "\n",
    "\n",
    "%matplotlib inline"
   ]
  },
  {
   "cell_type": "markdown",
   "metadata": {},
   "source": [
    "# Networks: structure, evolution & processes\n",
    "**Internet Analytics - Lab 2**\n",
    "\n",
    "---\n",
    "\n",
    "**Group:** *Y*\n",
    "\n",
    "**Names:**\n",
    "\n",
    "* *Mateusz Paluchowski*\n",
    "* *Kristian Aurlien*\n",
    "\n",
    "---\n",
    "\n",
    "#### Instructions\n",
    "\n",
    "*This is a template for part 1 of the lab. Clearly write your answers, comments and interpretations in Markodown cells. Don't forget that you can add $\\LaTeX$ equations in these cells. Feel free to add or remove any cell.*\n",
    "\n",
    "*Please properly comment your code. Code readability will be considered for grading. To avoid long cells of codes in the notebook, you can also embed long python functions and classes in a separate module. Don’t forget to hand in your module if that is the case. In multiple exercises, you are required to come up with your own method to solve various problems. Be creative and clearly motivate and explain your methods. Creativity and clarity will be considered for grading.*"
   ]
  },
  {
   "cell_type": "markdown",
   "metadata": {},
   "source": [
    "#### Notebook remarks\n",
    "\n",
    "We believe that code should be self commenting and we followed this logic when doing this exercises.\n",
    "\n",
    "Only some tricky parts are explained."
   ]
  },
  {
   "cell_type": "markdown",
   "metadata": {},
   "source": [
    "---\n",
    "\n",
    "## 2.1 Exploration of real networks\n",
    "\n",
    "#### Exercise 2.1"
   ]
  },
  {
   "cell_type": "markdown",
   "metadata": {},
   "source": [
    "##### 1. Load the graph in your favorite data structure - NetworkX Graph"
   ]
  },
  {
   "cell_type": "code",
   "execution_count": 2,
   "metadata": {
    "collapsed": false
   },
   "outputs": [],
   "source": [
    "DATA_PATH = '../data/'\n",
    "\n",
    "def load_graph(network_name):\n",
    "    file_path = os.path.join(DATA_PATH, network_name)\n",
    "    with open(file_path) as f:\n",
    "        data=[tuple(line) for line in csv.reader(f)]\n",
    "        \n",
    "    # Drop the two first rows, containing headers \n",
    "    edge_list = data[2:]\n",
    "    \n",
    "    graph = nx.Graph(edge_list)\n",
    "    \n",
    "    return graph\n",
    "\n",
    "\n",
    "G1 = load_graph('network1.csv')"
   ]
  },
  {
   "cell_type": "markdown",
   "metadata": {},
   "source": [
    "##### 2. How many nodes and edges does the graph contain?"
   ]
  },
  {
   "cell_type": "code",
   "execution_count": 3,
   "metadata": {
    "collapsed": false
   },
   "outputs": [
    {
     "name": "stdout",
     "output_type": "stream",
     "text": [
      "Number of nodes: 13033\n",
      "Number of edges: 18584\n"
     ]
    }
   ],
   "source": [
    "def describe_graph(graph):\n",
    "    print(\"Number of nodes:\", graph.number_of_nodes())\n",
    "    print(\"Number of edges:\", graph.number_of_edges())\n",
    "    \n",
    "describe_graph(G1)"
   ]
  },
  {
   "cell_type": "markdown",
   "metadata": {},
   "source": [
    "#### Exercise 2.2:  Node degree distribution"
   ]
  },
  {
   "cell_type": "markdown",
   "metadata": {},
   "source": [
    "#### 1. What kind of plot do you think is useful for this task?"
   ]
  },
  {
   "cell_type": "markdown",
   "metadata": {},
   "source": [
    "We decided to go for two plots: \n",
    "    1. Regular log-log plot\n",
    "    2. Cumulative log-log plot"
   ]
  },
  {
   "cell_type": "code",
   "execution_count": 4,
   "metadata": {
    "collapsed": false
   },
   "outputs": [],
   "source": [
    "def node_degree_distribution(graph):\n",
    "    counts = Counter(G1.degree().values())\n",
    "    degrees = sorted(counts.keys(), reverse=True)\n",
    "    degree_counts = [counts[deg] for deg in degrees]\n",
    "    cumsums = np.cumsum(degree_counts)\n",
    "    \n",
    "    print(\"The maximum degree is\", max(degrees))\n",
    "    print(\"The average degree is {:.2f}\".format(np.mean(degrees)))\n",
    "\n",
    "\n",
    "    plt.subplot(1, 2, 1)\n",
    "    plt.title(\"Log-log distribution plot\")\n",
    "    plt.xlabel(\"Degree\")\n",
    "    plt.ylabel(\"# Nodes with degree x\")\n",
    "    plt.xlabel(\"degree\")\n",
    "    plt.loglog(degrees, degree_counts)\n",
    "    \n",
    "    plt.subplot(1, 2, 2)\n",
    "    plt.title(\"Cumulative Log-log distribution plot\")\n",
    "    plt.xlabel(\"Degree\")\n",
    "    plt.ylabel(\"# Nodes with degree >= x\")\n",
    "    plt.xlabel(\"degree\")\n",
    "    plt.loglog(degrees, cumsums)\n",
    "    \n",
    "    plt.tight_layout()\n",
    "    plt.show()\n",
    "    \n",
    "    return degrees, degree_counts, cumsums"
   ]
  },
  {
   "cell_type": "code",
   "execution_count": 5,
   "metadata": {
    "collapsed": false
   },
   "outputs": [
    {
     "name": "stdout",
     "output_type": "stream",
     "text": [
      "The maximum degree is 1482\n",
      "The average degree is 115.99\n"
     ]
    },
    {
     "data": {
      "image/png": "[encoded data removed]",
      "text/plain": [
       "<matplotlib.figure.Figure at 0x11943eac8>"
      ]
     },
     "metadata": {},
     "output_type": "display_data"
    }
   ],
   "source": [
    "degrees, counts, cumsums = node_degree_distribution(G1)"
   ]
  },
  {
   "cell_type": "markdown",
   "metadata": {},
   "source": [
    "##### 2. Can you list some of the properties of the degree distribution?"
   ]
  },
  {
   "cell_type": "markdown",
   "metadata": {},
   "source": [
    "We can see from the linear log-log plot that the node degree distribution follows a power law.\n",
    "\n",
    "Some of the properties with this distribution:\n",
    "\n",
    "- \"Winer takes all\" - most nodes have few edges\n",
    "- Long tail - a few nodes have lots of edges"
   ]
  },
  {
   "cell_type": "markdown",
   "metadata": {
    "collapsed": true
   },
   "source": [
    "##### 3. Is it close to a well-known probability distribution? If so, provide an estimation of its parameter(s)?"
   ]
  },
  {
   "cell_type": "markdown",
   "metadata": {},
   "source": [
    "We expect the data to follow the pareto distribution. We try to fit a PDF to verify our assumptions:"
   ]
  },
  {
   "cell_type": "code",
   "execution_count": 6,
   "metadata": {
    "collapsed": false
   },
   "outputs": [],
   "source": [
    "data = [val for val in G1.degree().values()]"
   ]
  },
  {
   "cell_type": "code",
   "execution_count": 7,
   "metadata": {
    "collapsed": false
   },
   "outputs": [
    {
     "name": "stderr",
     "output_type": "stream",
     "text": [
      "/Users/kristian/anaconda/lib/python3.6/site-packages/scipy/stats/_distn_infrastructure.py:2303: RuntimeWarning: invalid value encountered in double_scalars\n",
      "  Lhat = muhat - Shat*mu\n"
     ]
    },
    {
     "name": "stdout",
     "output_type": "stream",
     "text": [
      "Shape: 5.36518173279357, loc: -3.3752240370065074, scale: 4.37522403681271\n"
     ]
    }
   ],
   "source": [
    "from scipy.stats import pareto\n",
    "\n",
    "shape, loc, scale = pareto.fit(data, 1.)\n",
    "print(\"Shape: {}, loc: {}, scale: {}\".format(shape, loc, scale))"
   ]
  },
  {
   "cell_type": "code",
   "execution_count": 8,
   "metadata": {
    "collapsed": false
   },
   "outputs": [
    {
     "data": {
      "text/plain": [
       "-0.00044645830772092388"
      ]
     },
     "execution_count": 8,
     "metadata": {},
     "output_type": "execute_result"
    }
   ],
   "source": [
    "# TODO: Verify logic\n",
    "# http://stackoverflow.com/questions/3433486/how-to-do-exponential-and-logarithmic-curve-fitting-in-python-i-found-only-poly\n",
    "degrees = sorted(G1.degree().values(), reverse=True)\n",
    "fit = np.polyfit(range(len(degrees)), np.log(degrees), 1, w=np.sqrt(degrees))\n",
    "slope = fit[0]\n",
    "slope"
   ]
  },
  {
   "cell_type": "markdown",
   "metadata": {},
   "source": [
    "#### Exercise 2.3: Giant component"
   ]
  },
  {
   "cell_type": "markdown",
   "metadata": {},
   "source": [
    "##### 1. Count the number of connected components in network1. \n",
    "##### 2. Is there a giant component ? If so, what is its size?"
   ]
  },
  {
   "cell_type": "code",
   "execution_count": 9,
   "metadata": {
    "collapsed": true
   },
   "outputs": [],
   "source": [
    "def describe_connected_components(graph):\n",
    "    # get the connected components\n",
    "    ccomps = sorted(nx.connected_components(graph), \\\n",
    "                                  key = len, reverse=True)\n",
    "    n_ccomps = len(ccomps)\n",
    "    print(\"There are {} connected components in the graph\\n\".format(n_ccomps))\n",
    "    \n",
    "    # Calculate the sizes of the connected components\n",
    "    ccomp_sizes = list(map(lambda x: len(x), ccomps))\n",
    "    \n",
    "    above_limit = len(ccomp_sizes) > 15\n",
    "    \n",
    "    if len(ccomp_sizes) > 15:\n",
    "        print(\"The sizes of the 15 biggest connected components are:\")\n",
    "    else:\n",
    "        print(\"The sizes of the connected components are:\")\n",
    "    print(ccomp_sizes[:15])"
   ]
  },
  {
   "cell_type": "code",
   "execution_count": 10,
   "metadata": {
    "collapsed": false
   },
   "outputs": [
    {
     "name": "stdout",
     "output_type": "stream",
     "text": [
      "There are 192 connected components in the graph\n",
      "\n",
      "The sizes of the 15 biggest connected components are:\n",
      "[12576, 16, 7, 6, 5, 5, 5, 4, 4, 4, 4, 4, 4, 4, 3]\n"
     ]
    }
   ],
   "source": [
    "describe_connected_components(G1)"
   ]
  },
  {
   "cell_type": "markdown",
   "metadata": {},
   "source": [
    "We observe one giant component in the graph, which is of size 12576"
   ]
  },
  {
   "cell_type": "markdown",
   "metadata": {},
   "source": [
    "#### Exercise 2.4: Short paths & Small-worlds"
   ]
  },
  {
   "cell_type": "markdown",
   "metadata": {},
   "source": [
    "##### What is the distribution of path lengths between any two nodes in the network?"
   ]
  },
  {
   "cell_type": "code",
   "execution_count": 11,
   "metadata": {
    "collapsed": true
   },
   "outputs": [],
   "source": [
    "def small_world(graph):\n",
    "    ccomps = sorted(nx.connected_components(graph), \\\n",
    "                                  key = len, reverse=True)\n",
    "    \n",
    "    giant_component = graph.subgraph(ccomps[0])\n",
    "    avg_shortest_paths = nx.average_shortest_path_length(giant_component)\n",
    "    \n",
    "    print(\"The average shortest path is\", avg_shortest_paths)"
   ]
  },
  {
   "cell_type": "code",
   "execution_count": 12,
   "metadata": {
    "collapsed": false
   },
   "outputs": [
    {
     "name": "stdout",
     "output_type": "stream",
     "text": [
      "The average shortest path is 4.175488076629283\n"
     ]
    }
   ],
   "source": [
    "small_world(G1)"
   ]
  },
  {
   "cell_type": "markdown",
   "metadata": {},
   "source": [
    "###### How fast is the network growing? I.e. what is the average number of nodes reachable within a distance r (in number of hops) of any other node in the network?"
   ]
  },
  {
   "cell_type": "code",
   "execution_count": 13,
   "metadata": {
    "collapsed": true
   },
   "outputs": [],
   "source": [
    "def network_growth(G, random_node, cutoff = 6):\n",
    "    neighbors_count = [1] #root\n",
    "    root = [random_node]\n",
    "    neighbors = []\n",
    "    while True:\n",
    "        if len(neighbors_count) > cutoff:\n",
    "            break\n",
    "        for node in root:\n",
    "            neighbors += G.neighbors(node)\n",
    "        if not neighbors:\n",
    "            break\n",
    "        neighbors_count += [len(neighbors)]\n",
    "        root = neighbors\n",
    "        neighbors = []\n",
    "        \n",
    "        \n",
    "    plt.figure()\n",
    "    plt.semilogy(neighbors_count)\n",
    "    plt.title(\"Network growth\")\n",
    "    plt.ylabel(\"No of neighbors\")\n",
    "    plt.xlabel(\"depth\")\n",
    "\n",
    "    \n",
    "    return neighbors_count"
   ]
  },
  {
   "cell_type": "code",
   "execution_count": 14,
   "metadata": {
    "collapsed": false
   },
   "outputs": [
    {
     "data": {
      "text/plain": [
       "[1, 2, 242, 7948, 259200, 14901025, 469336612]"
      ]
     },
     "execution_count": 14,
     "metadata": {},
     "output_type": "execute_result"
    },
    {
     "data": {
      "image/png": "[encoded data removed]",
      "text/plain": [
       "<matplotlib.figure.Figure at 0x11a454cc0>"
      ]
     },
     "metadata": {},
     "output_type": "display_data"
    }
   ],
   "source": [
    "ccomps = sorted(nx.connected_components(G1), key = len, reverse=True)\n",
    "giant = list(ccomps[0])\n",
    "np.random.seed(1)\n",
    "random_node_from_giant = np.random.choice(giant)\n",
    "distance = 6\n",
    "\n",
    "network_grw = network_growth(G1, random_node_from_giant, distance)\n",
    "network_grw"
   ]
  },
  {
   "cell_type": "markdown",
   "metadata": {},
   "source": [
    "Conducted test seem to verify that indeed network1 is a small-world. Not only the average shortes path to is 4.17, but also we can see that network growths exponentialy with each step with the slope:"
   ]
  },
  {
   "cell_type": "code",
   "execution_count": 15,
   "metadata": {
    "collapsed": false
   },
   "outputs": [
    {
     "data": {
      "text/plain": [
       "3.4706768657998719"
      ]
     },
     "execution_count": 15,
     "metadata": {},
     "output_type": "execute_result"
    }
   ],
   "source": [
    "fit = np.polyfit(range(len(network_grw)), np.log(network_grw), 1, w=np.sqrt(network_grw))\n",
    "slope = fit[0]\n",
    "slope"
   ]
  },
  {
   "cell_type": "markdown",
   "metadata": {},
   "source": [
    "#### Exercise 2.5: Network comparison"
   ]
  },
  {
   "cell_type": "code",
   "execution_count": 16,
   "metadata": {
    "collapsed": false
   },
   "outputs": [],
   "source": [
    "G2 = load_graph('network2.csv')"
   ]
  },
  {
   "cell_type": "markdown",
   "metadata": {},
   "source": [
    "##### 1. Using the properties computed in Exercises 2.1, 2.2, 2.3 and 2.4 explore the structure of this network."
   ]
  },
  {
   "cell_type": "code",
   "execution_count": 17,
   "metadata": {
    "collapsed": false
   },
   "outputs": [
    {
     "name": "stdout",
     "output_type": "stream",
     "text": [
      "Number of nodes: 26542\n",
      "Number of edges: 43516\n"
     ]
    }
   ],
   "source": [
    "describe_graph(G2)"
   ]
  },
  {
   "cell_type": "code",
   "execution_count": 18,
   "metadata": {
    "collapsed": false
   },
   "outputs": [
    {
     "name": "stdout",
     "output_type": "stream",
     "text": [
      "The maximum degree is 1482\n",
      "The average degree is 115.99\n"
     ]
    },
    {
     "data": {
      "image/png": "[encoded data removed]",
      "text/plain": [
       "<matplotlib.figure.Figure at 0x11a6120b8>"
      ]
     },
     "metadata": {},
     "output_type": "display_data"
    }
   ],
   "source": [
    "_ = node_degree_distribution(G2)"
   ]
  },
  {
   "cell_type": "code",
   "execution_count": null,
   "metadata": {
    "collapsed": false
   },
   "outputs": [
    {
     "name": "stdout",
     "output_type": "stream",
     "text": [
      "There are 5 connected components in the graph\n",
      "\n",
      "The sizes of the connected components are:\n",
      "[26481, 30, 24, 5, 2]\n"
     ]
    }
   ],
   "source": [
    "describe_connected_components(G2)"
   ]
  },
  {
   "cell_type": "code",
   "execution_count": null,
   "metadata": {
    "collapsed": false
   },
   "outputs": [],
   "source": [
    "small_world(G2)"
   ]
  },
  {
   "cell_type": "code",
   "execution_count": null,
   "metadata": {
    "collapsed": false
   },
   "outputs": [],
   "source": [
    "ccomps = sorted(nx.connected_components(G2),key = len, reverse=True)\n",
    "giant = list(ccomps[0])\n",
    "np.random.seed(1)\n",
    "random_node = np.random.choice(giant)\n",
    "distance = 6\n",
    "\n",
    "network_grw = network_growth(G2, random_node, 6)\n",
    "network_grw"
   ]
  },
  {
   "cell_type": "code",
   "execution_count": null,
   "metadata": {
    "collapsed": false
   },
   "outputs": [],
   "source": [
    "fit = np.polyfit(range(len(network_grw)), np.log(network_grw), 1, w=np.sqrt(network_grw))\n",
    "slope = fit[0]\n",
    "slope"
   ]
  },
  {
   "cell_type": "markdown",
   "metadata": {},
   "source": [
    "Network2 cannot be called small-world simply due to extensive average shortest paths which is 97.55."
   ]
  },
  {
   "cell_type": "markdown",
   "metadata": {},
   "source": [
    "##### 2. How does this network differ from the previous one?\n",
    " \n",
    "###### Network1\n",
    "('Number of nodes:', 13033)\n",
    "\n",
    "('Number of edges:', 18584)\n",
    "\n",
    "('The maximum degree is', 1482)\n",
    "\n",
    "('The average degree is', 2.85)\n",
    "\n",
    "There are 192 connected components in the graph\n",
    "The sizes of the 15 biggest connected components are:\n",
    "[12576, 16, 7, 6, 5, 5, 5, 4, 4, 4, 4, 4, 4, 4, 3]\n",
    "\n",
    "We observe one giant component in the graph, which is of size 12576\n",
    "\n",
    "('The average shortest path is', 4.175488076629283)\n",
    "\n",
    "Network growth\n",
    "[1, 2, 28, 1088, 33121, 1670996, 59644788]\n",
    "\n",
    "###### Network2\n",
    "('Number of nodes:', 26542)\n",
    "\n",
    "('Number of edges:', 43516)\n",
    "\n",
    "('The maximum degree is', 8)\n",
    "\n",
    "The average degree is 3.28\n",
    "\n",
    "There are 5 connected components in the graph\n",
    "The sizes of the connected components are:\n",
    "[26481, 30, 24, 5, 2]\n",
    "\n",
    "('The average shortest path is', 97.55708682597601)\n",
    "\n",
    "Network growth:\n",
    "[1, 4, 16, 61, 242, 929, 3682]\n",
    "\n",
    "Network2 is far less connected than network1. Even though it has double the amount of nodes and triple the amount of edges and average node degree is higher, the average shortest paths differ significantly (almost 20x longer average shortest path for network2 than for network1)."
   ]
  },
  {
   "cell_type": "markdown",
   "metadata": {},
   "source": [
    "#### Exercise 2.6: Network identification"
   ]
  },
  {
   "cell_type": "markdown",
   "metadata": {
    "collapsed": true
   },
   "source": [
    "In the first network, the highest degree of a node is 1482, while in the second network the highest degree is 8. It is therefore reasonable to expect the second one to be the New York road network, and that the first network is the internet routers."
   ]
  }
 ],
 "metadata": {
  "kernelspec": {
   "display_name": "Python 2",
   "language": "python",
   "name": "python2"
  },
  "language_info": {
   "codemirror_mode": {
    "name": "ipython",
    "version": 3
   },
   "file_extension": ".py",
   "mimetype": "text/x-python",
   "name": "python",
   "nbconvert_exporter": "python",
   "pygments_lexer": "ipython3",
   "version": "3.6.0"
  }
 },
 "nbformat": 4,
 "nbformat_minor": 2
}
