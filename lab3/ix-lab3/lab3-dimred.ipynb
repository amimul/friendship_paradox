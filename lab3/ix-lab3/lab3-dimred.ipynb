{
 "cells": [
  {
   "cell_type": "markdown",
   "metadata": {},
   "source": [
    "# Lab 3 — dimensionality reduction"
   ]
  },
  {
   "cell_type": "code",
   "execution_count": 1,
   "metadata": {
    "collapsed": false
   },
   "outputs": [],
   "source": [
    "import json\n",
    "import matplotlib.pyplot as plt\n",
    "import numpy as np\n",
    "import pickle\n",
    "\n",
    "\n",
    "from operator import itemgetter\n",
    "from pyspark.sql import functions as F\n",
    "\n",
    "%matplotlib inline\n",
    "plt.style.use(\"ggplot\")"
   ]
  },
  {
   "cell_type": "code",
   "execution_count": 2,
   "metadata": {
    "collapsed": false
   },
   "outputs": [
    {
     "name": "stdout",
     "output_type": "stream",
     "text": [
      "{\"tagId\": 1127, \"tag\": \"zombie\"}\r\n",
      "{\"tagId\": 1128, \"tag\": \"zombies\"}\r\n"
     ]
    }
   ],
   "source": [
    "!hdfs dfs -cat /ix/ml-20m/genome-tags.txt | tail -n 2"
   ]
  },
  {
   "cell_type": "code",
   "execution_count": 3,
   "metadata": {
    "collapsed": false
   },
   "outputs": [
    {
     "data": {
      "text/plain": [
       "<pyspark.context.SparkContext at 0x7f1ff1f80208>"
      ]
     },
     "execution_count": 3,
     "metadata": {},
     "output_type": "execute_result"
    }
   ],
   "source": [
    "sc"
   ]
  },
  {
   "cell_type": "code",
   "execution_count": 4,
   "metadata": {
    "collapsed": false
   },
   "outputs": [],
   "source": [
    "genome_tags_RDD = sc.textFile(\"/ix/ml-20m/genome-tags.txt\").map(json.loads)\n",
    "tag2name = dict(genome_tags_RDD.map(itemgetter(\"tagId\", \"tag\")).collect())"
   ]
  },
  {
   "cell_type": "code",
   "execution_count": 5,
   "metadata": {
    "collapsed": false
   },
   "outputs": [
    {
     "data": {
      "text/plain": [
       "1128"
      ]
     },
     "execution_count": 5,
     "metadata": {},
     "output_type": "execute_result"
    }
   ],
   "source": [
    "len(tag2name)"
   ]
  },
  {
   "cell_type": "code",
   "execution_count": 6,
   "metadata": {
    "collapsed": false
   },
   "outputs": [],
   "source": [
    "genome_scores_RDD = sc.textFile(\"/ix/ml-20m/genome-scores.txt\").map(json.loads)\n",
    "# genome_scores = data.collect() # RDD IS TOO BIG"
   ]
  },
  {
   "cell_type": "markdown",
   "metadata": {},
   "source": [
    "### Exercise 3.1 "
   ]
  },
  {
   "cell_type": "code",
   "execution_count": null,
   "metadata": {
    "collapsed": false
   },
   "outputs": [],
   "source": [
    "tag2name"
   ]
  },
  {
   "cell_type": "code",
   "execution_count": 8,
   "metadata": {
    "collapsed": false
   },
   "outputs": [],
   "source": [
    "movies_rdd = sc.textFile(\"/ix/ml-20m/movies.txt\").map(json.loads)"
   ]
  },
  {
   "cell_type": "code",
   "execution_count": 9,
   "metadata": {
    "collapsed": true
   },
   "outputs": [],
   "source": [
    "movies = movies_rdd.collect()"
   ]
  },
  {
   "cell_type": "code",
   "execution_count": 10,
   "metadata": {
    "collapsed": false
   },
   "outputs": [
    {
     "data": {
      "text/plain": [
       "27278"
      ]
     },
     "execution_count": 10,
     "metadata": {},
     "output_type": "execute_result"
    }
   ],
   "source": [
    "len(movies)"
   ]
  },
  {
   "cell_type": "code",
   "execution_count": 11,
   "metadata": {
    "collapsed": false
   },
   "outputs": [
    {
     "data": {
      "text/plain": [
       "[{'movieId': 31, 'relevance': 0.04099999999999998, 'tagId': 1},\n",
       " {'movieId': 31, 'relevance': 0.05125000000000002, 'tagId': 2},\n",
       " {'movieId': 31, 'relevance': 0.020500000000000018, 'tagId': 3},\n",
       " {'movieId': 31, 'relevance': 0.032999999999999974, 'tagId': 4}]"
      ]
     },
     "execution_count": 11,
     "metadata": {},
     "output_type": "execute_result"
    }
   ],
   "source": [
    "smaller_genome_scores_RDD = genome_scores_RDD.filter(lambda x: x['movieId'] == 31 and x['tagId'] <= 4)\n",
    "\n",
    "genome_scores = smaller_genome_scores_RDD.collect()\n",
    "\n",
    "genome_scores"
   ]
  },
  {
   "cell_type": "code",
   "execution_count": 12,
   "metadata": {
    "collapsed": false
   },
   "outputs": [
    {
     "name": "stderr",
     "output_type": "stream",
     "text": [
      "/usr/hdp/2.5.3.0-37/spark/python/pyspark/sql/context.py:259: UserWarning: Using RDD of dict to inferSchema is deprecated. Use pyspark.sql.Row instead\n",
      "  warnings.warn(\"Using RDD of dict to inferSchema is deprecated. \"\n"
     ]
    }
   ],
   "source": [
    "genome_scores_DF = genome_scores_RDD.toDF(['movieId', 'relevance', 'tagId'])"
   ]
  },
  {
   "cell_type": "code",
   "execution_count": 13,
   "metadata": {
    "collapsed": false
   },
   "outputs": [],
   "source": [
    "genome_groups = genome_scores_DF.groupBy('movieId').agg(F.collect_list('relevance'), F.collect_list('tagId'))"
   ]
  },
  {
   "cell_type": "code",
   "execution_count": 14,
   "metadata": {
    "collapsed": false
   },
   "outputs": [],
   "source": [
    "g = genome_groups.collect()"
   ]
  },
  {
   "cell_type": "code",
   "execution_count": 15,
   "metadata": {
    "collapsed": false
   },
   "outputs": [
    {
     "data": {
      "text/plain": [
       "(1128, 10381)"
      ]
     },
     "execution_count": 15,
     "metadata": {},
     "output_type": "execute_result"
    }
   ],
   "source": [
    "M_matrix = np.zeros( (len(tag2name), len(g)) ) \n",
    "M_matrix.shape"
   ]
  },
  {
   "cell_type": "code",
   "execution_count": 16,
   "metadata": {
    "collapsed": true
   },
   "outputs": [],
   "source": [
    "M_matrix_movieIds = []"
   ]
  },
  {
   "cell_type": "code",
   "execution_count": 17,
   "metadata": {
    "collapsed": true
   },
   "outputs": [],
   "source": [
    "total_relevances = []"
   ]
  },
  {
   "cell_type": "code",
   "execution_count": 18,
   "metadata": {
    "collapsed": false
   },
   "outputs": [],
   "source": [
    "for movie, row in enumerate(g):\n",
    "    movieId = row[0]\n",
    "    relevances = row[1]\n",
    "    tags = row[2]\n",
    "    \n",
    "    M_matrix_movieIds.append(movieId)\n",
    "    \n",
    "    for relevance, tag in zip(relevances, tags):\n",
    "        M_matrix[tag - 1, movie] = relevance\n",
    "        total_relevances.append(relevance)"
   ]
  },
  {
   "cell_type": "code",
   "execution_count": 19,
   "metadata": {
    "collapsed": false
   },
   "outputs": [
    {
     "data": {
      "text/plain": [
       "array([[ 0.041  ,  0.04425,  0.027  , ...,  0.01825,  0.0385 ,  0.068  ],\n",
       "       [ 0.05125,  0.04825,  0.02725, ...,  0.024  ,  0.03875,  0.08525],\n",
       "       [ 0.0205 ,  0.01925,  0.01975, ...,  0.076  ,  0.024  ,  0.0215 ],\n",
       "       ..., \n",
       "       [ 0.01225,  0.0115 ,  0.01125, ...,  0.01125,  0.0175 ,  0.009  ],\n",
       "       [ 0.08025,  0.07825,  0.07225, ...,  0.076  ,  0.16825,  0.96475],\n",
       "       [ 0.01675,  0.01425,  0.01825, ...,  0.01825,  0.0275 ,  0.93775]])"
      ]
     },
     "execution_count": 19,
     "metadata": {},
     "output_type": "execute_result"
    }
   ],
   "source": [
    "M_matrix"
   ]
  },
  {
   "cell_type": "markdown",
   "metadata": {},
   "source": [
    "#### Save M_matrix to pickle"
   ]
  },
  {
   "cell_type": "code",
   "execution_count": 20,
   "metadata": {
    "collapsed": true
   },
   "outputs": [],
   "source": [
    "with open('M_matrix.pickle', 'wb') as handle:\n",
    "    pickle.dump(M_matrix, handle, protocol=pickle.HIGHEST_PROTOCOL)"
   ]
  },
  {
   "cell_type": "code",
   "execution_count": 21,
   "metadata": {
    "collapsed": true
   },
   "outputs": [],
   "source": [
    "with open('M_matrix_movieIds.pickle', 'wb') as handle:\n",
    "    pickle.dump(M_matrix_movieIds, handle, protocol=pickle.HIGHEST_PROTOCOL)"
   ]
  },
  {
   "cell_type": "code",
   "execution_count": 22,
   "metadata": {
    "collapsed": false
   },
   "outputs": [],
   "source": [
    "#Load from pickle\n",
    "\n",
    "with open('M_matrix.pickle', 'rb') as handle:\n",
    "    M_matrix = pickle.load(handle)\n",
    "    \n",
    "with open('M_matrix_movieIds.pickle', 'rb') as handle:\n",
    "    M_matrix_movieIds = pickle.load(handle)"
   ]
  },
  {
   "cell_type": "markdown",
   "metadata": {},
   "source": [
    "### Explore the data"
   ]
  },
  {
   "cell_type": "code",
   "execution_count": 23,
   "metadata": {
    "collapsed": false
   },
   "outputs": [
    {
     "data": {
      "image/png": "[encoded data removed]",
      "text/plain": [
       "<matplotlib.figure.Figure at 0x7f1fa51db780>"
      ]
     },
     "metadata": {},
     "output_type": "display_data"
    }
   ],
   "source": [
    "plt.boxplot(total_relevances, 0, '')\n",
    "plt.title(\"Variance of the movie relevances\")\n",
    "plt.ylabel('Relevance value')\n",
    "plt.xlabel('All relevances')\n",
    "plt.show()"
   ]
  },
  {
   "cell_type": "markdown",
   "metadata": {},
   "source": [
    "As visible in the boxplot above, majority of the movie tags is irrelevant for the given movie - mean value of movie relevance is slightly above 0.05."
   ]
  },
  {
   "cell_type": "code",
   "execution_count": 24,
   "metadata": {
    "collapsed": false
   },
   "outputs": [
    {
     "data": {
      "image/png": "[encoded data removed]",
      "text/plain": [
       "<matplotlib.figure.Figure at 0x7f1f9d331978>"
      ]
     },
     "metadata": {},
     "output_type": "display_data"
    }
   ],
   "source": [
    "M_matrix_variance = np.var(M_matrix, axis=1)\n",
    "plt.scatter(M_matrix_variance, range(1, len(M_matrix_variance)+1))\n",
    "plt.title(\"Variance of the movie tags/dimensions\")\n",
    "plt.ylabel('Tag/dimension')\n",
    "plt.xlabel('Variance')\n",
    "plt.show()"
   ]
  },
  {
   "cell_type": "code",
   "execution_count": 25,
   "metadata": {
    "collapsed": false
   },
   "outputs": [
    {
     "data": {
      "image/png": "[encoded data removed]",
      "text/plain": [
       "<matplotlib.figure.Figure at 0x7f1f9d2e0be0>"
      ]
     },
     "metadata": {},
     "output_type": "display_data"
    }
   ],
   "source": [
    "plt.hist(M_matrix_variance, bins=100, normed=1, facecolor='green', alpha=0.75)\n",
    "plt.title(\"Histogram of variance of the movie tags/dimensions\")\n",
    "plt.ylabel('Normed accumulated count')\n",
    "plt.xlabel('Variance')\n",
    "plt.show()"
   ]
  },
  {
   "cell_type": "markdown",
   "metadata": {},
   "source": [
    "As visible on the scatter plot and histogram above, most of the tags/dimensions have \n",
    "very low variance thus, most of the movies containing same tag have similair relevance. \n",
    "\n",
    "Let's check what are the top 5 tags with highest variance:"
   ]
  },
  {
   "cell_type": "code",
   "execution_count": 26,
   "metadata": {
    "collapsed": false
   },
   "outputs": [
    {
     "data": {
      "text/plain": [
       "['horrible', 'reflective', 'television', 'absurd', 'colourful']"
      ]
     },
     "execution_count": 26,
     "metadata": {},
     "output_type": "execute_result"
    }
   ],
   "source": [
    "indices = np.argsort(M_matrix_variance)\n",
    "max_5_variance_tag = [ tag2name[index] for index in indices[-5:] ]\n",
    "max_5_variance_tag"
   ]
  },
  {
   "cell_type": "markdown",
   "metadata": {},
   "source": [
    "Indeed these are ambiguous tags and could easily vary from one movie to another.\n",
    "\n",
    "What about lowest variance tags:"
   ]
  },
  {
   "cell_type": "code",
   "execution_count": 27,
   "metadata": {
    "collapsed": false
   },
   "outputs": [
    {
     "data": {
      "text/plain": [
       "['nazis', 'fighting the system', 'handycam', 'neil gaiman', 'cinematography']"
      ]
     },
     "execution_count": 27,
     "metadata": {},
     "output_type": "execute_result"
    }
   ],
   "source": [
    "low_5_variance_tag = [ tag2name[index] for index in indices[:5] ]\n",
    "low_5_variance_tag"
   ]
  },
  {
   "cell_type": "markdown",
   "metadata": {},
   "source": [
    "These tags are much less ambiguous - movie cannot be only slightly nazi, handycam or cinematography."
   ]
  },
  {
   "cell_type": "markdown",
   "metadata": {},
   "source": [
    "\n",
    "#### Eigenvalues"
   ]
  },
  {
   "cell_type": "code",
   "execution_count": 28,
   "metadata": {
    "collapsed": false
   },
   "outputs": [
    {
     "data": {
      "text/plain": [
       "array([[ 0.00490042,  0.00327346, -0.00030115, ...,  0.00016838,\n",
       "        -0.00016172, -0.00014599],\n",
       "       [ 0.00327346,  0.00374098, -0.00023234, ...,  0.00011866,\n",
       "        -0.00015645, -0.00014514],\n",
       "       [-0.00030115, -0.00023234,  0.01184989, ...,  0.00130349,\n",
       "        -0.00112118, -0.00035662],\n",
       "       ..., \n",
       "       [ 0.00016838,  0.00011866,  0.00130349, ...,  0.0188282 ,\n",
       "        -0.00114338, -0.00032847],\n",
       "       [-0.00016172, -0.00015645, -0.00112118, ..., -0.00114338,\n",
       "         0.01105378,  0.00659333],\n",
       "       [-0.00014599, -0.00014514, -0.00035662, ..., -0.00032847,\n",
       "         0.00659333,  0.00658031]])"
      ]
     },
     "execution_count": 28,
     "metadata": {},
     "output_type": "execute_result"
    }
   ],
   "source": [
    "# covariance matrix of M\n",
    "M_matrix_no_mean = M_matrix - np.array([np.mean(M_matrix, axis=1)]).T\n",
    "M_cov = np.cov(M_matrix_no_mean)\n",
    "M_cov"
   ]
  },
  {
   "cell_type": "code",
   "execution_count": 29,
   "metadata": {
    "collapsed": false
   },
   "outputs": [],
   "source": [
    "eigvalues, eigvectors = np.linalg.eigh(M_cov)"
   ]
  },
  {
   "cell_type": "code",
   "execution_count": 30,
   "metadata": {
    "collapsed": false
   },
   "outputs": [
    {
     "data": {
      "image/png": "[encoded data removed]",
      "text/plain": [
       "<matplotlib.figure.Figure at 0x7f1fa51dbbe0>"
      ]
     },
     "metadata": {},
     "output_type": "display_data"
    }
   ],
   "source": [
    "eigvalues_plot = eigvalues.tolist()\n",
    "eigvalues_plot.reverse()\n",
    "plt.loglog(eigvalues_plot)\n",
    "plt.title(\"Eigenvalues of the covariance matrix\")\n",
    "plt.ylabel('Eigenvalue')\n",
    "plt.xlabel('Count')\n",
    "plt.show()"
   ]
  },
  {
   "cell_type": "markdown",
   "metadata": {},
   "source": [
    "Unsurprisingly majority of the eigenvalues are quite small - only 20 first eigenvalues are above 0.1."
   ]
  },
  {
   "cell_type": "markdown",
   "metadata": {},
   "source": [
    "How many principal directions do we need to capture 2/3 of the variability in the data?\n",
    "\n"
   ]
  },
  {
   "cell_type": "code",
   "execution_count": 31,
   "metadata": {
    "collapsed": false
   },
   "outputs": [
    {
     "data": {
      "text/plain": [
       "36"
      ]
     },
     "execution_count": 31,
     "metadata": {},
     "output_type": "execute_result"
    }
   ],
   "source": [
    "cumulative = (np.cumsum(eigvalues_plot) / np.sum(eigvalues))\n",
    "\n",
    "most_significant_principal_directions = [ n for n,i in enumerate(cumulative) if i>((2./3) ) ][0]\n",
    "most_significant_principal_directions"
   ]
  },
  {
   "cell_type": "code",
   "execution_count": 32,
   "metadata": {
    "collapsed": false
   },
   "outputs": [
    {
     "data": {
      "image/png": "[encoded data removed]",
      "text/plain": [
       "<matplotlib.figure.Figure at 0x7f1fa51db198>"
      ]
     },
     "metadata": {},
     "output_type": "display_data"
    }
   ],
   "source": [
    "plt.semilogx(cumulative)\n",
    "plt.title(\"Normed cumulative eigenvalues\")\n",
    "plt.ylabel('Eigenvalue')\n",
    "plt.xlabel('Count')\n",
    "plt.axvline(most_significant_principal_directions, linestyle='dashed')\n",
    "plt.show()"
   ]
  },
  {
   "cell_type": "markdown",
   "metadata": {
    "collapsed": true
   },
   "source": [
    "Only 36 first eigenvalues and thus pricipal directions capture 2/3 of the variability in the data. This means that our huge, over 1k dimensional space can be projected to only 36 dimensional space, and still it would contain 2/3 of all the information contained in original data space. This is an extreme advantage of PCA method when it comes to dimensinality reduction, since it preserves most of the information in only few principal components."
   ]
  },
  {
   "cell_type": "markdown",
   "metadata": {},
   "source": [
    "#### Exercise 3.2 Concept space\n",
    "\n",
    "For the five first principal directions, find the 10 tags that have the highest and lowest\n",
    "coordinates in that direction.\n",
    "\n",
    "• What concepts would you use to describe these dimensions?\n",
    "\n",
    "Create a Python dict which maps every tag (name) to its coordinates in the 5 first principal directions and save it to disk. This will be used later for the clustering exercise."
   ]
  },
  {
   "cell_type": "code",
   "execution_count": 33,
   "metadata": {
    "collapsed": true
   },
   "outputs": [],
   "source": [
    "# A * x = lambd * x = PCA"
   ]
  },
  {
   "cell_type": "code",
   "execution_count": 34,
   "metadata": {
    "collapsed": false
   },
   "outputs": [
    {
     "data": {
      "text/plain": [
       "[2.7533774797813515,\n",
       " 1.2214710425886666,\n",
       " 0.9960515193084871,\n",
       " 0.6621755002074047,\n",
       " 0.5857297851139422]"
      ]
     },
     "execution_count": 34,
     "metadata": {},
     "output_type": "execute_result"
    }
   ],
   "source": [
    "first_five_eigenvalues = eigvalues_plot[:5]\n",
    "first_five_eigenvalues"
   ]
  },
  {
   "cell_type": "code",
   "execution_count": 35,
   "metadata": {
    "collapsed": false
   },
   "outputs": [
    {
     "data": {
      "text/plain": [
       "array([[ 0.00205699, -0.0053407 ,  0.0062789 , ...,  0.00124553,\n",
       "        -0.01383799, -0.00572728],\n",
       "       [-0.00078554, -0.00303118,  0.00347284, ...,  0.00206112,\n",
       "        -0.01048045, -0.00478882],\n",
       "       [ 0.00044356, -0.00104207,  0.00037798, ...,  0.02393293,\n",
       "         0.00278201,  0.01246704],\n",
       "       ..., \n",
       "       [ 0.00093566, -0.00050236,  0.00263286, ...,  0.03252862,\n",
       "        -0.00551248,  0.01719115],\n",
       "       [-0.00228662,  0.01518848,  0.00429738, ..., -0.0399581 ,\n",
       "        -0.01417361, -0.01026643],\n",
       "       [ 0.00059397, -0.01100711, -0.00067457, ..., -0.01634403,\n",
       "        -0.00551606, -0.00137267]])"
      ]
     },
     "execution_count": 35,
     "metadata": {},
     "output_type": "execute_result"
    }
   ],
   "source": [
    "eigvectors"
   ]
  },
  {
   "cell_type": "code",
   "execution_count": 36,
   "metadata": {
    "collapsed": false
   },
   "outputs": [
    {
     "data": {
      "text/plain": [
       "array([[-0.00572728, -0.00478882,  0.01246704, ...,  0.01719115,\n",
       "        -0.01026643, -0.00137267],\n",
       "       [-0.01383799, -0.01048045,  0.00278201, ..., -0.00551248,\n",
       "        -0.01417361, -0.00551606],\n",
       "       [ 0.00124553,  0.00206112,  0.02393293, ...,  0.03252862,\n",
       "        -0.0399581 , -0.01634403],\n",
       "       [-0.00645959, -0.00525968,  0.01488517, ..., -0.01063545,\n",
       "         0.00476552,  0.0037956 ],\n",
       "       [ 0.00537026,  0.00320727,  0.02648181, ...,  0.03512377,\n",
       "        -0.01902386, -0.00852925]])"
      ]
     },
     "execution_count": 36,
     "metadata": {},
     "output_type": "execute_result"
    }
   ],
   "source": [
    "first_five_eigenvectors = eigvectors[:,-5:].T\n",
    "first_five_eigenvectors = first_five_eigenvectors[::-1] # flip the order back to correct (highest to lowest)\n",
    "first_five_eigenvectors"
   ]
  },
  {
   "cell_type": "code",
   "execution_count": 37,
   "metadata": {
    "collapsed": false
   },
   "outputs": [
    {
     "data": {
      "text/plain": [
       "2.6206323555980592e-14"
      ]
     },
     "execution_count": 37,
     "metadata": {},
     "output_type": "execute_result"
    }
   ],
   "source": [
    "# verify that order of eigenvalues and eigenvectors is correct\n",
    "verification = np.zeros(1128)\n",
    "for i, val in enumerate(first_five_eigenvalues):\n",
    "    verification += (first_five_eigenvalues[i]*first_five_eigenvectors[i])\\\n",
    "    - (np.dot(M_cov, first_five_eigenvectors[i]))\n",
    "\n",
    "# if verification ~= 0 then correct order\n",
    "np.sum(verification)"
   ]
  },
  {
   "cell_type": "code",
   "execution_count": 38,
   "metadata": {
    "collapsed": false
   },
   "outputs": [
    {
     "name": "stdout",
     "output_type": "stream",
     "text": [
      "\n",
      "Eigenvector 1\n",
      "\n",
      "Top vs. lowest\n",
      "     talking animals      powerful ending\n",
      "              soccer               snakes\n",
      "     crime gone awry           bad ending\n",
      "         imagination               silent\n",
      "               great                silly\n",
      "             dragons            hong kong\n",
      "oscar (best cinematography)               france\n",
      "      blaxploitation             kurosawa\n",
      "               drama             biblical\n",
      "                 cia            colourful\n",
      "\n",
      "Eigenvector 2\n",
      "\n",
      "Top vs. lowest\n",
      " interracial romance               absurd\n",
      "          reflective              special\n",
      "     crime gone awry             biblical\n",
      "          meditative      character study\n",
      "           lone hero              fashion\n",
      "                 god             survival\n",
      "            medieval          good acting\n",
      "                 art      pixar animation\n",
      "         melancholic                   pg\n",
      "          sex comedy               action\n",
      "\n",
      "Eigenvector 3\n",
      "\n",
      "Top vs. lowest\n",
      "     feel good movie             horrible\n",
      "      self discovery                 weed\n",
      "                love           creativity\n",
      "       heartbreaking                spies\n",
      "             torture            stupidity\n",
      "             romance                 cult\n",
      "             swedish             distopia\n",
      "       costume drama          vigilantism\n",
      "             gilliam         cult classic\n",
      "                 fbi              dancing\n",
      "\n",
      "Eigenvector 4\n",
      "\n",
      "Top vs. lowest\n",
      "            visceral    corporate america\n",
      "  visually appealing               creepy\n",
      "    imaginary friend              muppets\n",
      "              sci fi    police corruption\n",
      "     science fiction    thought-provoking\n",
      "              visual             survival\n",
      "             science          vigilantism\n",
      "              school               police\n",
      "             special             gangster\n",
      "   beautiful scenery   man versus machine\n",
      "\n",
      "Eigenvector 5\n",
      "\n",
      "Top vs. lowest\n",
      "   thought-provoking            colourful\n",
      "           confusing      funniest movies\n",
      "      secret service      highly quotable\n",
      "            suspense     good versus evil\n",
      "          television                humor\n",
      "             mutants             humanity\n",
      "            survival            vengeance\n",
      "            intimate                 cult\n",
      "              murder               quirky\n",
      "      best war films                funny\n"
     ]
    }
   ],
   "source": [
    "for i in range(5):  \n",
    "    indices = np.argsort(eigvectors[:, -(i+1)])\n",
    "    lowest_10 = indices[:10]\n",
    "    top_10 = indices[-10:][::-1]\n",
    "    print('\\nEigenvector {}\\n'.format(i+1))\n",
    "    print('Top vs. lowest')\n",
    "    for top, low in zip(top_10, lowest_10):\n",
    "        print(\"{: >20} {: >20}\".format(tag2name[top], tag2name[low]))"
   ]
  },
  {
   "cell_type": "markdown",
   "metadata": {
    "collapsed": true
   },
   "source": [
    "• What concepts would you use to describe these dimensions?"
   ]
  },
  {
   "cell_type": "markdown",
   "metadata": {},
   "source": [
    "NOTE! \n",
    "We verified with TAs that tags returned are not entirely correct however we (team Y + TAs) were not able to poinpoint bug in our logic/code, thus we proceeded as it is.\n",
    "\n",
    "For first principal direction (ignoring outliers as dragons or talking animals and considering following: [oscar, drama, great] vs. [snakes, silly, colourful]) we could use concept space as following: critically acclaimed, seriousness\n",
    "\n",
    "Second principal direction ([reflective, meditative, melancholic, art] vs. [absurd, special, biblical, survival, action] concept space:\n",
    "pace, mood, tempo\n",
    "\n",
    "Third principal direction ([feel good movie, love, romance] vs. [vigilantism, distopia, horrible]) concept space:\n",
    "emotions, feelings\n",
    "\n",
    "Fourth principal direction ([visually appealing, visual, beautiful scenery] vs. [creepy, survival]) concept space:\n",
    "perception, visual-style\n",
    "\n",
    "Fifth principal direction ([suspense, murder, secret service] vs. [funniest movies, humor, funny]) concept space:\n",
    "tension, stress"
   ]
  },
  {
   "cell_type": "markdown",
   "metadata": {
    "collapsed": true
   },
   "source": [
    "Create a Python dict which maps every tag (name) to its coordinates in the 5 first principal directions and save it to disk. This will be used later for the clustering exercise. "
   ]
  },
  {
   "cell_type": "code",
   "execution_count": 39,
   "metadata": {
    "collapsed": false
   },
   "outputs": [
    {
     "data": {
      "text/plain": [
       "(1128, 5)"
      ]
     },
     "execution_count": 39,
     "metadata": {},
     "output_type": "execute_result"
    }
   ],
   "source": [
    "eigenspace = np.dot(first_five_eigenvectors, M_matrix_no_mean)\n",
    "projection = np.dot(M_matrix_no_mean, eigenspace.T)\n",
    "projection.shape"
   ]
  },
  {
   "cell_type": "code",
   "execution_count": 40,
   "metadata": {
    "collapsed": false
   },
   "outputs": [],
   "source": [
    "tags_mapped = {}\n",
    "\n",
    "for key, value in tag2name.items():\n",
    "    tags_mapped[value] = projection[key-1,:]"
   ]
  },
  {
   "cell_type": "code",
   "execution_count": null,
   "metadata": {
    "collapsed": false,
    "scrolled": true
   },
   "outputs": [],
   "source": [
    "tags_mapped"
   ]
  },
  {
   "cell_type": "code",
   "execution_count": 42,
   "metadata": {
    "collapsed": true
   },
   "outputs": [],
   "source": [
    "### Save to pickle\n",
    "with open('tag_embedding.pickle', 'wb') as handle:\n",
    "    pickle.dump(projection, handle, protocol=pickle.HIGHEST_PROTOCOL)"
   ]
  },
  {
   "cell_type": "code",
   "execution_count": 43,
   "metadata": {
    "collapsed": true
   },
   "outputs": [],
   "source": [
    "### Save to pickle\n",
    "with open('tags_mapped.pickle', 'wb') as handle:\n",
    "    pickle.dump(tags_mapped, handle, protocol=pickle.HIGHEST_PROTOCOL)"
   ]
  },
  {
   "cell_type": "markdown",
   "metadata": {},
   "source": [
    "### Exercise 3.3 Movie visualization"
   ]
  },
  {
   "cell_type": "code",
   "execution_count": 44,
   "metadata": {
    "collapsed": false
   },
   "outputs": [],
   "source": [
    "#Load from pickle\n",
    "with open('selected-movies.pickle', 'rb') as handle:\n",
    "    selected_movies = pickle.load(handle, encoding='utf-8') # encoding='latin1'"
   ]
  },
  {
   "cell_type": "code",
   "execution_count": 45,
   "metadata": {
    "collapsed": false
   },
   "outputs": [
    {
     "data": {
      "text/plain": [
       "((780, 'Independence Day (a.k.a. ID4) (1996)', 0.6),\n",
       " (5349, 'Spider-Man (2002)', 0.89),\n",
       " (2571, 'Matrix, The (1999)', 0.87),\n",
       " (318, 'Shawshank Redemption, The (1994)', 0.91),\n",
       " (2329, 'American History X (1998)', 0.83),\n",
       " (5147, 'Wild Strawberries (Smultronstället) (1957)', 0.95),\n",
       " (55444, 'Control (2007)', 0.87),\n",
       " (32296, 'Miss Congeniality 2: Armed and Fabulous (2005)', 0.15),\n",
       " (43930, 'Just My Luck (2006)', 0.13),\n",
       " (4658, 'Santa Sangre (1989)', 0.85),\n",
       " (6774, 'Videodrome (1983)', 0.78),\n",
       " (3967, 'Billy Elliot (2000)', 0.85),\n",
       " (114028, 'Pride (2014)', 0.92),\n",
       " (480, 'Jurassic Park (1993)', 0.93),\n",
       " (260, 'Star Wars: Episode IV - A New Hope (1977)', 0.93),\n",
       " (4700, 'Princess Diaries, The (2001)', 0.47),\n",
       " (527, \"Schindler's List (1993)\", 0.96),\n",
       " (2959, 'Fight Club (1999)', 0.79),\n",
       " (6132, 'New York Ripper, The (Squartatore di New York, Lo) (1982)', 0.17),\n",
       " (2858, 'American Beauty (1999)', 0.88),\n",
       " (6016, 'City of God (Cidade de Deus) (2002)', 0.9),\n",
       " (94018, 'Battleship (2012)', 0.34),\n",
       " (5687, 'Take Care of My Cat (Goyangileul butaghae) (2001)', 0.81),\n",
       " (1240, 'Terminator, The (1984)', 1.0),\n",
       " (111759, 'Edge of Tomorrow (2014)', 0.91),\n",
       " (356, 'Forrest Gump (1994)', 0.72),\n",
       " (81845, \"King's Speech, The (2010)\", 0.95),\n",
       " (2324, 'Life Is Beautiful (La Vita è bella) (1997)', 0.8),\n",
       " (5163, 'Stage Fright (Deliria) (1987)', 0.68),\n",
       " (7235, 'Ichi the Killer (Koroshiya 1) (2001)', 0.64),\n",
       " (1199, 'Brazil (1985)', 0.98),\n",
       " (48043, 'Fountain, The (2006)', 0.51),\n",
       " (4465, 'Accused, The (1988)', 0.95),\n",
       " (805, 'Time to Kill, A (1996)', 0.67),\n",
       " (74545, 'Ghost Writer, The (2010)', 0.83),\n",
       " (54503, 'Superbad (2007)', 0.88),\n",
       " (2706, 'American Pie (1999)', 0.6))"
      ]
     },
     "execution_count": 45,
     "metadata": {},
     "output_type": "execute_result"
    }
   ],
   "source": [
    "selected_movies"
   ]
  },
  {
   "cell_type": "code",
   "execution_count": 46,
   "metadata": {
    "collapsed": false
   },
   "outputs": [
    {
     "data": {
      "text/plain": [
       "37"
      ]
     },
     "execution_count": 46,
     "metadata": {},
     "output_type": "execute_result"
    }
   ],
   "source": [
    "len(selected_movies)"
   ]
  },
  {
   "cell_type": "code",
   "execution_count": 47,
   "metadata": {
    "collapsed": false
   },
   "outputs": [],
   "source": [
    "indeces = []\n",
    "names = []\n",
    "ratings = []\n",
    "for row in selected_movies:\n",
    "    movieId = row[0]\n",
    "    movieName = row[1]\n",
    "    movieRating = row[2]\n",
    "    \n",
    "    index_in_M_matrix = M_matrix_movieIds.index(movieId)\n",
    "    indeces.append(index_in_M_matrix)\n",
    "    names.append(movieName)\n",
    "    ratings.append(movieRating)"
   ]
  },
  {
   "cell_type": "code",
   "execution_count": 48,
   "metadata": {
    "collapsed": false
   },
   "outputs": [
    {
     "data": {
      "text/plain": [
       "(1128, 37)"
      ]
     },
     "execution_count": 48,
     "metadata": {},
     "output_type": "execute_result"
    }
   ],
   "source": [
    "selected_M_matrix = M_matrix[:,indeces]\n",
    "selected_M_matrix.shape"
   ]
  },
  {
   "cell_type": "code",
   "execution_count": 49,
   "metadata": {
    "collapsed": false
   },
   "outputs": [
    {
     "data": {
      "text/plain": [
       "(1128, 2)"
      ]
     },
     "execution_count": 49,
     "metadata": {},
     "output_type": "execute_result"
    }
   ],
   "source": [
    "pca_2d = first_five_eigenvectors.T[:,:2]\n",
    "pca_2d.shape"
   ]
  },
  {
   "cell_type": "code",
   "execution_count": 50,
   "metadata": {
    "collapsed": false
   },
   "outputs": [
    {
     "data": {
      "text/plain": [
       "(2, 37)"
      ]
     },
     "execution_count": 50,
     "metadata": {},
     "output_type": "execute_result"
    }
   ],
   "source": [
    "projected = pca_2d.T.dot(selected_M_matrix)\n",
    "projected.shape"
   ]
  },
  {
   "cell_type": "code",
   "execution_count": 51,
   "metadata": {
    "collapsed": false
   },
   "outputs": [
    {
     "data": {
      "text/html": [
       "\n",
       "    <div class=\"bk-root\">\n",
       "        <a href=\"http://bokeh.pydata.org\" target=\"_blank\" class=\"bk-logo bk-logo-small bk-logo-notebook\"></a>\n",
       "        <span id=\"53cfde85-6193-4752-950f-b31840590dcc\">Loading BokehJS ...</span>\n",
       "    </div>"
      ]
     },
     "metadata": {},
     "output_type": "display_data"
    },
    {
     "data": {
      "application/javascript": [
       "\n",
       "(function(global) {\n",
       "  function now() {\n",
       "    return new Date();\n",
       "  }\n",
       "\n",
       "  var force = \"1\";\n",
       "\n",
       "  if (typeof (window._bokeh_onload_callbacks) === \"undefined\" || force !== \"\") {\n",
       "    window._bokeh_onload_callbacks = [];\n",
       "    window._bokeh_is_loading = undefined;\n",
       "  }\n",
       "\n",
       "\n",
       "  \n",
       "  if (typeof (window._bokeh_timeout) === \"undefined\" || force !== \"\") {\n",
       "    window._bokeh_timeout = Date.now() + 5000;\n",
       "    window._bokeh_failed_load = false;\n",
       "  }\n",
       "\n",
       "  var NB_LOAD_WARNING = {'data': {'text/html':\n",
       "     \"<div style='background-color: #fdd'>\\n\"+\n",
       "     \"<p>\\n\"+\n",
       "     \"BokehJS does not appear to have successfully loaded. If loading BokehJS from CDN, this \\n\"+\n",
       "     \"may be due to a slow or bad network connection. Possible fixes:\\n\"+\n",
       "     \"</p>\\n\"+\n",
       "     \"<ul>\\n\"+\n",
       "     \"<li>re-rerun `output_notebook()` to attempt to load from CDN again, or</li>\\n\"+\n",
       "     \"<li>use INLINE resources instead, as so:</li>\\n\"+\n",
       "     \"</ul>\\n\"+\n",
       "     \"<code>\\n\"+\n",
       "     \"from bokeh.resources import INLINE\\n\"+\n",
       "     \"output_notebook(resources=INLINE)\\n\"+\n",
       "     \"</code>\\n\"+\n",
       "     \"</div>\"}};\n",
       "\n",
       "  function display_loaded() {\n",
       "    if (window.Bokeh !== undefined) {\n",
       "      Bokeh.$(\"#53cfde85-6193-4752-950f-b31840590dcc\").text(\"BokehJS successfully loaded.\");\n",
       "    } else if (Date.now() < window._bokeh_timeout) {\n",
       "      setTimeout(display_loaded, 100)\n",
       "    }\n",
       "  }\n",
       "\n",
       "  function run_callbacks() {\n",
       "    window._bokeh_onload_callbacks.forEach(function(callback) { callback() });\n",
       "    delete window._bokeh_onload_callbacks\n",
       "    console.info(\"Bokeh: all callbacks have finished\");\n",
       "  }\n",
       "\n",
       "  function load_libs(js_urls, callback) {\n",
       "    window._bokeh_onload_callbacks.push(callback);\n",
       "    if (window._bokeh_is_loading > 0) {\n",
       "      console.log(\"Bokeh: BokehJS is being loaded, scheduling callback at\", now());\n",
       "      return null;\n",
       "    }\n",
       "    if (js_urls == null || js_urls.length === 0) {\n",
       "      run_callbacks();\n",
       "      return null;\n",
       "    }\n",
       "    console.log(\"Bokeh: BokehJS not loaded, scheduling load and callback at\", now());\n",
       "    window._bokeh_is_loading = js_urls.length;\n",
       "    for (var i = 0; i < js_urls.length; i++) {\n",
       "      var url = js_urls[i];\n",
       "      var s = document.createElement('script');\n",
       "      s.src = url;\n",
       "      s.async = false;\n",
       "      s.onreadystatechange = s.onload = function() {\n",
       "        window._bokeh_is_loading--;\n",
       "        if (window._bokeh_is_loading === 0) {\n",
       "          console.log(\"Bokeh: all BokehJS libraries loaded\");\n",
       "          run_callbacks()\n",
       "        }\n",
       "      };\n",
       "      s.onerror = function() {\n",
       "        console.warn(\"failed to load library \" + url);\n",
       "      };\n",
       "      console.log(\"Bokeh: injecting script tag for BokehJS library: \", url);\n",
       "      document.getElementsByTagName(\"head\")[0].appendChild(s);\n",
       "    }\n",
       "  };var element = document.getElementById(\"53cfde85-6193-4752-950f-b31840590dcc\");\n",
       "  if (element == null) {\n",
       "    console.log(\"Bokeh: ERROR: autoload.js configured with elementid '53cfde85-6193-4752-950f-b31840590dcc' but no matching script tag was found. \")\n",
       "    return false;\n",
       "  }\n",
       "\n",
       "  var js_urls = ['https://cdn.pydata.org/bokeh/release/bokeh-0.12.2.min.js', 'https://cdn.pydata.org/bokeh/release/bokeh-widgets-0.12.2.min.js', 'https://cdn.pydata.org/bokeh/release/bokeh-compiler-0.12.2.min.js'];\n",
       "\n",
       "  var inline_js = [\n",
       "    function(Bokeh) {\n",
       "      Bokeh.set_log_level(\"info\");\n",
       "    },\n",
       "    \n",
       "    function(Bokeh) {\n",
       "      \n",
       "      Bokeh.$(\"#53cfde85-6193-4752-950f-b31840590dcc\").text(\"BokehJS is loading...\");\n",
       "    },\n",
       "    function(Bokeh) {\n",
       "      console.log(\"Bokeh: injecting CSS: https://cdn.pydata.org/bokeh/release/bokeh-0.12.2.min.css\");\n",
       "      Bokeh.embed.inject_css(\"https://cdn.pydata.org/bokeh/release/bokeh-0.12.2.min.css\");\n",
       "      console.log(\"Bokeh: injecting CSS: https://cdn.pydata.org/bokeh/release/bokeh-widgets-0.12.2.min.css\");\n",
       "      Bokeh.embed.inject_css(\"https://cdn.pydata.org/bokeh/release/bokeh-widgets-0.12.2.min.css\");\n",
       "    }\n",
       "  ];\n",
       "\n",
       "  function run_inline_js() {\n",
       "    \n",
       "    if ((window.Bokeh !== undefined) || (force === \"1\")) {\n",
       "      for (var i = 0; i < inline_js.length; i++) {\n",
       "        inline_js[i](window.Bokeh);\n",
       "      }if (force === \"1\") {\n",
       "        display_loaded();\n",
       "      }} else if (Date.now() < window._bokeh_timeout) {\n",
       "      setTimeout(run_inline_js, 100);\n",
       "    } else if (!window._bokeh_failed_load) {\n",
       "      console.log(\"Bokeh: BokehJS failed to load within specified timeout.\");\n",
       "      window._bokeh_failed_load = true;\n",
       "    } else if (!force) {\n",
       "      var cell = $(\"#53cfde85-6193-4752-950f-b31840590dcc\").parents('.cell').data().cell;\n",
       "      cell.output_area.append_execute_result(NB_LOAD_WARNING)\n",
       "    }\n",
       "\n",
       "  }\n",
       "\n",
       "  if (window._bokeh_is_loading === 0) {\n",
       "    console.log(\"Bokeh: BokehJS loaded, going straight to plotting\");\n",
       "    run_inline_js();\n",
       "  } else {\n",
       "    load_libs(js_urls, function() {\n",
       "      console.log(\"Bokeh: BokehJS plotting callback run at\", now());\n",
       "      run_inline_js();\n",
       "    });\n",
       "  }\n",
       "}(this));"
      ]
     },
     "metadata": {},
     "output_type": "display_data"
    },
    {
     "data": {
      "text/html": [
       "\n",
       "\n",
       "    <div class=\"bk-root\">\n",
       "        <div class=\"plotdiv\" id=\"cd2b325f-2748-41e9-a82b-ab42be5fa8ec\"></div>\n",
       "    </div>\n",
       "<script type=\"text/javascript\">\n",
       "  \n",
       "  (function(global) {\n",
       "    function now() {\n",
       "      return new Date();\n",
       "    }\n",
       "  \n",
       "    var force = \"\";\n",
       "  \n",
       "    if (typeof (window._bokeh_onload_callbacks) === \"undefined\" || force !== \"\") {\n",
       "      window._bokeh_onload_callbacks = [];\n",
       "      window._bokeh_is_loading = undefined;\n",
       "    }\n",
       "  \n",
       "  \n",
       "    \n",
       "    if (typeof (window._bokeh_timeout) === \"undefined\" || force !== \"\") {\n",
       "      window._bokeh_timeout = Date.now() + 0;\n",
       "      window._bokeh_failed_load = false;\n",
       "    }\n",
       "  \n",
       "    var NB_LOAD_WARNING = {'data': {'text/html':\n",
       "       \"<div style='background-color: #fdd'>\\n\"+\n",
       "       \"<p>\\n\"+\n",
       "       \"BokehJS does not appear to have successfully loaded. If loading BokehJS from CDN, this \\n\"+\n",
       "       \"may be due to a slow or bad network connection. Possible fixes:\\n\"+\n",
       "       \"</p>\\n\"+\n",
       "       \"<ul>\\n\"+\n",
       "       \"<li>re-rerun `output_notebook()` to attempt to load from CDN again, or</li>\\n\"+\n",
       "       \"<li>use INLINE resources instead, as so:</li>\\n\"+\n",
       "       \"</ul>\\n\"+\n",
       "       \"<code>\\n\"+\n",
       "       \"from bokeh.resources import INLINE\\n\"+\n",
       "       \"output_notebook(resources=INLINE)\\n\"+\n",
       "       \"</code>\\n\"+\n",
       "       \"</div>\"}};\n",
       "  \n",
       "    function display_loaded() {\n",
       "      if (window.Bokeh !== undefined) {\n",
       "        Bokeh.$(\"#cd2b325f-2748-41e9-a82b-ab42be5fa8ec\").text(\"BokehJS successfully loaded.\");\n",
       "      } else if (Date.now() < window._bokeh_timeout) {\n",
       "        setTimeout(display_loaded, 100)\n",
       "      }\n",
       "    }\n",
       "  \n",
       "    function run_callbacks() {\n",
       "      window._bokeh_onload_callbacks.forEach(function(callback) { callback() });\n",
       "      delete window._bokeh_onload_callbacks\n",
       "      console.info(\"Bokeh: all callbacks have finished\");\n",
       "    }\n",
       "  \n",
       "    function load_libs(js_urls, callback) {\n",
       "      window._bokeh_onload_callbacks.push(callback);\n",
       "      if (window._bokeh_is_loading > 0) {\n",
       "        console.log(\"Bokeh: BokehJS is being loaded, scheduling callback at\", now());\n",
       "        return null;\n",
       "      }\n",
       "      if (js_urls == null || js_urls.length === 0) {\n",
       "        run_callbacks();\n",
       "        return null;\n",
       "      }\n",
       "      console.log(\"Bokeh: BokehJS not loaded, scheduling load and callback at\", now());\n",
       "      window._bokeh_is_loading = js_urls.length;\n",
       "      for (var i = 0; i < js_urls.length; i++) {\n",
       "        var url = js_urls[i];\n",
       "        var s = document.createElement('script');\n",
       "        s.src = url;\n",
       "        s.async = false;\n",
       "        s.onreadystatechange = s.onload = function() {\n",
       "          window._bokeh_is_loading--;\n",
       "          if (window._bokeh_is_loading === 0) {\n",
       "            console.log(\"Bokeh: all BokehJS libraries loaded\");\n",
       "            run_callbacks()\n",
       "          }\n",
       "        };\n",
       "        s.onerror = function() {\n",
       "          console.warn(\"failed to load library \" + url);\n",
       "        };\n",
       "        console.log(\"Bokeh: injecting script tag for BokehJS library: \", url);\n",
       "        document.getElementsByTagName(\"head\")[0].appendChild(s);\n",
       "      }\n",
       "    };var element = document.getElementById(\"cd2b325f-2748-41e9-a82b-ab42be5fa8ec\");\n",
       "    if (element == null) {\n",
       "      console.log(\"Bokeh: ERROR: autoload.js configured with elementid 'cd2b325f-2748-41e9-a82b-ab42be5fa8ec' but no matching script tag was found. \")\n",
       "      return false;\n",
       "    }\n",
       "  \n",
       "    var js_urls = [];\n",
       "  \n",
       "    var inline_js = [\n",
       "      function(Bokeh) {\n",
       "        Bokeh.$(function() {\n",
       "            var docs_json = {\"7baae2bc-c18b-4a46-bfb6-2b53d30d3132\":{\"roots\":{\"references\":[{\"attributes\":{\"fill_alpha\":{\"value\":0.2},\"fill_color\":{\"field\":\"fill_color\"},\"line_color\":{\"field\":\"line_color\"},\"size\":{\"units\":\"screen\",\"value\":10},\"x\":{\"field\":\"x\"},\"y\":{\"field\":\"y\"}},\"id\":\"b6d9faf4-8318-459d-b7c8-01f8043ee63c\",\"type\":\"Circle\"},{\"attributes\":{\"axis_label\":\"First Principal Direction\",\"formatter\":{\"id\":\"84db271e-e588-4eac-b916-cd3c6e637869\",\"type\":\"BasicTickFormatter\"},\"plot\":{\"id\":\"8f3d6675-cc6d-43e6-b37b-2b2175b70a13\",\"subtype\":\"Figure\",\"type\":\"Plot\"},\"ticker\":{\"id\":\"6936e791-3dff-4bba-9bc0-501ad962c7aa\",\"type\":\"BasicTicker\"}},\"id\":\"3e68e1ba-dd02-4974-ad9c-41225e004c32\",\"type\":\"LinearAxis\"},{\"attributes\":{\"callback\":null},\"id\":\"43e3680e-d6ba-4f34-a3d5-a6d92d0b7e5b\",\"type\":\"DataRange1d\"},{\"attributes\":{\"active_drag\":\"auto\",\"active_scroll\":\"auto\",\"active_tap\":\"auto\",\"tools\":[{\"id\":\"d8d97ef1-6400-44a2-84e3-55f8a3dbe40d\",\"type\":\"HoverTool\"}]},\"id\":\"46aa34a1-1809-402d-b63f-2b92dbac15a4\",\"type\":\"Toolbar\"},{\"attributes\":{\"dimension\":1,\"plot\":{\"id\":\"8f3d6675-cc6d-43e6-b37b-2b2175b70a13\",\"subtype\":\"Figure\",\"type\":\"Plot\"},\"ticker\":{\"id\":\"c96b9b8d-8145-47c3-bc79-73ddfb3e4964\",\"type\":\"BasicTicker\"}},\"id\":\"11affbd2-57d0-4ec2-b50c-6a6dc923e191\",\"type\":\"Grid\"},{\"attributes\":{},\"id\":\"6936e791-3dff-4bba-9bc0-501ad962c7aa\",\"type\":\"BasicTicker\"},{\"attributes\":{},\"id\":\"9c481bae-13d2-4122-b5d4-8d727b44d64b\",\"type\":\"ToolEvents\"},{\"attributes\":{\"callback\":null,\"column_names\":[\"desc\",\"rating\",\"x\",\"y\",\"fill_color\",\"line_color\"],\"data\":{\"desc\":[\"Independence Day (a.k.a. ID4) (1996)\",\"Spider-Man (2002)\",\"Matrix, The (1999)\",\"Shawshank Redemption, The (1994)\",\"American History X (1998)\",\"Wild Strawberries (Smultronst\\u00e4llet) (1957)\",\"Control (2007)\",\"Miss Congeniality 2: Armed and Fabulous (2005)\",\"Just My Luck (2006)\",\"Santa Sangre (1989)\",\"Videodrome (1983)\",\"Billy Elliot (2000)\",\"Pride (2014)\",\"Jurassic Park (1993)\",\"Star Wars: Episode IV - A New Hope (1977)\",\"Princess Diaries, The (2001)\",\"Schindler's List (1993)\",\"Fight Club (1999)\",\"New York Ripper, The (Squartatore di New York, Lo) (1982)\",\"American Beauty (1999)\",\"City of God (Cidade de Deus) (2002)\",\"Battleship (2012)\",\"Take Care of My Cat (Goyangileul butaghae) (2001)\",\"Terminator, The (1984)\",\"Edge of Tomorrow (2014)\",\"Forrest Gump (1994)\",\"King's Speech, The (2010)\",\"Life Is Beautiful (La Vita \\u00e8 bella) (1997)\",\"Stage Fright (Deliria) (1987)\",\"Ichi the Killer (Koroshiya 1) (2001)\",\"Brazil (1985)\",\"Fountain, The (2006)\",\"Accused, The (1988)\",\"Time to Kill, A (1996)\",\"Ghost Writer, The (2010)\",\"Superbad (2007)\",\"American Pie (1999)\"],\"fill_color\":[\"#e19900\",\"#55db00\",\"#65d800\",\"#45de00\",\"#83d200\",\"#25e200\",\"#65d800\",\"#ba0800\",\"#bb0100\",\"#74d500\",\"#a4c800\",\"#74d500\",\"#3ddf00\",\"#35e000\",\"#35e000\",\"#d57600\",\"#1ee300\",\"#9dca00\",\"#b81100\",\"#5dda00\",\"#4ddd00\",\"#c34e00\",\"#8fce00\",\"#02e700\",\"#45de00\",\"#c6b900\",\"#25e200\",\"#96cc00\",\"#d6af00\",\"#dfa500\",\"#0ee500\",\"#d98000\",\"#25e200\",\"#d9ac00\",\"#83d200\",\"#5dda00\",\"#e19900\"],\"line_color\":[\"#e19900\",\"#55db00\",\"#65d800\",\"#45de00\",\"#83d200\",\"#25e200\",\"#65d800\",\"#ba0800\",\"#bb0100\",\"#74d500\",\"#a4c800\",\"#74d500\",\"#3ddf00\",\"#35e000\",\"#35e000\",\"#d57600\",\"#1ee300\",\"#9dca00\",\"#b81100\",\"#5dda00\",\"#4ddd00\",\"#c34e00\",\"#8fce00\",\"#02e700\",\"#45de00\",\"#c6b900\",\"#25e200\",\"#96cc00\",\"#d6af00\",\"#dfa500\",\"#0ee500\",\"#d98000\",\"#25e200\",\"#d9ac00\",\"#83d200\",\"#5dda00\",\"#e19900\"],\"rating\":[0.6,0.89,0.87,0.91,0.83,0.95,0.87,0.15,0.13,0.85,0.78,0.85,0.92,0.93,0.93,0.47,0.96,0.79,0.17,0.88,0.9,0.34,0.81,1.0,0.91,0.72,0.95,0.8,0.68,0.64,0.98,0.51,0.95,0.67,0.83,0.88,0.6],\"x\":[1.95631924647066,2.423473011939734,6.166922994976305,8.263266304963055,8.407282228254969,7.467585235072502,7.309527270150414,0.2763807327027903,0.09133591026512577,5.478011932785153,4.335738415983899,5.112584895129662,5.350205221235819,3.467061184601562,5.283249654357833,0.7511985315999716,8.012862850827645,8.448732889671712,2.628179377648642,8.594701228394452,8.862855699951107,0.07895014805738082,2.558724956197575,4.887597829601473,4.356287831804958,6.080402888934189,6.351129429131266,6.608352902835771,4.417500015444922,4.314339943618703,6.342243226893654,5.783400284483896,5.784931428017219,3.755509495583609,5.439232132618234,3.6911395441109227,2.212503735032815],\"y\":[-7.004651322298657,-6.568361706153173,-8.28875686934102,-5.846979358682074,-4.879104796308235,-1.0961272811702438,-1.8150512541562573,-2.2894303250116432,-1.8303448652081367,-1.8601570872829654,-1.8528059086619633,-2.220114087389773,-1.8469216704740599,-7.283029689024397,-7.576582963071961,-2.300994940111545,-4.795991450586854,-5.661292452125195,-2.995109243900947,-3.1185938681355108,-4.32291045516863,-4.95140784927581,0.21770525613205588,-7.444349465494821,-7.076629257758825,-5.0294625397007335,-3.7401245085837185,-3.5359042615520426,-2.8265967275157373,-2.541359361363762,-3.2403711678747165,-2.800546758901153,-3.482605027518492,-3.8082300471480046,-3.722982094802206,-2.7906872889413807,-3.643259300308144]}},\"id\":\"141c3a4d-affb-4354-8442-83463745a5f6\",\"type\":\"ColumnDataSource\"},{\"attributes\":{\"axis_label\":\"Second Principal Direction\",\"formatter\":{\"id\":\"8e1b329c-2921-4500-9859-87ef9c6ab0f8\",\"type\":\"BasicTickFormatter\"},\"plot\":{\"id\":\"8f3d6675-cc6d-43e6-b37b-2b2175b70a13\",\"subtype\":\"Figure\",\"type\":\"Plot\"},\"ticker\":{\"id\":\"c96b9b8d-8145-47c3-bc79-73ddfb3e4964\",\"type\":\"BasicTicker\"}},\"id\":\"cb0b46bf-096f-4a30-9a01-6d8732b5ef40\",\"type\":\"LinearAxis\"},{\"attributes\":{},\"id\":\"c96b9b8d-8145-47c3-bc79-73ddfb3e4964\",\"type\":\"BasicTicker\"},{\"attributes\":{},\"id\":\"8e1b329c-2921-4500-9859-87ef9c6ab0f8\",\"type\":\"BasicTickFormatter\"},{\"attributes\":{\"below\":[{\"id\":\"3e68e1ba-dd02-4974-ad9c-41225e004c32\",\"type\":\"LinearAxis\"}],\"left\":[{\"id\":\"cb0b46bf-096f-4a30-9a01-6d8732b5ef40\",\"type\":\"LinearAxis\"}],\"plot_height\":400,\"plot_width\":400,\"renderers\":[{\"id\":\"3e68e1ba-dd02-4974-ad9c-41225e004c32\",\"type\":\"LinearAxis\"},{\"id\":\"020628a4-9582-4365-a55d-579b3a621852\",\"type\":\"Grid\"},{\"id\":\"cb0b46bf-096f-4a30-9a01-6d8732b5ef40\",\"type\":\"LinearAxis\"},{\"id\":\"11affbd2-57d0-4ec2-b50c-6a6dc923e191\",\"type\":\"Grid\"},{\"id\":\"129b9b7c-c528-4f41-937d-6bcc29ff8990\",\"type\":\"GlyphRenderer\"}],\"title\":{\"id\":\"bcd5d3d8-75df-4010-835f-f458385007e7\",\"type\":\"Title\"},\"tool_events\":{\"id\":\"9c481bae-13d2-4122-b5d4-8d727b44d64b\",\"type\":\"ToolEvents\"},\"toolbar\":{\"id\":\"46aa34a1-1809-402d-b63f-2b92dbac15a4\",\"type\":\"Toolbar\"},\"x_range\":{\"id\":\"43e3680e-d6ba-4f34-a3d5-a6d92d0b7e5b\",\"type\":\"DataRange1d\"},\"y_range\":{\"id\":\"9fef5c34-92c1-4d44-9ff5-4f1db66a641f\",\"type\":\"DataRange1d\"}},\"id\":\"8f3d6675-cc6d-43e6-b37b-2b2175b70a13\",\"subtype\":\"Figure\",\"type\":\"Plot\"},{\"attributes\":{\"data_source\":{\"id\":\"141c3a4d-affb-4354-8442-83463745a5f6\",\"type\":\"ColumnDataSource\"},\"glyph\":{\"id\":\"b6d9faf4-8318-459d-b7c8-01f8043ee63c\",\"type\":\"Circle\"},\"hover_glyph\":null,\"nonselection_glyph\":{\"id\":\"157a06b9-a999-429f-a56a-3238500036a9\",\"type\":\"Circle\"},\"selection_glyph\":null},\"id\":\"129b9b7c-c528-4f41-937d-6bcc29ff8990\",\"type\":\"GlyphRenderer\"},{\"attributes\":{},\"id\":\"84db271e-e588-4eac-b916-cd3c6e637869\",\"type\":\"BasicTickFormatter\"},{\"attributes\":{\"callback\":null,\"plot\":{\"id\":\"8f3d6675-cc6d-43e6-b37b-2b2175b70a13\",\"subtype\":\"Figure\",\"type\":\"Plot\"},\"tooltips\":[[\"index\",\"$index\"],[\"(x,y)\",\"($x, $y)\"],[\"Name\",\"@desc\"],[\"Rating\",\"@rating\"]]},\"id\":\"d8d97ef1-6400-44a2-84e3-55f8a3dbe40d\",\"type\":\"HoverTool\"},{\"attributes\":{\"plot\":null,\"text\":\"Visualization of selected movies\"},\"id\":\"bcd5d3d8-75df-4010-835f-f458385007e7\",\"type\":\"Title\"},{\"attributes\":{\"fill_alpha\":{\"value\":0.1},\"fill_color\":{\"value\":\"#1f77b4\"},\"line_alpha\":{\"value\":0.1},\"line_color\":{\"value\":\"#1f77b4\"},\"size\":{\"units\":\"screen\",\"value\":10},\"x\":{\"field\":\"x\"},\"y\":{\"field\":\"y\"}},\"id\":\"157a06b9-a999-429f-a56a-3238500036a9\",\"type\":\"Circle\"},{\"attributes\":{\"callback\":null},\"id\":\"9fef5c34-92c1-4d44-9ff5-4f1db66a641f\",\"type\":\"DataRange1d\"},{\"attributes\":{\"plot\":{\"id\":\"8f3d6675-cc6d-43e6-b37b-2b2175b70a13\",\"subtype\":\"Figure\",\"type\":\"Plot\"},\"ticker\":{\"id\":\"6936e791-3dff-4bba-9bc0-501ad962c7aa\",\"type\":\"BasicTicker\"}},\"id\":\"020628a4-9582-4365-a55d-579b3a621852\",\"type\":\"Grid\"}],\"root_ids\":[\"8f3d6675-cc6d-43e6-b37b-2b2175b70a13\"]},\"title\":\"Bokeh Application\",\"version\":\"0.12.2\"}};\n",
       "            var render_items = [{\"docid\":\"7baae2bc-c18b-4a46-bfb6-2b53d30d3132\",\"elementid\":\"cd2b325f-2748-41e9-a82b-ab42be5fa8ec\",\"modelid\":\"8f3d6675-cc6d-43e6-b37b-2b2175b70a13\"}];\n",
       "            \n",
       "            Bokeh.embed.embed_items(docs_json, render_items);\n",
       "        });\n",
       "      },\n",
       "      function(Bokeh) {\n",
       "      }\n",
       "    ];\n",
       "  \n",
       "    function run_inline_js() {\n",
       "      \n",
       "      if ((window.Bokeh !== undefined) || (force === \"1\")) {\n",
       "        for (var i = 0; i < inline_js.length; i++) {\n",
       "          inline_js[i](window.Bokeh);\n",
       "        }if (force === \"1\") {\n",
       "          display_loaded();\n",
       "        }} else if (Date.now() < window._bokeh_timeout) {\n",
       "        setTimeout(run_inline_js, 100);\n",
       "      } else if (!window._bokeh_failed_load) {\n",
       "        console.log(\"Bokeh: BokehJS failed to load within specified timeout.\");\n",
       "        window._bokeh_failed_load = true;\n",
       "      } else if (!force) {\n",
       "        var cell = $(\"#cd2b325f-2748-41e9-a82b-ab42be5fa8ec\").parents('.cell').data().cell;\n",
       "        cell.output_area.append_execute_result(NB_LOAD_WARNING)\n",
       "      }\n",
       "  \n",
       "    }\n",
       "  \n",
       "    if (window._bokeh_is_loading === 0) {\n",
       "      console.log(\"Bokeh: BokehJS loaded, going straight to plotting\");\n",
       "      run_inline_js();\n",
       "    } else {\n",
       "      load_libs(js_urls, function() {\n",
       "        console.log(\"Bokeh: BokehJS plotting callback run at\", now());\n",
       "        run_inline_js();\n",
       "      });\n",
       "    }\n",
       "  }(this));\n",
       "</script>"
      ]
     },
     "metadata": {},
     "output_type": "display_data"
    }
   ],
   "source": [
    "from bokeh.plotting import figure, output_file, show, ColumnDataSource\n",
    "from bokeh.models import HoverTool\n",
    "import matplotlib as mpl\n",
    "from bokeh.io import push_notebook, show, output_notebook\n",
    "from bokeh.models import HoverTool\n",
    "output_notebook()\n",
    "\n",
    "\n",
    "output_file(\"selected_ratings.html\")\n",
    "\n",
    "source = ColumnDataSource(\n",
    "        data=dict(\n",
    "            x=projected[0,:],\n",
    "            y=projected[1,:],\n",
    "            desc=names,\n",
    "            rating=ratings\n",
    "        )\n",
    "    )\n",
    "\n",
    "hover = HoverTool(\n",
    "        tooltips=[\n",
    "            (\"index\", \"$index\"),\n",
    "            (\"(x,y)\", \"($x, $y)\"),\n",
    "            (\"Name\", \"@desc\"),\n",
    "            (\"Rating\", \"@rating\"),\n",
    "        ]\n",
    "    )\n",
    "\n",
    "p = figure(plot_width=400, plot_height=400, tools=[hover],\n",
    "           title=\"Visualization of selected movies\")\n",
    "p.xaxis.axis_label = 'First Principal Direction'\n",
    "p.yaxis.axis_label = 'Second Principal Direction'\n",
    "\n",
    "colors = [\n",
    "    \"#%02x%02x%02x\" % (255-int(r), int(g), 0) for r, g, b, _ in 255*mpl.cm.viridis(mpl.colors.Normalize()(ratings))\n",
    "]\n",
    "p.circle('x', 'y', fill_alpha=0.2, color=colors, size=10, source=source)\n",
    "\n",
    "show(p)"
   ]
  },
  {
   "cell_type": "markdown",
   "metadata": {},
   "source": [
    "• Based on your knowledge of these movies and information that you can get from the\n",
    "web, explain the coordinates of a few of the movies."
   ]
  },
  {
   "cell_type": "markdown",
   "metadata": {},
   "source": [
    "It seems like first principal direction corresponds to 'seriousness' and 'critically acclaimed' concept space since movies with high value for 1st principal direction are heavy known dramas, whilst movies with low value are silly comedies. \n",
    "\n",
    "Second principal direction on the other hand seems to describe 'pace, mood, tempo' of the movie since movies with low value for this direction are high action sci-fi movies while movies with higher values seem to be more slow."
   ]
  },
  {
   "cell_type": "markdown",
   "metadata": {},
   "source": [
    "• How do the PCA directions correlate with the Rotten Tomatoes score?"
   ]
  },
  {
   "cell_type": "markdown",
   "metadata": {},
   "source": [
    "Judging by the color distribution in our visualisation it seems like there exists some slight correlation of Rotten Tomatoes score with first principal direction as most movies with low value for first direction have also low rating."
   ]
  }
 ],
 "metadata": {
  "anaconda-cloud": {},
  "kernelspec": {
   "display_name": "Python 3",
   "language": "python",
   "name": "python3"
  },
  "language_info": {
   "codemirror_mode": {
    "name": "ipython",
    "version": 3
   },
   "file_extension": ".py",
   "mimetype": "text/x-python",
   "name": "python",
   "nbconvert_exporter": "python",
   "pygments_lexer": "ipython3",
   "version": "3.5.2"
  }
 },
 "nbformat": 4,
 "nbformat_minor": 1
}
