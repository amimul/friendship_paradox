{
 "cells": [
  {
   "cell_type": "markdown",
   "metadata": {},
   "source": [
    "# Text 2: Latent semantic indexing\n",
    "**Internet Analytics - Lab 4**\n",
    "\n",
    "---\n",
    "\n",
    "**Group:** *Y*\n",
    "\n",
    "**Names:**\n",
    "\n",
    "* *Kristian Aurlien*\n",
    "* *Mateusz Paluchowski*\n",
    "\n",
    "---\n",
    "\n",
    "#### Instructions\n",
    "\n",
    "*This is a template for part 2 of the lab. Clearly write your answers, comments and interpretations in Markodown cells. Don't forget that you can add $\\LaTeX$ equations in these cells. Feel free to add or remove any cell.*\n",
    "\n",
    "*Please properly comment your code. Code readability will be considered for grading. To avoid long cells of codes in the notebook, you can also embed long python functions and classes in a separate module. Don’t forget to hand in your module if that is the case. In multiple exercises, you are required to come up with your own method to solve various problems. Be creative and clearly motivate and explain your methods. Creativity and clarity will be considered for grading.*"
   ]
  },
  {
   "cell_type": "code",
   "execution_count": 1,
   "metadata": {
    "collapsed": true
   },
   "outputs": [],
   "source": [
    "import pickle\n",
    "import numpy as np\n",
    "from scipy.sparse.linalg import svds\n",
    "from utils import load_json, load_pkl"
   ]
  },
  {
   "cell_type": "markdown",
   "metadata": {},
   "source": [
    "## Exercise 4.4: Latent semantic indexing"
   ]
  },
  {
   "cell_type": "code",
   "execution_count": 2,
   "metadata": {},
   "outputs": [
    {
     "name": "stdout",
     "output_type": "stream",
     "text": [
      "Number of terms (n) = 10875\n",
      "Number of courses (m) = 854\n"
     ]
    }
   ],
   "source": [
    "# n x m matrix where n is number of terms and m is number of documents\n",
    "X = load_pkl('tfidx_matrix.pkl')\n",
    "terms = load_pkl('terms.pkl')\n",
    "courses = load_pkl('courses.pkl')\n",
    "\n",
    "n, m = X.shape\n",
    "print('Number of terms (n) =', n)\n",
    "print('Number of courses (m) =', m)"
   ]
  },
  {
   "cell_type": "code",
   "execution_count": 3,
   "metadata": {
    "collapsed": true
   },
   "outputs": [],
   "source": [
    "U, S, V_t = svds(X, k=300, which='LM')"
   ]
  },
  {
   "cell_type": "code",
   "execution_count": 4,
   "metadata": {},
   "outputs": [
    {
     "name": "stdout",
     "output_type": "stream",
     "text": [
      "U: (10875, 300)\n",
      "S: (300,)\n",
      "V^T: (300, 854)\n"
     ]
    }
   ],
   "source": [
    "'''\n",
    "I'm in love with the shape of U\n",
    "We push and pull like a magnet do\n",
    "Although my heart is falling too\n",
    "I'm in love with your body\n",
    "'''\n",
    "\n",
    "print('U:', U.shape)\n",
    "print('S:', S.shape)\n",
    "print('V^T:', V_t.shape)"
   ]
  },
  {
   "cell_type": "markdown",
   "metadata": {},
   "source": [
    "    1. Describe the rows and columns of U and V , and the values of S.\n",
    "#### $U$: Term-concept mapping\n",
    "\n",
    "The $n$ rows of the $U$-matrix given by the SVD, gives us a mapping from term to concept. Each row is the mapping for one term, and each value $v_i$ in that row shows how strongly that term relates to concept $c_i$\n",
    "\n",
    "#### $V^T$: Course-concept mapping\n",
    "Similarly, the $m$ columns of the $V^T$ matrix shows how strongly each course corresponds to each concept.\n",
    "\n",
    "#### $S$: Concept-\"strength\"\n",
    "The singular valies of $S$ shows how \"strong\" the concept is - the bigger the value is, the \"stronger\" the concept.\n",
    "\n",
    "\n",
    "    2. Print the top-20 eigenvalues of X.  "
   ]
  },
  {
   "cell_type": "code",
   "execution_count": 5,
   "metadata": {},
   "outputs": [
    {
     "data": {
      "text/plain": [
       "array([ 349.98468286,  223.52636182,  211.60463826,  204.95465982,\n",
       "        192.72277657,  191.73736178,  188.90578214,  186.88000684,\n",
       "        182.26580104,  177.04396616,  172.45494585,  171.3265112 ,\n",
       "        168.98098613,  164.52156741,  161.13242853,  160.75631113,\n",
       "        158.58393064,  157.0648853 ,  155.26142247,  153.10302775])"
      ]
     },
     "execution_count": 5,
     "metadata": {},
     "output_type": "execute_result"
    }
   ],
   "source": [
    "top20_singular = S[::-1][:20]\n",
    "top20_singular"
   ]
  },
  {
   "cell_type": "code",
   "execution_count": 6,
   "metadata": {},
   "outputs": [
    {
     "data": {
      "text/plain": [
       "[122489.27823503192,\n",
       " 49964.03442985985,\n",
       " 44776.522932370077,\n",
       " 42006.412581026954,\n",
       " 37142.068610249044,\n",
       " 36763.21590353275,\n",
       " 35685.394527661418,\n",
       " 34924.136956224233,\n",
       " 33220.82222913039,\n",
       " 31344.565952711291,\n",
       " 29740.7083469973,\n",
       " 29352.773441369587,\n",
       " 28554.573672492083,\n",
       " 27067.346143503568,\n",
       " 25963.659525275776,\n",
       " 25842.591568733347,\n",
       " 25148.863057568589,\n",
       " 24669.378195278983,\n",
       " 24106.109307432598,\n",
       " 23440.537106715179]"
      ]
     },
     "execution_count": 6,
     "metadata": {},
     "output_type": "execute_result"
    }
   ],
   "source": [
    "top20_eigenvalues = [x*x for x in top20_singular]\n",
    "top20_eigenvalues"
   ]
  },
  {
   "cell_type": "markdown",
   "metadata": {},
   "source": [
    "## Exercise 4.5: Topic extraction"
   ]
  },
  {
   "cell_type": "code",
   "execution_count": 7,
   "metadata": {
    "collapsed": true
   },
   "outputs": [],
   "source": [
    "s = np.diag(S)"
   ]
  },
  {
   "cell_type": "code",
   "execution_count": 8,
   "metadata": {},
   "outputs": [
    {
     "data": {
      "text/plain": [
       "(10875,)"
      ]
     },
     "execution_count": 8,
     "metadata": {},
     "output_type": "execute_result"
    }
   ],
   "source": [
    "# The columns of U contains one value per token in the vocabulary\n",
    "U[:,-1].shape"
   ]
  },
  {
   "cell_type": "code",
   "execution_count": 9,
   "metadata": {
    "scrolled": true
   },
   "outputs": [
    {
     "name": "stdout",
     "output_type": "stream",
     "text": [
      "Concept 1 :\n",
      "['comput', 'architectur', 'imag', 'risk', 'engin', 'energi', 'electron', 'materi', 'data', 'project', 'optic', 'process', 'model', 'design', 'system']\n",
      "Concept 2 :\n",
      "['magnet', 'semiconductor', 'micro', 'mem', 'photon', 'sensor', 'materi', 'print', 'imag', 'light', 'devic', 'microscopi', 'laser', 'electron', 'optic']\n",
      "Concept 3 :\n",
      "['data', 'research', 'semest', 'develop', 'recycl', 'excurs', 'form', 'report', 'design', 'week', 'urban', 'studio', 'project', 'architectur', 'wast']\n",
      "Concept 4 :\n",
      "['lab', 'comput', 'imag', 'project', 'signal', 'algorithm', 'robot', 'system', 'speech', 'design', 'data', 'urban', 'digit', 'studio', 'architectur']\n",
      "Concept 5 :\n",
      "['common', 'roman', 'risk', 'territori', 'fiber', 'waveguid', 'citi', 'light', 'urban', 'studio', 'imag', 'architectur', 'laser', 'wast', 'optic']\n",
      "Concept 6 :\n",
      "['sensor', 'digit', 'seismic', 'system', 'urban', 'power', 'wast', 'studio', 'electron', 'devic', 'circuit', 'design', 'steel', 'print', 'architectur']\n",
      "Concept 7 :\n",
      "['reaction', 'citi', 'studio', 'materi', 'urban', 'common', 'polici', 'chemic', 'print', 'electron', 'protein', 'architectur', 'cell', 'energi', 'risk']\n",
      "Concept 8 :\n",
      "['statist', 'synthesi', 'verif', 'numer', 'flow', 'algorithm', 'voic', 'model', 'code', 'robot', 'process', 'wast', 'signal', 'recognit', 'speech']\n",
      "Concept 9 :\n",
      "['technolog', 'risk', 'mem', 'ssv', 'laboratori', 'electron', 'host', 'wearabl', 'circuit', 'report', 'lab', 'sensor', 'devic', 'print', 'robot']\n",
      "Concept 10 :\n",
      "['speaker', 'signal', 'print', 'drug', 'stem', 'synthesi', 'electron', 'steel', 'voic', 'risk', 'biolog', 'recognit', 'cell', 'protein', 'speech']\n"
     ]
    }
   ],
   "source": [
    "# combination of terms\n",
    "for concept in range(-1,-11,-1):\n",
    "    words = [terms[t] for t in np.argsort(U[:,concept])[-15:]]\n",
    "    print('Concept', -concept,':')\n",
    "    print(words)"
   ]
  },
  {
   "cell_type": "code",
   "execution_count": 10,
   "metadata": {},
   "outputs": [
    {
     "name": "stdout",
     "output_type": "stream",
     "text": [
      "Concept 1 :\n",
      "['book' 'solid' 'waste' 'engineering' 'global' 'perspective' 'basis'\n",
      " 'textbook' 'excellent' 'introduction']\n",
      "Concept 2 :\n",
      "['addresses' 'implementation' 'organic' 'printed' 'electronics'\n",
      " 'technologies' 'large' 'area' 'manufacturing' 'techniques']\n",
      "Concept 3 :\n",
      "['studio' 'explores' 'meaningful' 'form' 'generating' 'processes'\n",
      " 'algorithmic' 'parametric' 'tools' 'introduces']\n",
      "Concept 4 :\n",
      "['studio' 'explores' 'meaningful' 'form' 'generating' 'processes'\n",
      " 'algorithmic' 'parametric' 'tools' 'introduces']\n",
      "Concept 5 :\n",
      "['commons' 'part' 'appia' 'novissima' 'tackle' 'urgent' 'issue'\n",
      " 'rebuilding' 'shared' 'infrastructure']\n",
      "Concept 6 :\n",
      "['addresses' 'implementation' 'organic' 'printed' 'electronics'\n",
      " 'technologies' 'large' 'area' 'manufacturing' 'techniques']\n",
      "Concept 7 :\n",
      "['commons' 'part' 'tackle' 'urgent' 'issue' 'rebuilding' 'shared'\n",
      " 'infrastructure' 'european' 'territory']\n",
      "Concept 8 :\n",
      "['goal' 'provide' 'students' 'main' 'formalisms' 'models' 'algorithms'\n",
      " 'required' 'implementation' 'advanced']\n",
      "Concept 9 :\n",
      "['student' 'engage' 'laboratory' 'based' 'project' 'field' 'molecular'\n",
      " 'medicine' 'neuroscience' 'bioengineering']\n",
      "Concept 10 :\n",
      "['goal' 'provide' 'students' 'main' 'formalisms' 'models' 'algorithms'\n",
      " 'required' 'implementation' 'advanced']\n"
     ]
    }
   ],
   "source": [
    "# combination of documents\n",
    "for concept in range(-1,-11,-1):\n",
    "    # Collect some tokens from each course\n",
    "    words = np.concatenate([courses[t]['tokens'] \\\n",
    "                            for t in np.argsort(V_t[concept])[-2:]])\n",
    "    print('Concept', -concept,':')\n",
    "    print(words[:10])"
   ]
  },
  {
   "cell_type": "markdown",
   "metadata": {},
   "source": [
    "For some of the concepts it is hard to see the connection, while for others, like C_4, it seems obvious. Nevertheless, we have done our best to do give each concept a name:\n",
    "\n",
    "\n",
    "- Concept 1: \"Physics\"- / \"Administrative\"+\n",
    "- Concept 2: \"Finance\"\n",
    "- Concept 3: \"Optics\"\n",
    "- Concept 4: \"Environmental engineering\"+\n",
    "- Concept 5: \"Thermodynamics / Mathematics\"\n",
    "- Concept 6: \"Electronics\"\n",
    "- Concept 7: \"Signal Processing\"\n",
    "- Concept 8: \"Computer Science / AI\"\n",
    "- Concept 9: \"Chemistry\"\n",
    "- Concept 10: \"Fluid Dynamics\"\n"
   ]
  },
  {
   "cell_type": "markdown",
   "metadata": {},
   "source": [
    "## Exercise 4.6: Document similarity search in concept-space"
   ]
  },
  {
   "cell_type": "code",
   "execution_count": 11,
   "metadata": {
    "collapsed": true
   },
   "outputs": [],
   "source": [
    "U, S, V_t = svds(X, k=300, which='LM')\n",
    "s = np.diag(S)"
   ]
  },
  {
   "cell_type": "code",
   "execution_count": 12,
   "metadata": {
    "collapsed": true
   },
   "outputs": [],
   "source": [
    "def term_document_similarity(query):\n",
    "    similarities = np.zeros(len(courses))\n",
    "    for term in query.split(' '):\n",
    "        t_index = terms.index(term)\n",
    "        u_t = U[t_index]\n",
    "        \n",
    "        for ix, d in enumerate(courses):\n",
    "            v_T_d = V_t[:,ix]\n",
    "    \n",
    "            s_v_T_d = np.dot(s, v_T_d)\n",
    "            nominator = np.dot(u_t, s_v_T_d)\n",
    "            denominator = np.linalg.norm(u_t) * np.linalg.norm(s_v_T_d)\n",
    "            sim = nominator / denominator\n",
    "            similarities[ix] += sim\n",
    "    return similarities"
   ]
  },
  {
   "cell_type": "code",
   "execution_count": 13,
   "metadata": {
    "collapsed": true
   },
   "outputs": [],
   "source": [
    "def LSI_search(terms, no_top=5):\n",
    "    similiarities = term_document_similarity(terms)\n",
    "    top_results = np.argsort(similiarities)[::-1][0:no_top]\n",
    "    for top in top_results:\n",
    "        print('{0}: {1}'.format(courses[top]['name'], top))"
   ]
  },
  {
   "cell_type": "code",
   "execution_count": 14,
   "metadata": {},
   "outputs": [
    {
     "name": "stdout",
     "output_type": "stream",
     "text": [
      "Computational Social Media: 798\n",
      "Social media: 407\n",
      "Studio MA2 (Escher et GuneWardena): 59\n",
      "Transport phenomena II: 29\n",
      "Human computer interaction: 521\n"
     ]
    }
   ],
   "source": [
    "LSI_search('facebook', 5)"
   ]
  },
  {
   "cell_type": "code",
   "execution_count": 15,
   "metadata": {},
   "outputs": [
    {
     "name": "stdout",
     "output_type": "stream",
     "text": [
      "Applied stochastic processes: 80\n",
      "Applied probability & stochastic processes: 398\n",
      "Markov chains and algorithmic applications: 245\n",
      "Supply chain management: 44\n",
      "Mathematical models in supply chain management: 99\n"
     ]
    }
   ],
   "source": [
    "LSI_search('markov chain', 5)"
   ]
  },
  {
   "cell_type": "markdown",
   "metadata": {},
   "source": [
    "### VSM"
   ]
  },
  {
   "cell_type": "markdown",
   "metadata": {
    "collapsed": true
   },
   "source": [
    "###### Query: \"facebook\"\n",
    "\n",
    "'Computational Social Media': 0.17945984867925702,\n",
    "\n",
    "'CCMX Advanced Course - Instrumented Nanoindentation': 0.0,\n",
    "\n",
    "'Electronic properties of solids and superconductivity': 0.0,\n",
    "\n",
    "'Hydrogeophysics': 0.0,\n",
    "\n",
    "'Molecular and cellular biophysic II': 0.0\n",
    "\n",
    "\n",
    "###### Query: \"markov chains\"\n",
    "\n",
    "\n",
    "'Applied probability & stochastic processes', 0.55400769353626178,\n",
    "\n",
    "'Applied stochastic processes', 0.55211833344995098,\n",
    "\n",
    "'Markov chains and algorithmic applications', 0.38168653789318985,\n",
    "\n",
    "'Supply chain management', 0.37852761365218429,\n",
    "\n",
    "'Mathematical models in supply chain management', 0.31162506776787757"
   ]
  },
  {
   "cell_type": "markdown",
   "metadata": {},
   "source": [
    "### LSI"
   ]
  },
  {
   "cell_type": "markdown",
   "metadata": {},
   "source": [
    "###### Query: \"facebook\"\n",
    "\n",
    "Computational Social Media: 798\n",
    "\n",
    "Human computer interaction: 521\n",
    "\n",
    "Social media: 407\n",
    "\n",
    "Studio MA2 (Escher et GuneWardena): 59\n",
    "\n",
    "Transport phenomena II: 29\n",
    "\n",
    "###### Query: \"markov chains\"\n",
    "\n",
    "Applied probability & stochastic processes: 398\n",
    "\n",
    "Markov chains and algorithmic applications: 245\n",
    "\n",
    "Mathematical models in supply chain management: 99\n",
    "\n",
    "Applied stochastic processes: 80\n",
    "\n",
    "\n",
    "Supply chain management: 44\n"
   ]
  },
  {
   "cell_type": "markdown",
   "metadata": {},
   "source": [
    "As we can see above LSI search performs significantly better especially for queries which contain terms occuring only in few of the documents. That is simply because rare terms can be 'asigned' to more general concept describing documents and thus there is a higher chance of finding relevant information in this concept space, rather than in naive term frequency apporach."
   ]
  },
  {
   "cell_type": "markdown",
   "metadata": {},
   "source": [
    "## Exercise 4.7: Document-document similarity"
   ]
  },
  {
   "cell_type": "markdown",
   "metadata": {},
   "source": [
    "Simpliest and most efficient way of computing document-document similarity is to compute cosine similarity between given document represented as document-concept V_t and rest of the document-concepts."
   ]
  },
  {
   "cell_type": "code",
   "execution_count": 16,
   "metadata": {
    "collapsed": true
   },
   "outputs": [],
   "source": [
    "def cosine_sim(d1, d2):\n",
    "    return np.dot(d1, d2) / (np.linalg.norm(d1) * np.linalg.norm(d2))"
   ]
  },
  {
   "cell_type": "code",
   "execution_count": 17,
   "metadata": {},
   "outputs": [
    {
     "data": {
      "text/plain": [
       "43"
      ]
     },
     "execution_count": 17,
     "metadata": {},
     "output_type": "execute_result"
    }
   ],
   "source": [
    "COM_308_id = next(index for (index, d) in enumerate(courses) if d[\"courseId\"] == \"COM-308\")\n",
    "COM_308_id"
   ]
  },
  {
   "cell_type": "code",
   "execution_count": 18,
   "metadata": {
    "collapsed": true
   },
   "outputs": [],
   "source": [
    "COM_308_similarities = np.apply_along_axis(cosine_sim, 0, V_t, V_t[:, COM_308_id])"
   ]
  },
  {
   "cell_type": "code",
   "execution_count": 19,
   "metadata": {
    "collapsed": true
   },
   "outputs": [],
   "source": [
    "top_5_COM_308 = np.argsort(COM_308_similarities)[::-1][0:6]"
   ]
  },
  {
   "cell_type": "code",
   "execution_count": 20,
   "metadata": {
    "collapsed": true
   },
   "outputs": [],
   "source": [
    "top_COM_308 = {}\n",
    "for ind, top in enumerate(top_5_COM_308):\n",
    "    if top != COM_308_id:\n",
    "        top_COM_308[courses[top]['name']] = np.sort(COM_308_similarities)[::-1][ind]"
   ]
  },
  {
   "cell_type": "code",
   "execution_count": 21,
   "metadata": {},
   "outputs": [
    {
     "data": {
      "text/plain": [
       "{'A Network Tour of Data Science': 0.34372597801585447,\n",
       " 'Data science for business': 0.26147945878886086,\n",
       " 'Distributed information systems': 0.5356748810502423,\n",
       " 'Financial big data': 0.43121459718942151,\n",
       " 'Networks out of control': 0.35117786627061409}"
      ]
     },
     "execution_count": 21,
     "metadata": {},
     "output_type": "execute_result"
    }
   ],
   "source": [
    "top_COM_308"
   ]
  },
  {
   "cell_type": "markdown",
   "metadata": {},
   "source": [
    "As we can see recommended classes revolve around big data and data science. Deep dive into the course description only seems to verify that proposed classes are accurate."
   ]
  }
 ],
 "metadata": {
  "kernelspec": {
   "display_name": "Python 3",
   "language": "python",
   "name": "python3"
  },
  "language_info": {
   "codemirror_mode": {
    "name": "ipython",
    "version": 3
   },
   "file_extension": ".py",
   "mimetype": "text/x-python",
   "name": "python",
   "nbconvert_exporter": "python",
   "pygments_lexer": "ipython3",
   "version": "3.6.1"
  }
 },
 "nbformat": 4,
 "nbformat_minor": 2
}
