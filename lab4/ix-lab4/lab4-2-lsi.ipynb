{
 "cells": [
  {
   "cell_type": "markdown",
   "metadata": {},
   "source": [
    "# Text 2: Latent semantic indexing\n",
    "**Internet Analytics - Lab 4**\n",
    "\n",
    "---\n",
    "\n",
    "**Group:** *Your group letter.*\n",
    "\n",
    "**Names:**\n",
    "\n",
    "* *Name 1*\n",
    "* *Name 2*\n",
    "* *Name 3*\n",
    "\n",
    "---\n",
    "\n",
    "#### Instructions\n",
    "\n",
    "*This is a template for part 2 of the lab. Clearly write your answers, comments and interpretations in Markodown cells. Don't forget that you can add $\\LaTeX$ equations in these cells. Feel free to add or remove any cell.*\n",
    "\n",
    "*Please properly comment your code. Code readability will be considered for grading. To avoid long cells of codes in the notebook, you can also embed long python functions and classes in a separate module. Don’t forget to hand in your module if that is the case. In multiple exercises, you are required to come up with your own method to solve various problems. Be creative and clearly motivate and explain your methods. Creativity and clarity will be considered for grading.*"
   ]
  },
  {
   "cell_type": "code",
   "execution_count": 2,
   "metadata": {},
   "outputs": [],
   "source": [
    "import pickle\n",
    "import numpy as np\n",
    "from scipy.sparse.linalg import svds\n",
    "from utils import load_json, load_pkl"
   ]
  },
  {
   "cell_type": "markdown",
   "metadata": {},
   "source": [
    "## Exercise 4.4: Latent semantic indexing"
   ]
  },
  {
   "cell_type": "code",
   "execution_count": 37,
   "metadata": {},
   "outputs": [
    {
     "name": "stdout",
     "output_type": "stream",
     "text": [
      "Number of terms (n) = 10875\n",
      "Number of courses (m) = 854\n"
     ]
    }
   ],
   "source": [
    "# n x m matrix where n is number of terms and m is number of documents\n",
    "X = load_pkl('tfidx_matrix.pkl')\n",
    "terms = load_pkl('terms.pkl')\n",
    "courses = load_pkl('courses.pkl')\n",
    "\n",
    "n, m = X.shape\n",
    "print('Number of terms (n) =', n)\n",
    "print('Number of courses (m) =', m)"
   ]
  },
  {
   "cell_type": "code",
   "execution_count": 44,
   "metadata": {},
   "outputs": [],
   "source": [
    "U, S, V_t = svds(X, k=300, which='LM')"
   ]
  },
  {
   "cell_type": "code",
   "execution_count": 45,
   "metadata": {},
   "outputs": [
    {
     "name": "stdout",
     "output_type": "stream",
     "text": [
      "U: (10875, 300)\n",
      "S: (300,)\n",
      "V^T: (300, 854)\n"
     ]
    }
   ],
   "source": [
    "'''\n",
    "I'm in love with the shape of U\n",
    "We push and pull like a magnet do\n",
    "Although my heart is falling too\n",
    "I'm in love with your body\n",
    "'''\n",
    "\n",
    "print('U:', U.shape)\n",
    "print('S:', S.shape)\n",
    "print('V^T:', V_t.shape)"
   ]
  },
  {
   "cell_type": "markdown",
   "metadata": {},
   "source": [
    "    1. Describe the rows and columns of U and V , and the values of S.\n",
    "#### $U$: Term-concept mapping\n",
    "\n",
    "The $n$ rows of the $U$-matrix given by the SVD, gives us a mapping from term to concept. Each row is the mapping for one term, and each value $v_i$ in that row shows how strongly that term relates to concept $c_i$\n",
    "\n",
    "#### $V^T$: Cource-concept mapping\n",
    "Similarly, the $m$ columns of the $V^T$ matrix shows how strongly each course corresponds to each concept.\n",
    "\n",
    "#### $S$: Concept-\"strength\"\n",
    "The singular valies of $S$ shows how \"strong\" the concept is - the bigger the value is, the \"stronger\" the concept.\n",
    "\n",
    "\n",
    "    2. Print the top-20 eigenvalues of X.  "
   ]
  },
  {
   "cell_type": "code",
   "execution_count": 62,
   "metadata": {},
   "outputs": [
    {
     "data": {
      "text/plain": [
       "array([ 349.98468286,  223.52636182,  211.60463826,  204.95465982,\n",
       "        192.72277657,  191.73736178,  188.90578214,  186.88000684,\n",
       "        182.26580104,  177.04396616,  172.45494585,  171.3265112 ,\n",
       "        168.98098613,  164.52156741,  161.13242853,  160.75631113,\n",
       "        158.58393064,  157.0648853 ,  155.26142247,  153.10302775])"
      ]
     },
     "execution_count": 62,
     "metadata": {},
     "output_type": "execute_result"
    }
   ],
   "source": [
    "top20_singular = S[::-1][:20]\n",
    "top20_singular"
   ]
  },
  {
   "cell_type": "code",
   "execution_count": 64,
   "metadata": {},
   "outputs": [
    {
     "data": {
      "text/plain": [
       "[122489.27823503187,\n",
       " 49964.034429859625,\n",
       " 44776.522932369844,\n",
       " 42006.412581027034,\n",
       " 37142.068610249218,\n",
       " 36763.215903532728,\n",
       " 35685.39452766152,\n",
       " 34924.136956224342,\n",
       " 33220.822229130506,\n",
       " 31344.565952711251,\n",
       " 29740.708346997351,\n",
       " 29352.77344136954,\n",
       " 28554.573672492104,\n",
       " 27067.346143503466,\n",
       " 25963.659525275714,\n",
       " 25842.5915687333,\n",
       " 25148.863057568564,\n",
       " 24669.378195278994,\n",
       " 24106.1093074325,\n",
       " 23440.537106715274]"
      ]
     },
     "execution_count": 64,
     "metadata": {},
     "output_type": "execute_result"
    }
   ],
   "source": [
    "top20_eigenvalues = [x*x for x in top20_singular]\n",
    "top20_eigenvalues"
   ]
  },
  {
   "cell_type": "markdown",
   "metadata": {},
   "source": [
    "## Exercise 4.5: Topic extraction"
   ]
  },
  {
   "cell_type": "code",
   "execution_count": null,
   "metadata": {
    "scrolled": true
   },
   "outputs": [],
   "source": []
  },
  {
   "cell_type": "markdown",
   "metadata": {},
   "source": [
    "## Exercise 4.6: Document similarity search in concept-space"
   ]
  },
  {
   "cell_type": "code",
   "execution_count": null,
   "metadata": {},
   "outputs": [],
   "source": []
  },
  {
   "cell_type": "markdown",
   "metadata": {},
   "source": [
    "## Exercise 4.7: Document-document similarity"
   ]
  },
  {
   "cell_type": "code",
   "execution_count": null,
   "metadata": {},
   "outputs": [],
   "source": []
  }
 ],
 "metadata": {
  "kernelspec": {
   "display_name": "Python 3",
   "language": "python",
   "name": "python3"
  },
  "language_info": {
   "codemirror_mode": {
    "name": "ipython",
    "version": 3
   },
   "file_extension": ".py",
   "mimetype": "text/x-python",
   "name": "python",
   "nbconvert_exporter": "python",
   "pygments_lexer": "ipython3",
   "version": "3.6.1"
  }
 },
 "nbformat": 4,
 "nbformat_minor": 2
}
