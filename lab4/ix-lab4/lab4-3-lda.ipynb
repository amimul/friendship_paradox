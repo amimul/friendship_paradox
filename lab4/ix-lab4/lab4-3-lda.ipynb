{
 "cells": [
  {
   "cell_type": "markdown",
   "metadata": {},
   "source": [
    "# Text 3: Latent Dirichlet allocation\n",
    "**Internet Analytics - Lab 4**\n",
    "\n",
    "---\n",
    "\n",
    "**Group:** *Y*\n",
    "\n",
    "**Names:**\n",
    "\n",
    "* *Kristian Aurlien*\n",
    "* *Mateusz Paluchowski*\n",
    "\n",
    "\n",
    "---\n",
    "\n",
    "#### Instructions\n",
    "\n",
    "*This is a template for part 3 of the lab. Clearly write your answers, comments and interpretations in Markodown cells. Don't forget that you can add $\\LaTeX$ equations in these cells. Feel free to add or remove any cell.*\n",
    "\n",
    "*Please properly comment your code. Code readability will be considered for grading. To avoid long cells of codes in the notebook, you can also embed long python functions and classes in a separate module. Don’t forget to hand in your module if that is the case. In multiple exercises, you are required to come up with your own method to solve various problems. Be creative and clearly motivate and explain your methods. Creativity and clarity will be considered for grading.*"
   ]
  },
  {
   "cell_type": "code",
   "execution_count": 24,
   "metadata": {
    "collapsed": false
   },
   "outputs": [],
   "source": [
    "import pickle\n",
    "import pandas as pd\n",
    "import numpy as np\n",
    "from utils import load_json, load_pkl\n",
    "\n",
    "from pyspark.mllib.clustering import LDA, LDAModel\n",
    "from pyspark.mllib.linalg import Vectors"
   ]
  },
  {
   "cell_type": "code",
   "execution_count": 2,
   "metadata": {
    "collapsed": false
   },
   "outputs": [
    {
     "data": {
      "text/plain": [
       "<pyspark.context.SparkContext at 0x7f6c04f34240>"
      ]
     },
     "execution_count": 2,
     "metadata": {},
     "output_type": "execute_result"
    }
   ],
   "source": [
    "sc"
   ]
  },
  {
   "cell_type": "markdown",
   "metadata": {},
   "source": [
    "## Exercise 4.8: Topics extraction"
   ]
  },
  {
   "cell_type": "markdown",
   "metadata": {
    "collapsed": true
   },
   "source": [
    "Using your pre-processed courses dataset, extract topics using LDA.\n",
    "    1. Print k = 10 topics extracted using LDA and give them labels. \n",
    "    2. How does it compare with LSI?\n",
    "You can use the default values for all parameters."
   ]
  },
  {
   "cell_type": "code",
   "execution_count": 35,
   "metadata": {
    "collapsed": false
   },
   "outputs": [],
   "source": [
    "# courses = load_pkl('courses.pkl')\n",
    "tf_matrix = load_pkl('tf_matrix.pkl')\n",
    "terms = load_pkl('terms.pkl')"
   ]
  },
  {
   "cell_type": "code",
   "execution_count": 4,
   "metadata": {
    "collapsed": true
   },
   "outputs": [],
   "source": [
    "#We want word count vectors not colums thus we need to transpose our TF_matrix \n",
    "tf_matrix_T = tf_matrix.T"
   ]
  },
  {
   "cell_type": "code",
   "execution_count": 5,
   "metadata": {
    "collapsed": false
   },
   "outputs": [
    {
     "data": {
      "text/plain": [
       "(854, 10875)"
      ]
     },
     "execution_count": 5,
     "metadata": {},
     "output_type": "execute_result"
    }
   ],
   "source": [
    "tf_matrix_T.shape"
   ]
  },
  {
   "cell_type": "code",
   "execution_count": 29,
   "metadata": {
    "collapsed": false
   },
   "outputs": [],
   "source": [
    "#Pandas trick to format the data as in pyspark docs example\n",
    "df = pd.DataFrame(data=tf_matrix_T)\n",
    "df.to_csv('tf_matrix_T.csv', sep=' ', header=False, index=False)"
   ]
  },
  {
   "cell_type": "code",
   "execution_count": 30,
   "metadata": {
    "collapsed": false
   },
   "outputs": [],
   "source": [
    "data = sc.textFile(\"tf_matrix_T.csv\")\n",
    "parsedData = data.map(lambda line: Vectors.dense([float(x) for x in line.strip().split(' ')]))\n",
    "\n",
    "# Index documents with unique IDs`\n",
    "corpus = parsedData.zipWithIndex().map(lambda x: [x[1], x[0]]).cache()"
   ]
  },
  {
   "cell_type": "code",
   "execution_count": 51,
   "metadata": {
    "collapsed": true
   },
   "outputs": [],
   "source": [
    "ldaModel = LDA.train(corpus, k=10, optimizer='online')"
   ]
  },
  {
   "cell_type": "code",
   "execution_count": 60,
   "metadata": {
    "collapsed": false
   },
   "outputs": [],
   "source": [
    "# Learn topics\n",
    "topics_baseline = ldaModel.topicsMatrix()"
   ]
  },
  {
   "cell_type": "code",
   "execution_count": 61,
   "metadata": {
    "collapsed": false
   },
   "outputs": [],
   "source": [
    "# Print top words describing topics\n",
    "def describe_topics(topics, no_of_topics=10, no_of_words=10):\n",
    "    for topic in range(no_of_topics):\n",
    "        print(\"Topic \" + str(topic) + \":\")\n",
    "        top_words_idx = np.argsort(topics[:,topic])[::-1][0:no_of_words]\n",
    "        words = []\n",
    "        for word_id in top_words_idx:\n",
    "            words.append(terms[word_id])\n",
    "        print(words)"
   ]
  },
  {
   "cell_type": "code",
   "execution_count": 62,
   "metadata": {
    "collapsed": false
   },
   "outputs": [
    {
     "name": "stdout",
     "output_type": "stream",
     "text": [
      "Topic 0:\n",
      "['method', 'learn', 'student', 'model', 'flow', 'cours', 'system', 'basic', 'assess', 'understand']\n",
      "Topic 1:\n",
      "['student', 'disadvantg', 'method', 'system', 'learn', 'begin', 'lot', 'lectur', 'usual', 'content']\n",
      "Topic 2:\n",
      "['train', 'rotat', 'student', 'splinkerett', 'electrokineticsdielectrophresi', 'electromagnet', 'date', 'today', 'distributor', 'webster']\n",
      "Topic 3:\n",
      "['method', 'student', 'fondament', 'provid', 'chemic', 'question', 'drug', 'design', 'research', 'compound']\n",
      "Topic 4:\n",
      "['method', 'learn', 'student', 'model', 'content', 'system', 'design', 'concept', 'basic', 'specif']\n",
      "Topic 5:\n",
      "['method', 'learn', 'student', 'system', 'model', 'project', 'analysi', 'present', 'design', 'teach']\n",
      "Topic 6:\n",
      "['student', 'optic', 'method', 'learn', 'content', 'analysi', 'chemic', 'mechan', 'topic', 'rapid']\n",
      "Topic 7:\n",
      "['method', 'student', 'content', 'present', 'learn', 'comput', 'nucleu', 'cours', 'remov', 'networkscharacter']\n",
      "Topic 8:\n",
      "['student', 'method', 'learn', 'model', 'system', 'design', 'project', 'content', 'assess', 'exercis']\n",
      "Topic 9:\n",
      "['learn', 'student', 'model', 'method', 'alain', 'cours', 'criticallyproduc', 'content', 'present', 'toolsassess']\n"
     ]
    }
   ],
   "source": [
    "describe_topics(topics_baseline)"
   ]
  },
  {
   "cell_type": "markdown",
   "metadata": {},
   "source": [
    "## Exercise 4.9: Dirichlet hyperparameters"
   ]
  },
  {
   "cell_type": "markdown",
   "metadata": {},
   "source": [
    "1. Fix k = 10 and β = 1.01, and vary α. How does it impact the topics?"
   ]
  },
  {
   "cell_type": "code",
   "execution_count": 54,
   "metadata": {
    "collapsed": true
   },
   "outputs": [],
   "source": [
    "# LDA docConcentration must be > 1.0 (or -1 for auto) for EM \n",
    "alphas = [0.1, 1, 10, 1000] "
   ]
  },
  {
   "cell_type": "markdown",
   "metadata": {},
   "source": [
    "#### alpha=0.1"
   ]
  },
  {
   "cell_type": "code",
   "execution_count": 56,
   "metadata": {
    "collapsed": true
   },
   "outputs": [],
   "source": [
    "ldaModel_a_0_1 = LDA.train(corpus, k=10, seed=1, topicConcentration=1.01, docConcentration=0.1, optimizer='online')"
   ]
  },
  {
   "cell_type": "code",
   "execution_count": 63,
   "metadata": {
    "collapsed": true
   },
   "outputs": [],
   "source": [
    "topics_a_0_1 = ldaModel_a_0_1.topicsMatrix()"
   ]
  },
  {
   "cell_type": "code",
   "execution_count": 64,
   "metadata": {
    "collapsed": false
   },
   "outputs": [
    {
     "name": "stdout",
     "output_type": "stream",
     "text": [
      "Topic 0:\n",
      "['learn', 'student', 'comput', 'basic', 'flow', 'method', 'cours', 'session', 'model', 'sweng']\n",
      "Topic 1:\n",
      "['method', 'student', 'learn', 'model', 'content', 'energi', 'design', 'system', 'process', 'magnet']\n",
      "Topic 2:\n",
      "['train', 'rotat', 'method', 'student', 'splinkerett', 'algebra', 'electrokineticsdielectrophresi', 'electromagnet', 'learn', 'today']\n",
      "Topic 3:\n",
      "['method', 'student', 'fondament', 'chemic', 'provid', 'question', 'drug', 'compound', 'research', 'learn']\n",
      "Topic 4:\n",
      "['method', 'student', 'learn', 'model', 'design', 'content', 'concept', 'work', 'system', 'end']\n",
      "Topic 5:\n",
      "['student', 'method', 'learn', 'model', 'design', 'system', 'project', 'analysi', 'present', 'teach']\n",
      "Topic 6:\n",
      "['student', 'system', 'method', 'learn', 'analysi', 'rapid', 'model', 'structureselabor', 'ambient', 'biometr']\n",
      "Topic 7:\n",
      "['project', 'method', 'ic', 'nucleu', 'student', 'present', 'remov', 'networkscharacter', 'toolsaccess', 'gel']\n",
      "Topic 8:\n",
      "['learn', 'student', 'method', 'design', 'system', 'content', 'model', 'optic', 'comput', 'cours']\n",
      "Topic 9:\n",
      "['learn', 'project', 'present', 'alain', 'student', 'criticallyproduc', 'cours', 'knowledg', 'process', 'research']\n"
     ]
    }
   ],
   "source": [
    "describe_topics(topics_a_0_1)"
   ]
  },
  {
   "cell_type": "markdown",
   "metadata": {
    "collapsed": true
   },
   "source": [
    "#### alpha=1"
   ]
  },
  {
   "cell_type": "code",
   "execution_count": 65,
   "metadata": {
    "collapsed": true
   },
   "outputs": [],
   "source": [
    "ldaModel_a_1 = LDA.train(corpus, k=10, seed=1, topicConcentration=1.01, docConcentration=0.1, optimizer='online')"
   ]
  },
  {
   "cell_type": "code",
   "execution_count": 66,
   "metadata": {
    "collapsed": true
   },
   "outputs": [],
   "source": [
    "topics_a_1 = ldaModel_a_1.topicsMatrix()"
   ]
  },
  {
   "cell_type": "code",
   "execution_count": 67,
   "metadata": {
    "collapsed": false
   },
   "outputs": [
    {
     "name": "stdout",
     "output_type": "stream",
     "text": [
      "Topic 0:\n",
      "['project', 'respons', 'sweng', 'method', 'cours', 'basic', 'learn', 'analysi', 'csr', 'ic']\n",
      "Topic 1:\n",
      "['disadvantg', 'statist', 'model', 'lot', 'begin', 'usual', 'energi', 'thermogravimetr', 'affect', 'nco']\n",
      "Topic 2:\n",
      "['train', 'rotat', 'student', 'method', 'splinkerett', 'electrokineticsdielectrophresi', 'electromagnet', 'date', 'today', 'intern']\n",
      "Topic 3:\n",
      "['method', 'fondament', 'chemic', 'student', 'question', 'provid', 'drug', 'compound', 'learn', 'halt']\n",
      "Topic 4:\n",
      "['method', 'student', 'learn', 'model', 'content', 'system', 'design', 'project', 'assess', 'concept']\n",
      "Topic 5:\n",
      "['method', 'fsu', 'pocessesdescrib', 'learn', 'analysi', 'student', 'organ', 'optionsperform', 'disc', 'gener']\n",
      "Topic 6:\n",
      "['rapid', 'topic', 'model', 'structureselabor', 'learn', 'ambient', 'content', 'group', 'keyword', 'attach']\n",
      "Topic 7:\n",
      "['method', 'student', 'nucleu', 'comput', 'remov', 'networkscharacter', 'present', 'managermentassess', 'harper', 'toolsaccess']\n",
      "Topic 8:\n",
      "['student', 'method', 'learn', 'system', 'content', 'optic', 'design', 'exercis', 'assess', 'basic']\n",
      "Topic 9:\n",
      "['alain', 'criticallyproduc', 'toolsassess', 'wormald', 'mediaintegr', 'lentivector', 'beller', 'felix', 'present', 'immunocytochemistri']\n"
     ]
    }
   ],
   "source": [
    "describe_topics(topics_a_1)"
   ]
  },
  {
   "cell_type": "markdown",
   "metadata": {},
   "source": [
    "#### alpha=10"
   ]
  },
  {
   "cell_type": "code",
   "execution_count": 68,
   "metadata": {
    "collapsed": true
   },
   "outputs": [],
   "source": [
    "ldaModel_a_10 = LDA.train(corpus, k=10, seed=1, topicConcentration=1.01, docConcentration=0.1, optimizer='online')"
   ]
  },
  {
   "cell_type": "code",
   "execution_count": 69,
   "metadata": {
    "collapsed": true
   },
   "outputs": [],
   "source": [
    "topics_a_10 = ldaModel_a_10.topicsMatrix()"
   ]
  },
  {
   "cell_type": "code",
   "execution_count": 70,
   "metadata": {
    "collapsed": false
   },
   "outputs": [
    {
     "name": "stdout",
     "output_type": "stream",
     "text": [
      "Topic 0:\n",
      "['sweng', 'flow', 'learn', 'csr', 'futur', 'session', 'death', 'cours', 'respons', 'butterworth']\n",
      "Topic 1:\n",
      "['student', 'method', 'content', 'learn', 'lectur', 'model', 'mechan', 'basic', 'problem', 'energi']\n",
      "Topic 2:\n",
      "['train', 'rotat', 'method', 'splinkerett', 'electrokineticsdielectrophresi', 'student', 'electromagnet', 'today', 'date', 'distributor']\n",
      "Topic 3:\n",
      "['method', 'student', 'research', 'learn', 'keyword', 'system', 'project', 'materi', 'physic', 'halt']\n",
      "Topic 4:\n",
      "['method', 'student', 'learn', 'model', 'project', 'system', 'content', 'design', 'concept', 'basic']\n",
      "Topic 5:\n",
      "['method', 'design', 'learn', 'student', 'project', 'fsu', 'pocessesdescrib', 'gener', 'optionsperform', 'analysi']\n",
      "Topic 6:\n",
      "['analysi', 'rapid', 'learn', 'regul', 'structureselabor', 'ambient', 'student', 'method', 'system', 'collect']\n",
      "Topic 7:\n",
      "['student', 'method', 'comput', 'learn', 'content', 'cours', 'quantum', 'nucleu', 'theori', 'present']\n",
      "Topic 8:\n",
      "['student', 'method', 'learn', 'model', 'design', 'content', 'system', 'comput', 'cours', 'provid']\n",
      "Topic 9:\n",
      "['method', 'learn', 'process', 'student', 'content', 'system', 'structur', 'present', 'cours', 'model']\n"
     ]
    }
   ],
   "source": [
    "describe_topics(topics_a_10)"
   ]
  },
  {
   "cell_type": "markdown",
   "metadata": {},
   "source": [
    "#### alpha=1000"
   ]
  },
  {
   "cell_type": "code",
   "execution_count": 71,
   "metadata": {
    "collapsed": true
   },
   "outputs": [],
   "source": [
    "ldaModel_a_1000 = LDA.train(corpus, k=10, seed=1, topicConcentration=1.01, docConcentration=0.1, optimizer='online')"
   ]
  },
  {
   "cell_type": "code",
   "execution_count": 72,
   "metadata": {
    "collapsed": true
   },
   "outputs": [],
   "source": [
    "topics_a_1000 = ldaModel_a_1000.topicsMatrix()"
   ]
  },
  {
   "cell_type": "code",
   "execution_count": 73,
   "metadata": {
    "collapsed": false,
    "scrolled": true
   },
   "outputs": [
    {
     "name": "stdout",
     "output_type": "stream",
     "text": [
      "Topic 0:\n",
      "['sweng', 'csr', 'understand', 'respons', 'comput', 'death', 'futur', 'flow', 'butterworth', 'glassermanmathemat']\n",
      "Topic 1:\n",
      "['student', 'learn', 'method', 'model', 'content', 'lectur', 'group', 'polici', 'statist', 'problem']\n",
      "Topic 2:\n",
      "['train', 'rotat', 'student', 'algebra', 'splinkerett', 'electrokineticsdielectrophresi', 'electromagnet', 'today', 'date', 'method']\n",
      "Topic 3:\n",
      "['method', 'student', 'structur', 'research', 'learn', 'system', 'physic', 'design', 'analysi', 'keyword']\n",
      "Topic 4:\n",
      "['student', 'method', 'learn', 'model', 'system', 'content', 'design', 'concept', 'work', 'project']\n",
      "Topic 5:\n",
      "['method', 'student', 'learn', 'project', 'present', 'organ', 'system', 'teach', 'design', 'fsu']\n",
      "Topic 6:\n",
      "['method', 'learn', 'student', 'system', 'content', 'analysi', 'design', 'assess', 'keyword', 'mechan']\n",
      "Topic 7:\n",
      "['student', 'method', 'present', 'content', 'nucleu', 'learn', 'comput', 'project', 'remov', 'cours']\n",
      "Topic 8:\n",
      "['learn', 'student', 'method', 'model', 'design', 'system', 'content', 'process', 'basic', 'cours']\n",
      "Topic 9:\n",
      "['project', 'alain', 'learn', 'criticallyproduc', 'cours', 'toolsassess', 'method', 'prerequisit', 'wormald', 'mediaintegr']\n"
     ]
    }
   ],
   "source": [
    "describe_topics(topics_a_1000)"
   ]
  },
  {
   "cell_type": "markdown",
   "metadata": {},
   "source": [
    "# TODO How does it impact the topics?\n"
   ]
  },
  {
   "cell_type": "markdown",
   "metadata": {},
   "source": [
    "_______\n"
   ]
  },
  {
   "cell_type": "markdown",
   "metadata": {},
   "source": [
    "2. Fix k=10 and α=6, and vary β. How does it impact the topics?"
   ]
  },
  {
   "cell_type": "code",
   "execution_count": 79,
   "metadata": {
    "collapsed": true
   },
   "outputs": [],
   "source": [
    "betas = [0.1, 1, 10, 1000] "
   ]
  },
  {
   "cell_type": "markdown",
   "metadata": {},
   "source": [
    "#### beta = 0.1"
   ]
  },
  {
   "cell_type": "code",
   "execution_count": 81,
   "metadata": {
    "collapsed": false
   },
   "outputs": [],
   "source": [
    "ldaModel_b_0_1 = LDA.train(corpus, k=10, seed=1, topicConcentration=0.1, docConcentration=6.0, optimizer='online')"
   ]
  },
  {
   "cell_type": "code",
   "execution_count": 82,
   "metadata": {
    "collapsed": true
   },
   "outputs": [],
   "source": [
    "topics_b_0_1 = ldaModel_b_0_1.topicsMatrix()"
   ]
  },
  {
   "cell_type": "code",
   "execution_count": 83,
   "metadata": {
    "collapsed": false
   },
   "outputs": [
    {
     "name": "stdout",
     "output_type": "stream",
     "text": [
      "Topic 0:\n",
      "['learn', 'method', 'cours', 'student', 'model', 'basic', 'analysi', 'system', 'comput', 'flow']\n",
      "Topic 1:\n",
      "['student', 'content', 'learn', 'method', 'model', 'lectur', 'statist', 'energi', 'basic', 'design']\n",
      "Topic 2:\n",
      "['student', 'method', 'learn', 'model', 'design', 'project', 'system', 'cours', 'outcom', 'electromagnet']\n",
      "Topic 3:\n",
      "['method', 'student', 'system', 'keyword', 'design', 'learn', 'research', 'introduct', 'physic', 'expect']\n",
      "Topic 4:\n",
      "['method', 'learn', 'student', 'concept', 'transvers', 'content', 'model', 'design', 'specif', 'system']\n",
      "Topic 5:\n",
      "['method', 'student', 'learn', 'design', 'project', 'system', 'model', 'analysi', 'teach', 'present']\n",
      "Topic 6:\n",
      "['student', 'learn', 'model', 'method', 'content', 'analysi', 'system', 'chemic', 'design', 'outcom']\n",
      "Topic 7:\n",
      "['method', 'student', 'content', 'learn', 'present', 'cours', 'comput', 'end', 'system', 'exercis']\n",
      "Topic 8:\n",
      "['student', 'learn', 'method', 'comput', 'content', 'system', 'applic', 'design', 'linear', 'exercis']\n",
      "Topic 9:\n",
      "['learn', 'project', 'content', 'cours', 'student', 'model', 'method', 'present', 'prerequisit', 'theori']\n"
     ]
    }
   ],
   "source": [
    "describe_topics(topics_b_0_1)"
   ]
  },
  {
   "cell_type": "markdown",
   "metadata": {
    "collapsed": true
   },
   "source": [
    "#### beta = 1"
   ]
  },
  {
   "cell_type": "code",
   "execution_count": 84,
   "metadata": {
    "collapsed": true
   },
   "outputs": [],
   "source": [
    "ldaModel_b_1 = LDA.train(corpus, k=10, seed=1, topicConcentration=1.00, docConcentration=6.0, optimizer='online')"
   ]
  },
  {
   "cell_type": "code",
   "execution_count": 85,
   "metadata": {
    "collapsed": true
   },
   "outputs": [],
   "source": [
    "topics_b_1 = ldaModel_b_1.topicsMatrix()"
   ]
  },
  {
   "cell_type": "code",
   "execution_count": 86,
   "metadata": {
    "collapsed": false
   },
   "outputs": [
    {
     "name": "stdout",
     "output_type": "stream",
     "text": [
      "Topic 0:\n",
      "['learn', 'method', 'student', 'cours', 'model', 'basic', 'analysi', 'system', 'comput', 'flow']\n",
      "Topic 1:\n",
      "['student', 'method', 'learn', 'content', 'model', 'lectur', 'statist', 'design', 'system', 'basic']\n",
      "Topic 2:\n",
      "['student', 'method', 'learn', 'model', 'design', 'project', 'system', 'cours', 'outcom', 'electromagnet']\n",
      "Topic 3:\n",
      "['method', 'student', 'system', 'learn', 'keyword', 'design', 'research', 'model', 'introduct', 'halt']\n",
      "Topic 4:\n",
      "['method', 'learn', 'student', 'concept', 'content', 'transvers', 'model', 'design', 'system', 'specif']\n",
      "Topic 5:\n",
      "['method', 'student', 'learn', 'design', 'system', 'model', 'project', 'analysi', 'teach', 'present']\n",
      "Topic 6:\n",
      "['student', 'learn', 'method', 'model', 'content', 'analysi', 'system', 'design', 'chemic', 'assess']\n",
      "Topic 7:\n",
      "['method', 'student', 'learn', 'content', 'present', 'cours', 'comput', 'end', 'system', 'prerequisit']\n",
      "Topic 8:\n",
      "['student', 'learn', 'method', 'comput', 'content', 'system', 'design', 'applic', 'linear', 'exercis']\n",
      "Topic 9:\n",
      "['learn', 'student', 'method', 'project', 'content', 'model', 'cours', 'present', 'prerequisit', 'theori']\n"
     ]
    }
   ],
   "source": [
    "describe_topics(topics_b_1)"
   ]
  },
  {
   "cell_type": "markdown",
   "metadata": {},
   "source": [
    "#### beta = 10"
   ]
  },
  {
   "cell_type": "code",
   "execution_count": 87,
   "metadata": {
    "collapsed": true
   },
   "outputs": [],
   "source": [
    "ldaModel_b_10 = LDA.train(corpus, k=10, seed=1, topicConcentration=10.0, docConcentration=6.0, optimizer='online')"
   ]
  },
  {
   "cell_type": "code",
   "execution_count": 88,
   "metadata": {
    "collapsed": true
   },
   "outputs": [],
   "source": [
    "topics_b_10 = ldaModel_b_10.topicsMatrix()"
   ]
  },
  {
   "cell_type": "code",
   "execution_count": 89,
   "metadata": {
    "collapsed": false
   },
   "outputs": [
    {
     "name": "stdout",
     "output_type": "stream",
     "text": [
      "Topic 0:\n",
      "['method', 'learn', 'student', 'model', 'cours', 'basic', 'system', 'analysi', 'comput', 'flow']\n",
      "Topic 1:\n",
      "['student', 'method', 'learn', 'content', 'model', 'lectur', 'system', 'design', 'statist', 'disadvantg']\n",
      "Topic 2:\n",
      "['student', 'method', 'learn', 'model', 'design', 'system', 'project', 'content', 'cours', 'splinkerett']\n",
      "Topic 3:\n",
      "['method', 'student', 'learn', 'system', 'design', 'keyword', 'model', 'research', 'content', 'halt']\n",
      "Topic 4:\n",
      "['method', 'learn', 'student', 'model', 'content', 'concept', 'system', 'design', 'transvers', 'specif']\n",
      "Topic 5:\n",
      "['method', 'student', 'learn', 'design', 'model', 'system', 'project', 'analysi', 'present', 'prerequisit']\n",
      "Topic 6:\n",
      "['student', 'method', 'learn', 'model', 'content', 'system', 'analysi', 'design', 'chemic', 'assess']\n",
      "Topic 7:\n",
      "['method', 'student', 'learn', 'content', 'present', 'cours', 'system', 'comput', 'model', 'end']\n",
      "Topic 8:\n",
      "['student', 'learn', 'method', 'content', 'system', 'comput', 'design', 'model', 'applic', 'exercis']\n",
      "Topic 9:\n",
      "['method', 'student', 'learn', 'project', 'model', 'content', 'cours', 'present', 'system', 'prerequisit']\n"
     ]
    }
   ],
   "source": [
    "describe_topics(topics_b_10)"
   ]
  },
  {
   "cell_type": "markdown",
   "metadata": {},
   "source": [
    "#### beta = 1000"
   ]
  },
  {
   "cell_type": "code",
   "execution_count": 90,
   "metadata": {
    "collapsed": true
   },
   "outputs": [],
   "source": [
    "ldaModel_b_1000 = LDA.train(corpus, k=10, seed=1, topicConcentration=1000.0, docConcentration=6.0, optimizer='online')"
   ]
  },
  {
   "cell_type": "code",
   "execution_count": 91,
   "metadata": {
    "collapsed": true
   },
   "outputs": [],
   "source": [
    "topics_b_1000 = ldaModel_b_1000.topicsMatrix()"
   ]
  },
  {
   "cell_type": "code",
   "execution_count": 92,
   "metadata": {
    "collapsed": false,
    "scrolled": true
   },
   "outputs": [
    {
     "name": "stdout",
     "output_type": "stream",
     "text": [
      "Topic 0:\n",
      "['method', 'learn', 'student', 'model', 'cours', 'system', 'basic', 'analysi', 'comput', 'flow']\n",
      "Topic 1:\n",
      "['student', 'method', 'learn', 'content', 'model', 'lectur', 'system', 'design', 'statist', 'disadvantg']\n",
      "Topic 2:\n",
      "['student', 'method', 'learn', 'model', 'design', 'system', 'content', 'project', 'cours', 'splinkerett']\n",
      "Topic 3:\n",
      "['method', 'student', 'learn', 'system', 'design', 'model', 'keyword', 'content', 'research', 'halt']\n",
      "Topic 4:\n",
      "['method', 'learn', 'student', 'model', 'content', 'system', 'concept', 'design', 'transvers', 'specif']\n",
      "Topic 5:\n",
      "['method', 'student', 'learn', 'design', 'model', 'system', 'project', 'analysi', 'present', 'prerequisit']\n",
      "Topic 6:\n",
      "['student', 'method', 'learn', 'model', 'content', 'system', 'analysi', 'design', 'chemic', 'assess']\n",
      "Topic 7:\n",
      "['method', 'student', 'learn', 'content', 'system', 'present', 'cours', 'comput', 'model', 'end']\n",
      "Topic 8:\n",
      "['student', 'learn', 'method', 'content', 'system', 'comput', 'design', 'model', 'applic', 'exercis']\n",
      "Topic 9:\n",
      "['method', 'student', 'learn', 'model', 'content', 'project', 'cours', 'present', 'system', 'prerequisit']\n"
     ]
    }
   ],
   "source": [
    "describe_topics(topics_b_1000)"
   ]
  },
  {
   "cell_type": "markdown",
   "metadata": {},
   "source": [
    "## Exercise 4.10: EPFL's taught subjects"
   ]
  },
  {
   "cell_type": "markdown",
   "metadata": {},
   "source": [
    "For the symmetric distribution, a high alpha-value means that each document is likely to contain a mixture of most of the topics, and not any single topic specifically. A low alpha value puts less such constraints on documents and means that it is more likely that a document may contain mixture of just a few, or even only one, of the topics. Likewise, a high beta-value means that each topic is likely to contain a mixture of most of the words, and not any word specifically, while a low value means that a topic may contain a mixture of just a few of the words."
   ]
  },
  {
   "cell_type": "code",
   "execution_count": 95,
   "metadata": {
    "collapsed": true
   },
   "outputs": [],
   "source": [
    "# Number of sections at EPFL\n",
    "potential_k = len(['Architecture, Civil and Environmental Engineering ENAC',\n",
    "'Basic Sciences SB',\n",
    "'Engineering STI',\n",
    "'Computer and Communication Sciences IC',\n",
    "'Life Sciences SV',\n",
    "'Management of Technology CDM',\n",
    "'College of Humanities CDH'])"
   ]
  },
  {
   "cell_type": "code",
   "execution_count": 102,
   "metadata": {
    "collapsed": false
   },
   "outputs": [
    {
     "data": {
      "text/plain": [
       "7"
      ]
     },
     "execution_count": 102,
     "metadata": {},
     "output_type": "execute_result"
    }
   ],
   "source": [
    "potential_alpha = 0.5\n",
    "potential_beta = 15.0\n",
    "potential_k"
   ]
  },
  {
   "cell_type": "code",
   "execution_count": 103,
   "metadata": {
    "collapsed": true
   },
   "outputs": [],
   "source": [
    "ldaModel_EPFL = LDA.train(corpus,\n",
    "                          k=potential_k,\n",
    "                          seed=1,\n",
    "                          docConcentration=potential_alpha,\n",
    "                          topicConcentration=potential_beta,\n",
    "                          optimizer='online')"
   ]
  },
  {
   "cell_type": "code",
   "execution_count": 104,
   "metadata": {
    "collapsed": true
   },
   "outputs": [],
   "source": [
    "topics_EPFL = ldaModel_EPFL.topicsMatrix()"
   ]
  },
  {
   "cell_type": "code",
   "execution_count": 105,
   "metadata": {
    "collapsed": false
   },
   "outputs": [
    {
     "name": "stdout",
     "output_type": "stream",
     "text": [
      "Topic 0:\n",
      "['method', 'student', 'learn', 'model', 'cours', 'system', 'basic', 'analysi', 'content', 'project']\n",
      "Topic 1:\n",
      "['student', 'method', 'learn', 'content', 'model', 'system', 'design', 'lectur', 'basic', 'outcom']\n",
      "Topic 2:\n",
      "['student', 'method', 'learn', 'model', 'design', 'system', 'content', 'project', 'cours', 'outcom']\n",
      "Topic 3:\n",
      "['method', 'student', 'learn', 'system', 'design', 'model', 'content', 'keyword', 'research', 'assess']\n",
      "Topic 4:\n",
      "['method', 'learn', 'student', 'model', 'content', 'system', 'design', 'concept', 'project', 'transvers']\n",
      "Topic 5:\n",
      "['method', 'student', 'learn', 'design', 'model', 'system', 'project', 'analysi', 'present', 'prerequisit']\n",
      "Topic 6:\n",
      "['student', 'method', 'learn', 'model', 'content', 'system', 'design', 'analysi', 'assess', 'cours']\n"
     ]
    }
   ],
   "source": [
    "describe_topics(topics_EPFL, potential_k)"
   ]
  },
  {
   "cell_type": "markdown",
   "metadata": {},
   "source": [
    "## Exercise 4.11: Wikipedia structure"
   ]
  },
  {
   "cell_type": "code",
   "execution_count": null,
   "metadata": {
    "collapsed": true
   },
   "outputs": [],
   "source": []
  }
 ],
 "metadata": {
  "anaconda-cloud": {},
  "kernelspec": {
   "display_name": "Python 3",
   "language": "python",
   "name": "python3"
  },
  "language_info": {
   "codemirror_mode": {
    "name": "ipython",
    "version": 3
   },
   "file_extension": ".py",
   "mimetype": "text/x-python",
   "name": "python",
   "nbconvert_exporter": "python",
   "pygments_lexer": "ipython3",
   "version": "3.5.2"
  }
 },
 "nbformat": 4,
 "nbformat_minor": 2
}
