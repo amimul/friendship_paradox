{
 "cells": [
  {
   "cell_type": "markdown",
   "metadata": {},
   "source": [
    "# Text 3: Latent Dirichlet allocation\n",
    "**Internet Analytics - Lab 4**\n",
    "\n",
    "---\n",
    "\n",
    "**Group:** *Y*\n",
    "\n",
    "**Names:**\n",
    "\n",
    "* *Kristian Aurlien*\n",
    "* *Mateusz Paluchowski*\n",
    "\n",
    "\n",
    "---\n",
    "\n",
    "#### Instructions\n",
    "\n",
    "*This is a template for part 3 of the lab. Clearly write your answers, comments and interpretations in Markodown cells. Don't forget that you can add $\\LaTeX$ equations in these cells. Feel free to add or remove any cell.*\n",
    "\n",
    "*Please properly comment your code. Code readability will be considered for grading. To avoid long cells of codes in the notebook, you can also embed long python functions and classes in a separate module. Don’t forget to hand in your module if that is the case. In multiple exercises, you are required to come up with your own method to solve various problems. Be creative and clearly motivate and explain your methods. Creativity and clarity will be considered for grading.*"
   ]
  },
  {
   "cell_type": "code",
   "execution_count": 1,
   "metadata": {
    "collapsed": false
   },
   "outputs": [],
   "source": [
    "import pickle\n",
    "import pandas as pd\n",
    "import numpy as np\n",
    "from utils import load_json, load_pkl\n",
    "\n",
    "from pyspark.mllib.clustering import LDA, LDAModel\n",
    "from pyspark.mllib.linalg import Vectors"
   ]
  },
  {
   "cell_type": "code",
   "execution_count": 2,
   "metadata": {
    "collapsed": false
   },
   "outputs": [
    {
     "data": {
      "text/plain": [
       "<pyspark.context.SparkContext at 0x7f55781f6240>"
      ]
     },
     "execution_count": 2,
     "metadata": {},
     "output_type": "execute_result"
    }
   ],
   "source": [
    "sc"
   ]
  },
  {
   "cell_type": "markdown",
   "metadata": {},
   "source": [
    "## Exercise 4.8: Topics extraction"
   ]
  },
  {
   "cell_type": "markdown",
   "metadata": {
    "collapsed": true
   },
   "source": [
    "Using your pre-processed courses dataset, extract topics using LDA.\n",
    "    1. Print k = 10 topics extracted using LDA and give them labels. \n",
    "    2. How does it compare with LSI?\n",
    "You can use the default values for all parameters."
   ]
  },
  {
   "cell_type": "code",
   "execution_count": 3,
   "metadata": {
    "collapsed": false
   },
   "outputs": [],
   "source": [
    "# courses = load_pkl('courses.pkl')\n",
    "tf_matrix = load_pkl('tf_matrix.pkl')\n",
    "terms = load_pkl('terms.pkl')"
   ]
  },
  {
   "cell_type": "code",
   "execution_count": 4,
   "metadata": {
    "collapsed": true
   },
   "outputs": [],
   "source": [
    "#We want word count vectors not colums thus we need to transpose our TF_matrix \n",
    "tf_matrix_T = tf_matrix.T"
   ]
  },
  {
   "cell_type": "code",
   "execution_count": 5,
   "metadata": {
    "collapsed": false
   },
   "outputs": [
    {
     "data": {
      "text/plain": [
       "(854, 10875)"
      ]
     },
     "execution_count": 5,
     "metadata": {},
     "output_type": "execute_result"
    }
   ],
   "source": [
    "tf_matrix_T.shape"
   ]
  },
  {
   "cell_type": "code",
   "execution_count": 6,
   "metadata": {
    "collapsed": false
   },
   "outputs": [],
   "source": [
    "#Pandas trick to format the data as in pyspark docs example\n",
    "df = pd.DataFrame(data=tf_matrix_T)\n",
    "df.to_csv('tf_matrix_T.csv', sep=' ', header=False, index=False)"
   ]
  },
  {
   "cell_type": "code",
   "execution_count": 7,
   "metadata": {
    "collapsed": false
   },
   "outputs": [],
   "source": [
    "data = sc.textFile(\"tf_matrix_T.csv\")\n",
    "parsedData = data.map(lambda line: Vectors.dense([float(x) for x in line.strip().split(' ')]))\n",
    "\n",
    "# Index documents with unique IDs`\n",
    "corpus = parsedData.zipWithIndex().map(lambda x: [x[1], x[0]]).cache()"
   ]
  },
  {
   "cell_type": "code",
   "execution_count": 8,
   "metadata": {
    "collapsed": true
   },
   "outputs": [],
   "source": [
    "ldaModel = LDA.train(corpus, k=10, optimizer='online')"
   ]
  },
  {
   "cell_type": "code",
   "execution_count": 9,
   "metadata": {
    "collapsed": false
   },
   "outputs": [],
   "source": [
    "# Learn topics\n",
    "topics_baseline = ldaModel.topicsMatrix()"
   ]
  },
  {
   "cell_type": "code",
   "execution_count": 10,
   "metadata": {
    "collapsed": false
   },
   "outputs": [],
   "source": [
    "# Print top words describing topics\n",
    "def describe_topics(topics, no_of_topics=10, no_of_words=10):\n",
    "    for topic in range(no_of_topics):\n",
    "        print(\"Topic \" + str(topic) + \":\")\n",
    "        top_words_idx = np.argsort(topics[:,topic])[::-1][0:no_of_words]\n",
    "        words = []\n",
    "        for word_id in top_words_idx:\n",
    "            words.append(terms[word_id])\n",
    "        print(words)"
   ]
  },
  {
   "cell_type": "code",
   "execution_count": 11,
   "metadata": {
    "collapsed": false
   },
   "outputs": [
    {
     "name": "stdout",
     "output_type": "stream",
     "text": [
      "Topic 0:\n",
      "['student', 'learn', 'content', 'method', 'enrol', 'imag', 'administr', 'analysi', 'system', 'lectur']\n",
      "Topic 1:\n",
      "['train', 'premium', 'materialdefinit', 'parabol', 'ductil', 'pet', 'bisboron', 'rotat', 'innov', 'door']\n",
      "Topic 2:\n",
      "['semest', 'show', 'depth', 'literaci', 'rough', 'kill', 'laboratori', 'franc', 'signalsrecogn', 'geostatist']\n",
      "Topic 3:\n",
      "['tpc', 'justif', 'student', 'physic', 'principl', 'nano', 'atomsdescrib', 'learn', 'photographi', 'ms']\n",
      "Topic 4:\n",
      "['student', 'learn', 'method', 'system', 'model', 'content', 'basic', 'design', 'assess', 'exercis']\n",
      "Topic 5:\n",
      "['student', 'symmetri', 'method', 'system', 'wastewaterpropos', 'concis', 'canton', 'naviunderstand', 'formul', 'calderon']\n",
      "Topic 6:\n",
      "['dq', 'ide', 'blockchain', 'amplifierfor', 'matplotlib', 'mapsth', 'erupt', 'incos', 'cellulair', 'functionder']\n",
      "Topic 7:\n",
      "['elastoplast', 'networksappli', 'medium', 'ilp', 'independ', 'investigationsappli', 'endow', 'devicesmass', 'codeunderstand', 'matroid']\n",
      "Topic 8:\n",
      "['method', 'exampl', 'wellmak', 'hadoop', 'learn', 'marco', 'flow', 'deembed', 'process', 'shutter']\n",
      "Topic 9:\n",
      "['student', 'method', 'learn', 'content', 'model', 'system', 'assess', 'project', 'lectur', 'present']\n"
     ]
    }
   ],
   "source": [
    "describe_topics(topics_baseline)"
   ]
  },
  {
   "cell_type": "markdown",
   "metadata": {},
   "source": []
  },
  {
   "cell_type": "markdown",
   "metadata": {},
   "source": [
    "## Exercise 4.9: Dirichlet hyperparameters"
   ]
  },
  {
   "cell_type": "markdown",
   "metadata": {},
   "source": [
    "1. Fix k = 10 and β = 1.01, and vary α. How does it impact the topics?"
   ]
  },
  {
   "cell_type": "code",
   "execution_count": 12,
   "metadata": {
    "collapsed": true
   },
   "outputs": [],
   "source": [
    "# LDA docConcentration must be > 1.0 (or -1 for auto) for EM \n",
    "alphas = [0.1, 1, 10, 1000] "
   ]
  },
  {
   "cell_type": "markdown",
   "metadata": {},
   "source": [
    "#### alpha=0.1"
   ]
  },
  {
   "cell_type": "code",
   "execution_count": 13,
   "metadata": {
    "collapsed": true
   },
   "outputs": [],
   "source": [
    "ldaModel_a_0_1 = LDA.train(corpus, k=10, seed=1, topicConcentration=1.01, docConcentration=0.1, optimizer='online')"
   ]
  },
  {
   "cell_type": "code",
   "execution_count": 14,
   "metadata": {
    "collapsed": true
   },
   "outputs": [],
   "source": [
    "topics_a_0_1 = ldaModel_a_0_1.topicsMatrix()"
   ]
  },
  {
   "cell_type": "code",
   "execution_count": 15,
   "metadata": {
    "collapsed": false
   },
   "outputs": [
    {
     "name": "stdout",
     "output_type": "stream",
     "text": [
      "Topic 0:\n",
      "['method', 'student', 'learn', 'basic', 'analysi', 'cours', 'model', 'imag', 'understand', 'theori']\n",
      "Topic 1:\n",
      "['student', 'method', 'learn', 'process', 'content', 'energi', 'disadvantg', 'statist', 'model', 'lectur']\n",
      "Topic 2:\n",
      "['student', 'method', 'learn', 'model', 'splinkerett', 'electrokineticsdielectrophresi', 'design', 'today', 'electromagnet', 'date']\n",
      "Topic 3:\n",
      "['fondament', 'chemic', 'provid', 'question', 'method', 'drug', 'compound', 'research', 'halt', 'credibl']\n",
      "Topic 4:\n",
      "['student', 'method', 'learn', 'model', 'content', 'system', 'design', 'project', 'assess', 'concept']\n",
      "Topic 5:\n",
      "['rotat', 'train', 'method', 'fsu', 'pocessesdescrib', 'optionsperform', 'disc', 'horizont', 'gener', 'galerkin']\n",
      "Topic 6:\n",
      "['student', 'method', 'learn', 'content', 'model', 'microwav', 'system', 'rapid', 'basic', 'chemic']\n",
      "Topic 7:\n",
      "['nucleu', 'remov', 'networkscharacter', 'gel', 'managermentassess', 'harper', 'toolsaccess', 'vital', 'bertseka', 'carri']\n",
      "Topic 8:\n",
      "['method', 'student', 'learn', 'design', 'system', 'model', 'content', 'comput', 'analysi', 'assess']\n",
      "Topic 9:\n",
      "['learn', 'alain', 'prerequisit', 'student', 'criticallyproduc', 'cours', 'content', 'toolsassess', 'project', 'research']\n"
     ]
    }
   ],
   "source": [
    "describe_topics(topics_a_0_1)"
   ]
  },
  {
   "cell_type": "markdown",
   "metadata": {
    "collapsed": true
   },
   "source": [
    "#### alpha=1"
   ]
  },
  {
   "cell_type": "code",
   "execution_count": 16,
   "metadata": {
    "collapsed": true
   },
   "outputs": [],
   "source": [
    "ldaModel_a_1 = LDA.train(corpus, k=10, seed=1, topicConcentration=1.01, docConcentration=0.1, optimizer='online')"
   ]
  },
  {
   "cell_type": "code",
   "execution_count": 17,
   "metadata": {
    "collapsed": true
   },
   "outputs": [],
   "source": [
    "topics_a_1 = ldaModel_a_1.topicsMatrix()"
   ]
  },
  {
   "cell_type": "code",
   "execution_count": 18,
   "metadata": {
    "collapsed": false
   },
   "outputs": [
    {
     "name": "stdout",
     "output_type": "stream",
     "text": [
      "Topic 0:\n",
      "['learn', 'method', 'student', 'flow', 'cours', 'understand', 'sweng', 'session', 'csr', 'respons']\n",
      "Topic 1:\n",
      "['disadvantg', 'statist', 'begin', 'lot', 'usual', 'thermogravimetr', 'affect', 'magnet', 'nco', 'experimentdescrib']\n",
      "Topic 2:\n",
      "['train', 'rotat', 'student', 'method', 'fondament', 'splinkerett', 'electrokineticsdielectrophresi', 'algebra', 'learn', 'critic']\n",
      "Topic 3:\n",
      "['method', 'student', 'design', 'research', 'halt', 'credibl', 'formalis', 'physicsidentifi', 'dbmsdesign', 'systemsconstruct']\n",
      "Topic 4:\n",
      "['method', 'student', 'learn', 'model', 'design', 'content', 'system', 'project', 'assess', 'analysi']\n",
      "Topic 5:\n",
      "['project', 'semest', 'fsu', 'pocessesdescrib', 'method', 'student', 'optionsperform', 'disc', 'horizont', 'geomechan']\n",
      "Topic 6:\n",
      "['student', 'learn', 'method', 'rapid', 'model', 'physic', 'structureselabor', 'chemic', 'content', 'ambient']\n",
      "Topic 7:\n",
      "['nucleu', 'remov', 'networkscharacter', 'managermentassess', 'harper', 'toolsaccess', 'gel', 'vital', 'method', 'bertseka']\n",
      "Topic 8:\n",
      "['method', 'student', 'learn', 'system', 'content', 'comput', 'linear', 'model', 'process', 'keyword']\n",
      "Topic 9:\n",
      "['alain', 'criticallyproduc', 'toolsassess', 'project', 'student', 'wormald', 'mediaintegr', 'lentivector', 'beller', 'felix']\n"
     ]
    }
   ],
   "source": [
    "describe_topics(topics_a_1)"
   ]
  },
  {
   "cell_type": "markdown",
   "metadata": {},
   "source": [
    "#### alpha=10"
   ]
  },
  {
   "cell_type": "code",
   "execution_count": 19,
   "metadata": {
    "collapsed": true
   },
   "outputs": [],
   "source": [
    "ldaModel_a_10 = LDA.train(corpus, k=10, seed=1, topicConcentration=1.01, docConcentration=0.1, optimizer='online')"
   ]
  },
  {
   "cell_type": "code",
   "execution_count": 20,
   "metadata": {
    "collapsed": true
   },
   "outputs": [],
   "source": [
    "topics_a_10 = ldaModel_a_10.topicsMatrix()"
   ]
  },
  {
   "cell_type": "code",
   "execution_count": 21,
   "metadata": {
    "collapsed": false
   },
   "outputs": [
    {
     "name": "stdout",
     "output_type": "stream",
     "text": [
      "Topic 0:\n",
      "['learn', 'method', 'model', 'cours', 'flow', 'principl', 'understand', 'basic', 'session', 'sweng']\n",
      "Topic 1:\n",
      "['disadvantg', 'lot', 'begin', 'usual', 'thermogravimetr', 'affect', 'nco', 'hexa', 'experimentdescrib', 'polici']\n",
      "Topic 2:\n",
      "['student', 'method', 'splinkerett', 'electrokineticsdielectrophresi', 'today', 'date', 'electromagnet', 'distributor', 'webster', 'econom']\n",
      "Topic 3:\n",
      "['method', 'rotat', 'train', 'student', 'halt', 'system', 'keyword', 'credibl', 'learn', 'formalis']\n",
      "Topic 4:\n",
      "['student', 'method', 'learn', 'design', 'model', 'system', 'content', 'assess', 'project', 'basic']\n",
      "Topic 5:\n",
      "['method', 'fsu', 'pocessesdescrib', 'design', 'optionsperform', 'disc', 'horizont', 'mimick', 'galerkin', 'monoclon']\n",
      "Topic 6:\n",
      "['chemic', 'compound', 'drug', 'question', 'fondament', 'learn', 'provid', 'method', 'student', 'model']\n",
      "Topic 7:\n",
      "['nucleu', 'method', 'remov', 'networkscharacter', 'managermentassess', 'harper', 'toolsaccess', 'algebra', 'gel', 'vital']\n",
      "Topic 8:\n",
      "['student', 'method', 'learn', 'model', 'content', 'system', 'linear', 'comput', 'project', 'design']\n",
      "Topic 9:\n",
      "['learn', 'cours', 'alain', 'criticallyproduc', 'project', 'lentivector', 'toolsassess', 'interact', 'wormald', 'mediaintegr']\n"
     ]
    }
   ],
   "source": [
    "describe_topics(topics_a_10)"
   ]
  },
  {
   "cell_type": "markdown",
   "metadata": {},
   "source": [
    "#### alpha=1000"
   ]
  },
  {
   "cell_type": "code",
   "execution_count": 22,
   "metadata": {
    "collapsed": true
   },
   "outputs": [],
   "source": [
    "ldaModel_a_1000 = LDA.train(corpus, k=10, seed=1, topicConcentration=1.01, docConcentration=0.1, optimizer='online')"
   ]
  },
  {
   "cell_type": "code",
   "execution_count": 23,
   "metadata": {
    "collapsed": true
   },
   "outputs": [],
   "source": [
    "topics_a_1000 = ldaModel_a_1000.topicsMatrix()"
   ]
  },
  {
   "cell_type": "code",
   "execution_count": 24,
   "metadata": {
    "collapsed": false,
    "scrolled": true
   },
   "outputs": [
    {
     "name": "stdout",
     "output_type": "stream",
     "text": [
      "Topic 0:\n",
      "['learn', 'student', 'project', 'flow', 'basic', 'understand', 'system', 'sweng', 'cours', 'method']\n",
      "Topic 1:\n",
      "['student', 'method', 'learn', 'disadvantg', 'content', 'lectur', 'lot', 'begin', 'statist', 'usual']\n",
      "Topic 2:\n",
      "['student', 'method', 'splinkerett', 'algebra', 'electrokineticsdielectrophresi', 'electromagnet', 'learn', 'date', 'critic', 'today']\n",
      "Topic 3:\n",
      "['method', 'student', 'halt', 'system', 'credibl', 'keyword', 'formalis', 'physicsidentifi', 'dbmsdesign', 'law']\n",
      "Topic 4:\n",
      "['method', 'learn', 'student', 'system', 'design', 'content', 'model', 'concept', 'project', 'assess']\n",
      "Topic 5:\n",
      "['rotat', 'train', 'method', 'student', 'learn', 'fsu', 'pocessesdescrib', 'gener', 'organ', 'design']\n",
      "Topic 6:\n",
      "['student', 'learn', 'method', 'model', 'content', 'system', 'process', 'design', 'assess', 'cours']\n",
      "Topic 7:\n",
      "['method', 'student', 'learn', 'nucleu', 'present', 'cours', 'comput', 'content', 'remov', 'networkscharacter']\n",
      "Topic 8:\n",
      "['learn', 'student', 'method', 'system', 'optic', 'content', 'provid', 'design', 'model', 'question']\n",
      "Topic 9:\n",
      "['student', 'method', 'project', 'learn', 'research', 'model', 'content', 'present', 'cours', 'alain']\n"
     ]
    }
   ],
   "source": [
    "describe_topics(topics_a_1000)"
   ]
  },
  {
   "cell_type": "markdown",
   "metadata": {},
   "source": [
    "# TODO How does it impact the topics?\n"
   ]
  },
  {
   "cell_type": "markdown",
   "metadata": {},
   "source": [
    "_______\n"
   ]
  },
  {
   "cell_type": "markdown",
   "metadata": {},
   "source": [
    "2. Fix k=10 and α=6, and vary β. How does it impact the topics?"
   ]
  },
  {
   "cell_type": "code",
   "execution_count": 25,
   "metadata": {
    "collapsed": true
   },
   "outputs": [],
   "source": [
    "betas = [0.1, 1, 10, 1000] "
   ]
  },
  {
   "cell_type": "markdown",
   "metadata": {},
   "source": [
    "#### beta = 0.1"
   ]
  },
  {
   "cell_type": "code",
   "execution_count": 26,
   "metadata": {
    "collapsed": false
   },
   "outputs": [],
   "source": [
    "ldaModel_b_0_1 = LDA.train(corpus, k=10, seed=1, topicConcentration=0.1, docConcentration=6.0, optimizer='online')"
   ]
  },
  {
   "cell_type": "code",
   "execution_count": 27,
   "metadata": {
    "collapsed": true
   },
   "outputs": [],
   "source": [
    "topics_b_0_1 = ldaModel_b_0_1.topicsMatrix()"
   ]
  },
  {
   "cell_type": "code",
   "execution_count": 28,
   "metadata": {
    "collapsed": false
   },
   "outputs": [
    {
     "name": "stdout",
     "output_type": "stream",
     "text": [
      "Topic 0:\n",
      "['learn', 'method', 'cours', 'student', 'model', 'basic', 'analysi', 'system', 'comput', 'flow']\n",
      "Topic 1:\n",
      "['student', 'content', 'learn', 'method', 'model', 'lectur', 'statist', 'energi', 'basic', 'design']\n",
      "Topic 2:\n",
      "['student', 'method', 'learn', 'model', 'design', 'project', 'system', 'cours', 'outcom', 'electromagnet']\n",
      "Topic 3:\n",
      "['method', 'student', 'system', 'keyword', 'design', 'learn', 'research', 'introduct', 'physic', 'expect']\n",
      "Topic 4:\n",
      "['method', 'learn', 'student', 'concept', 'transvers', 'content', 'model', 'design', 'specif', 'system']\n",
      "Topic 5:\n",
      "['method', 'student', 'learn', 'design', 'project', 'system', 'model', 'analysi', 'teach', 'present']\n",
      "Topic 6:\n",
      "['student', 'learn', 'model', 'method', 'content', 'analysi', 'system', 'chemic', 'design', 'outcom']\n",
      "Topic 7:\n",
      "['method', 'student', 'content', 'learn', 'present', 'cours', 'comput', 'end', 'system', 'exercis']\n",
      "Topic 8:\n",
      "['student', 'learn', 'method', 'comput', 'content', 'system', 'applic', 'design', 'linear', 'exercis']\n",
      "Topic 9:\n",
      "['learn', 'project', 'content', 'cours', 'student', 'model', 'method', 'present', 'prerequisit', 'theori']\n"
     ]
    }
   ],
   "source": [
    "describe_topics(topics_b_0_1)"
   ]
  },
  {
   "cell_type": "markdown",
   "metadata": {
    "collapsed": true
   },
   "source": [
    "#### beta = 1"
   ]
  },
  {
   "cell_type": "code",
   "execution_count": 29,
   "metadata": {
    "collapsed": true
   },
   "outputs": [],
   "source": [
    "ldaModel_b_1 = LDA.train(corpus, k=10, seed=1, topicConcentration=1.00, docConcentration=6.0, optimizer='online')"
   ]
  },
  {
   "cell_type": "code",
   "execution_count": 30,
   "metadata": {
    "collapsed": true
   },
   "outputs": [],
   "source": [
    "topics_b_1 = ldaModel_b_1.topicsMatrix()"
   ]
  },
  {
   "cell_type": "code",
   "execution_count": 31,
   "metadata": {
    "collapsed": false
   },
   "outputs": [
    {
     "name": "stdout",
     "output_type": "stream",
     "text": [
      "Topic 0:\n",
      "['learn', 'method', 'student', 'cours', 'model', 'basic', 'analysi', 'system', 'comput', 'flow']\n",
      "Topic 1:\n",
      "['student', 'method', 'learn', 'content', 'model', 'lectur', 'statist', 'design', 'system', 'basic']\n",
      "Topic 2:\n",
      "['student', 'method', 'learn', 'model', 'design', 'project', 'system', 'cours', 'outcom', 'electromagnet']\n",
      "Topic 3:\n",
      "['method', 'student', 'system', 'learn', 'keyword', 'design', 'research', 'model', 'introduct', 'halt']\n",
      "Topic 4:\n",
      "['method', 'learn', 'student', 'concept', 'content', 'transvers', 'model', 'design', 'system', 'specif']\n",
      "Topic 5:\n",
      "['method', 'student', 'learn', 'design', 'system', 'model', 'project', 'analysi', 'teach', 'present']\n",
      "Topic 6:\n",
      "['student', 'learn', 'method', 'model', 'content', 'analysi', 'system', 'design', 'chemic', 'assess']\n",
      "Topic 7:\n",
      "['method', 'student', 'learn', 'content', 'present', 'cours', 'comput', 'end', 'system', 'prerequisit']\n",
      "Topic 8:\n",
      "['student', 'learn', 'method', 'comput', 'content', 'system', 'design', 'applic', 'linear', 'exercis']\n",
      "Topic 9:\n",
      "['learn', 'student', 'method', 'project', 'content', 'model', 'cours', 'present', 'prerequisit', 'theori']\n"
     ]
    }
   ],
   "source": [
    "describe_topics(topics_b_1)"
   ]
  },
  {
   "cell_type": "markdown",
   "metadata": {},
   "source": [
    "#### beta = 10"
   ]
  },
  {
   "cell_type": "code",
   "execution_count": 32,
   "metadata": {
    "collapsed": true
   },
   "outputs": [],
   "source": [
    "ldaModel_b_10 = LDA.train(corpus, k=10, seed=1, topicConcentration=10.0, docConcentration=6.0, optimizer='online')"
   ]
  },
  {
   "cell_type": "code",
   "execution_count": 33,
   "metadata": {
    "collapsed": true
   },
   "outputs": [],
   "source": [
    "topics_b_10 = ldaModel_b_10.topicsMatrix()"
   ]
  },
  {
   "cell_type": "code",
   "execution_count": 34,
   "metadata": {
    "collapsed": false
   },
   "outputs": [
    {
     "name": "stdout",
     "output_type": "stream",
     "text": [
      "Topic 0:\n",
      "['method', 'learn', 'student', 'model', 'cours', 'basic', 'system', 'analysi', 'comput', 'flow']\n",
      "Topic 1:\n",
      "['student', 'method', 'learn', 'content', 'model', 'lectur', 'system', 'design', 'statist', 'disadvantg']\n",
      "Topic 2:\n",
      "['student', 'method', 'learn', 'model', 'design', 'system', 'project', 'content', 'cours', 'splinkerett']\n",
      "Topic 3:\n",
      "['method', 'student', 'learn', 'system', 'design', 'keyword', 'model', 'research', 'content', 'halt']\n",
      "Topic 4:\n",
      "['method', 'learn', 'student', 'model', 'content', 'concept', 'system', 'design', 'transvers', 'specif']\n",
      "Topic 5:\n",
      "['method', 'student', 'learn', 'design', 'model', 'system', 'project', 'analysi', 'present', 'prerequisit']\n",
      "Topic 6:\n",
      "['student', 'method', 'learn', 'model', 'content', 'system', 'analysi', 'design', 'chemic', 'assess']\n",
      "Topic 7:\n",
      "['method', 'student', 'learn', 'content', 'present', 'cours', 'system', 'comput', 'model', 'end']\n",
      "Topic 8:\n",
      "['student', 'learn', 'method', 'content', 'system', 'comput', 'design', 'model', 'applic', 'exercis']\n",
      "Topic 9:\n",
      "['method', 'student', 'learn', 'project', 'model', 'content', 'cours', 'present', 'system', 'prerequisit']\n"
     ]
    }
   ],
   "source": [
    "describe_topics(topics_b_10)"
   ]
  },
  {
   "cell_type": "markdown",
   "metadata": {},
   "source": [
    "#### beta = 1000"
   ]
  },
  {
   "cell_type": "code",
   "execution_count": 35,
   "metadata": {
    "collapsed": true
   },
   "outputs": [],
   "source": [
    "ldaModel_b_1000 = LDA.train(corpus, k=10, seed=1, topicConcentration=1000.0, docConcentration=6.0, optimizer='online')"
   ]
  },
  {
   "cell_type": "code",
   "execution_count": 36,
   "metadata": {
    "collapsed": true
   },
   "outputs": [],
   "source": [
    "topics_b_1000 = ldaModel_b_1000.topicsMatrix()"
   ]
  },
  {
   "cell_type": "code",
   "execution_count": 37,
   "metadata": {
    "collapsed": false,
    "scrolled": true
   },
   "outputs": [
    {
     "name": "stdout",
     "output_type": "stream",
     "text": [
      "Topic 0:\n",
      "['method', 'learn', 'student', 'model', 'cours', 'system', 'basic', 'analysi', 'comput', 'flow']\n",
      "Topic 1:\n",
      "['student', 'method', 'learn', 'content', 'model', 'lectur', 'system', 'design', 'statist', 'disadvantg']\n",
      "Topic 2:\n",
      "['student', 'method', 'learn', 'model', 'design', 'system', 'content', 'project', 'cours', 'splinkerett']\n",
      "Topic 3:\n",
      "['method', 'student', 'learn', 'system', 'design', 'model', 'keyword', 'content', 'research', 'halt']\n",
      "Topic 4:\n",
      "['method', 'learn', 'student', 'model', 'content', 'system', 'concept', 'design', 'transvers', 'specif']\n",
      "Topic 5:\n",
      "['method', 'student', 'learn', 'design', 'model', 'system', 'project', 'analysi', 'present', 'prerequisit']\n",
      "Topic 6:\n",
      "['student', 'method', 'learn', 'model', 'content', 'system', 'analysi', 'design', 'chemic', 'assess']\n",
      "Topic 7:\n",
      "['method', 'student', 'learn', 'content', 'system', 'present', 'cours', 'comput', 'model', 'end']\n",
      "Topic 8:\n",
      "['student', 'learn', 'method', 'content', 'system', 'comput', 'design', 'model', 'applic', 'exercis']\n",
      "Topic 9:\n",
      "['method', 'student', 'learn', 'model', 'content', 'project', 'cours', 'present', 'system', 'prerequisit']\n"
     ]
    }
   ],
   "source": [
    "describe_topics(topics_b_1000)"
   ]
  },
  {
   "cell_type": "markdown",
   "metadata": {},
   "source": [
    "## Exercise 4.10: EPFL's taught subjects"
   ]
  },
  {
   "cell_type": "markdown",
   "metadata": {},
   "source": [
    "For the symmetric distribution, a high alpha-value means that each document is likely to contain a mixture of most of the topics, and not any single topic specifically. A low alpha value puts less such constraints on documents and means that it is more likely that a document may contain mixture of just a few, or even only one, of the topics. Likewise, a high beta-value means that each topic is likely to contain a mixture of most of the words, and not any word specifically, while a low value means that a topic may contain a mixture of just a few of the words."
   ]
  },
  {
   "cell_type": "code",
   "execution_count": 38,
   "metadata": {
    "collapsed": true
   },
   "outputs": [],
   "source": [
    "# Number of sections at EPFL\n",
    "potential_k = len(['Architecture, Civil and Environmental Engineering ENAC',\n",
    "'Basic Sciences SB',\n",
    "'Engineering STI',\n",
    "'Computer and Communication Sciences IC',\n",
    "'Life Sciences SV',\n",
    "'Management of Technology CDM',\n",
    "'College of Humanities CDH'])"
   ]
  },
  {
   "cell_type": "code",
   "execution_count": 39,
   "metadata": {
    "collapsed": false
   },
   "outputs": [
    {
     "data": {
      "text/plain": [
       "7"
      ]
     },
     "execution_count": 39,
     "metadata": {},
     "output_type": "execute_result"
    }
   ],
   "source": [
    "potential_alpha = 1.5\n",
    "potential_beta = 0.5\n",
    "potential_k"
   ]
  },
  {
   "cell_type": "code",
   "execution_count": 40,
   "metadata": {
    "collapsed": true
   },
   "outputs": [],
   "source": [
    "ldaModel_EPFL = LDA.train(corpus,\n",
    "                          k=potential_k,\n",
    "                          seed=1,\n",
    "                          docConcentration=potential_alpha,\n",
    "                          topicConcentration=potential_beta,\n",
    "                          optimizer='online')"
   ]
  },
  {
   "cell_type": "code",
   "execution_count": 41,
   "metadata": {
    "collapsed": true
   },
   "outputs": [],
   "source": [
    "topics_EPFL = ldaModel_EPFL.topicsMatrix()"
   ]
  },
  {
   "cell_type": "code",
   "execution_count": 42,
   "metadata": {
    "collapsed": false
   },
   "outputs": [
    {
     "name": "stdout",
     "output_type": "stream",
     "text": [
      "Topic 0:\n",
      "['learn', 'method', 'student', 'cours', 'model', 'basic', 'system', 'analysi', 'comput', 'project']\n",
      "Topic 1:\n",
      "['student', 'learn', 'content', 'method', 'model', 'lectur', 'design', 'system', 'basic', 'outcom']\n",
      "Topic 2:\n",
      "['student', 'method', 'learn', 'model', 'design', 'project', 'system', 'cours', 'content', 'outcom']\n",
      "Topic 3:\n",
      "['method', 'student', 'learn', 'system', 'design', 'keyword', 'model', 'content', 'research', 'introduct']\n",
      "Topic 4:\n",
      "['method', 'learn', 'student', 'content', 'concept', 'model', 'design', 'system', 'transvers', 'work']\n",
      "Topic 5:\n",
      "['method', 'student', 'learn', 'design', 'system', 'model', 'project', 'analysi', 'present', 'teach']\n",
      "Topic 6:\n",
      "['student', 'learn', 'method', 'model', 'content', 'system', 'analysi', 'design', 'assess', 'keyword']\n"
     ]
    }
   ],
   "source": [
    "describe_topics(topics_EPFL, potential_k)"
   ]
  },
  {
   "cell_type": "markdown",
   "metadata": {},
   "source": [
    "## Exercise 4.11: Wikipedia structure"
   ]
  },
  {
   "cell_type": "code",
   "execution_count": 43,
   "metadata": {
    "collapsed": true
   },
   "outputs": [],
   "source": [
    "from pyspark.sql import Row\n",
    "from collections import OrderedDict\n",
    "import json"
   ]
  },
  {
   "cell_type": "code",
   "execution_count": 44,
   "metadata": {
    "collapsed": true
   },
   "outputs": [],
   "source": [
    "wikipedia_raw = sc.textFile('/ix/wikipedia-for-schools.txt')"
   ]
  },
  {
   "cell_type": "code",
   "execution_count": 45,
   "metadata": {
    "collapsed": false
   },
   "outputs": [],
   "source": [
    "wikipedia_spark_df = wikipedia_raw.map(lambda l: Row(**dict(json.loads(l)))).toDF()"
   ]
  },
  {
   "cell_type": "code",
   "execution_count": 46,
   "metadata": {
    "collapsed": false
   },
   "outputs": [
    {
     "name": "stdout",
     "output_type": "stream",
     "text": [
      "+-------+--------------------+--------------------+\n",
      "|page_id|               title|              tokens|\n",
      "+-------+--------------------+--------------------+\n",
      "|      1|   Áedán mac Gabráin|[áedán, mac, gabr...|\n",
      "|      2|       Åland Islands|[åland, islandssc...|\n",
      "|      3|       Édouard Manet|[édouard, manetsc...|\n",
      "|      4|                Éire|[éireschools, wik...|\n",
      "|      5|     Évariste Galois|[évariste, galois...|\n",
      "|      6|Óengus I of the P...|[óengus, pictssch...|\n",
      "|      7|€2 commemorative ...|[€, commemorative...|\n",
      "|      8|          0 (number)|[numberschools, w...|\n",
      "|      9|   10 Downing Street|[downing, streets...|\n",
      "|     10|        10th century|[centuryschools, ...|\n",
      "|     11|        11th century|[centuryschools, ...|\n",
      "|     12|        12th century|[centuryschools, ...|\n",
      "|     13|        13th century|[centuryschools, ...|\n",
      "|     14|        14th century|[centuryschools, ...|\n",
      "|     15|        15th century|[centuryschools, ...|\n",
      "|     16|            16 Cygni|[cygnischools, wi...|\n",
      "|     17|        16th century|[centuryschools, ...|\n",
      "|     18|                1750|[schools, wikiped...|\n",
      "|     19|                1751|[schools, wikiped...|\n",
      "|     20|                1752|[schools, wikiped...|\n",
      "+-------+--------------------+--------------------+\n",
      "only showing top 20 rows\n",
      "\n"
     ]
    }
   ],
   "source": [
    "wikipedia_spark_df.show()"
   ]
  },
  {
   "cell_type": "code",
   "execution_count": 47,
   "metadata": {
    "collapsed": true
   },
   "outputs": [],
   "source": [
    "from pyspark.ml.feature import CountVectorizer\n",
    "\n",
    "cv = CountVectorizer(inputCol=\"tokens\", outputCol=\"features\")\n",
    "model = cv.fit(wikipedia_spark_df)\n",
    "wikipedia_count_df = model.transform(wikipedia_spark_df)"
   ]
  },
  {
   "cell_type": "code",
   "execution_count": 48,
   "metadata": {
    "collapsed": false
   },
   "outputs": [
    {
     "name": "stdout",
     "output_type": "stream",
     "text": [
      "+-------+--------------------+--------------------+--------------------+\n",
      "|page_id|               title|              tokens|            features|\n",
      "+-------+--------------------+--------------------+--------------------+\n",
      "|      1|   Áedán mac Gabráin|[áedán, mac, gabr...|(262144,[0,1,2,7,...|\n",
      "|      2|       Åland Islands|[åland, islandssc...|(262144,[1,2,3,4,...|\n",
      "|      3|       Édouard Manet|[édouard, manetsc...|(262144,[0,1,2,3,...|\n",
      "|      4|                Éire|[éireschools, wik...|(262144,[7,10,13,...|\n",
      "|      5|     Évariste Galois|[évariste, galois...|(262144,[0,1,2,9,...|\n",
      "|      6|Óengus I of the P...|[óengus, pictssch...|(262144,[0,1,4,9,...|\n",
      "|      7|€2 commemorative ...|[€, commemorative...|(262144,[0,2,3,5,...|\n",
      "|      8|          0 (number)|[numberschools, w...|(262144,[1,3,5,9,...|\n",
      "|      9|   10 Downing Street|[downing, streets...|(262144,[0,1,2,3,...|\n",
      "|     10|        10th century|[centuryschools, ...|(262144,[0,1,2,3,...|\n",
      "|     11|        11th century|[centuryschools, ...|(262144,[0,1,2,3,...|\n",
      "|     12|        12th century|[centuryschools, ...|(262144,[0,1,2,4,...|\n",
      "|     13|        13th century|[centuryschools, ...|(262144,[0,1,2,3,...|\n",
      "|     14|        14th century|[centuryschools, ...|(262144,[0,1,2,4,...|\n",
      "|     15|        15th century|[centuryschools, ...|(262144,[0,1,2,3,...|\n",
      "|     16|            16 Cygni|[cygnischools, wi...|(262144,[2,18,21,...|\n",
      "|     17|        16th century|[centuryschools, ...|(262144,[0,1,2,3,...|\n",
      "|     18|                1750|[schools, wikiped...|(262144,[0,2,3,4,...|\n",
      "|     19|                1751|[schools, wikiped...|(262144,[0,1,2,5,...|\n",
      "|     20|                1752|[schools, wikiped...|(262144,[0,2,6,9,...|\n",
      "+-------+--------------------+--------------------+--------------------+\n",
      "only showing top 20 rows\n",
      "\n"
     ]
    }
   ],
   "source": [
    "wikipedia_count_df.show()"
   ]
  },
  {
   "cell_type": "code",
   "execution_count": 49,
   "metadata": {
    "collapsed": false
   },
   "outputs": [],
   "source": [
    "wiki_corpus = wikipedia_count_df.select(\"page_id\", \"features\").map(list)"
   ]
  },
  {
   "cell_type": "markdown",
   "metadata": {},
   "source": [
    "With k=22 we are aiming at describing main Wikipedia topics:\n",
    "    https://en.wikipedia.org/wiki/Category:Main_topic_classifications"
   ]
  },
  {
   "cell_type": "code",
   "execution_count": 50,
   "metadata": {
    "collapsed": false
   },
   "outputs": [],
   "source": [
    "ldaModel_wikipedia = LDA.train(wiki_corpus,\n",
    "                          k=22,\n",
    "                          seed=1,\n",
    "                          docConcentration=3.0,\n",
    "                          topicConcentration=6.0,\n",
    "                          optimizer='online')"
   ]
  },
  {
   "cell_type": "code",
   "execution_count": 51,
   "metadata": {
    "collapsed": true
   },
   "outputs": [],
   "source": [
    "topics_wikipedia = ldaModel_wikipedia.topicsMatrix()"
   ]
  },
  {
   "cell_type": "code",
   "execution_count": 52,
   "metadata": {
    "collapsed": false
   },
   "outputs": [
    {
     "name": "stdout",
     "output_type": "stream",
     "text": [
      "Topic 0:\n",
      "['–', 'years', 'war', 'time', 'city', 'states', 'world', 'french', 'united', 'made']\n",
      "Topic 1:\n",
      "['leeds', 'city', 'centre', 'park', '–', 'area', 'world', 'european', 'eu', 'north']\n",
      "Topic 2:\n",
      "['–', 'years', 'number', 'leibniz', 'war', 'city', 'people', 'system', 'time', 'century']\n",
      "Topic 3:\n",
      "['sheep', 'number', 'years', 'century', 'states', 'american', 'world', 'contact', 'time', 'system']\n",
      "Topic 4:\n",
      "['world', '–', 'time', 'water', 'century', 'years', 'states', 'found', 'form', 'god']\n",
      "Topic 5:\n",
      "['–', 'oz', 'time', 'world', 'years', 'city', 'states', '·', 'early', 'wine']\n",
      "Topic 6:\n",
      "['space', 'world', '–', 'number', 'years', 'system', 'time', 'united', 'international', 'measurement']\n",
      "Topic 7:\n",
      "['–', 'years', 'number', 'time', 'world', 'called', 'work', 'states', 'found', 'large']\n",
      "Topic 8:\n",
      "['–', 'time', 'years', 'world', 'american', 'war', 'united', 'states', 'city', 'century']\n",
      "Topic 9:\n",
      "['time', '–', 'people', 'number', 'called', 'years', 'including', 'world', 'city', 'states']\n"
     ]
    }
   ],
   "source": [
    "no_of_topics=10\n",
    "no_of_words=10\n",
    "vocab = model.vocabulary\n",
    "\n",
    "for topic in range(no_of_topics):\n",
    "    print(\"Topic \" + str(topic) + \":\")\n",
    "    top_words_idx = np.argsort(topics_wikipedia[:,topic])[::-1][0:no_of_words]\n",
    "    words = []\n",
    "    for word_id in top_words_idx:\n",
    "        words.append(vocab[word_id])\n",
    "    print(words)"
   ]
  },
  {
   "cell_type": "code",
   "execution_count": null,
   "metadata": {
    "collapsed": true
   },
   "outputs": [],
   "source": []
  }
 ],
 "metadata": {
  "anaconda-cloud": {},
  "kernelspec": {
   "display_name": "Python 3",
   "language": "python",
   "name": "python3"
  },
  "language_info": {
   "codemirror_mode": {
    "name": "ipython",
    "version": 3
   },
   "file_extension": ".py",
   "mimetype": "text/x-python",
   "name": "python",
   "nbconvert_exporter": "python",
   "pygments_lexer": "ipython3",
   "version": "3.5.2"
  }
 },
 "nbformat": 4,
 "nbformat_minor": 2
}
